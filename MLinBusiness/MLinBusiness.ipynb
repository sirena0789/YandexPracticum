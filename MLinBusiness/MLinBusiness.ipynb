{
 "cells": [
  {
   "cell_type": "markdown",
   "metadata": {},
   "source": [
    "## Описание проекта"
   ]
  },
  {
   "cell_type": "markdown",
   "metadata": {},
   "source": [
    "Допустим, мы работаем в добывающей компании «ГлавРосГосНефть». Нужно решить, где бурить новую скважину.\n",
    "\n",
    "Нам предоставлены пробы нефти в трёх регионах: в каждом 10 000 месторождений, где измерили качество нефти и объём её запасов. Построим модель машинного обучения, которая поможет определить регион, где добыча принесёт наибольшую прибыль. Проанализируем возможную прибыль и риски техникой *Bootstrap.*\n",
    "\n",
    "Шаги для выбора локации:\n",
    "\n",
    "- В избранном регионе ищут месторождения, для каждого определяют значения признаков;\n",
    "- Строят модель и оценивают объём запасов;\n",
    "- Выбирают месторождения с самым высокими оценками значений. Количество месторождений зависит от бюджета компании и стоимости разработки одной скважины;\n",
    "- Прибыль равна суммарной прибыли отобранных месторождений."
   ]
  },
  {
   "cell_type": "markdown",
   "metadata": {},
   "source": [
    "## Загрузка и подготовка данных"
   ]
  },
  {
   "cell_type": "markdown",
   "metadata": {},
   "source": [
    "Импортируем необходимые библиотеки "
   ]
  },
  {
   "cell_type": "code",
   "execution_count": 1,
   "metadata": {},
   "outputs": [],
   "source": [
    "import pandas as pd\n",
    "import numpy as np\n",
    "import matplotlib.pyplot as plt \n",
    "import itertools\n",
    "\n",
    "from sklearn.model_selection import train_test_split\n",
    "from sklearn.linear_model import LinearRegression\n",
    "from sklearn.pipeline import make_pipeline\n",
    "from sklearn.preprocessing import StandardScaler\n",
    "from sklearn.metrics import mean_squared_error\n",
    "\n",
    "from numpy.random import RandomState\n",
    "RANDOM = 12345\n",
    "state = RandomState(RANDOM) "
   ]
  },
  {
   "cell_type": "markdown",
   "metadata": {},
   "source": [
    "Загрузим и посмторим данные"
   ]
  },
  {
   "cell_type": "code",
   "execution_count": 4,
   "metadata": {},
   "outputs": [],
   "source": [
    "zero_frame = pd.read_csv(\"data_0.csv\")\n",
    "first_frame = pd.read_csv(\"data_1.csv\")\n",
    "second_frame = pd.read_csv(\"data_2.csv\")"
   ]
  },
  {
   "cell_type": "code",
   "execution_count": 5,
   "metadata": {
    "scrolled": true
   },
   "outputs": [
    {
     "data": {
      "text/html": [
       "<div>\n",
       "<style scoped>\n",
       "    .dataframe tbody tr th:only-of-type {\n",
       "        vertical-align: middle;\n",
       "    }\n",
       "\n",
       "    .dataframe tbody tr th {\n",
       "        vertical-align: top;\n",
       "    }\n",
       "\n",
       "    .dataframe thead th {\n",
       "        text-align: right;\n",
       "    }\n",
       "</style>\n",
       "<table border=\"1\" class=\"dataframe\">\n",
       "  <thead>\n",
       "    <tr style=\"text-align: right;\">\n",
       "      <th></th>\n",
       "      <th>id</th>\n",
       "      <th>f0</th>\n",
       "      <th>f1</th>\n",
       "      <th>f2</th>\n",
       "      <th>product</th>\n",
       "    </tr>\n",
       "  </thead>\n",
       "  <tbody>\n",
       "    <tr>\n",
       "      <th>0</th>\n",
       "      <td>txEyH</td>\n",
       "      <td>0.705745</td>\n",
       "      <td>-0.497823</td>\n",
       "      <td>1.221170</td>\n",
       "      <td>105.280062</td>\n",
       "    </tr>\n",
       "    <tr>\n",
       "      <th>1</th>\n",
       "      <td>2acmU</td>\n",
       "      <td>1.334711</td>\n",
       "      <td>-0.340164</td>\n",
       "      <td>4.365080</td>\n",
       "      <td>73.037750</td>\n",
       "    </tr>\n",
       "    <tr>\n",
       "      <th>2</th>\n",
       "      <td>409Wp</td>\n",
       "      <td>1.022732</td>\n",
       "      <td>0.151990</td>\n",
       "      <td>1.419926</td>\n",
       "      <td>85.265647</td>\n",
       "    </tr>\n",
       "    <tr>\n",
       "      <th>3</th>\n",
       "      <td>iJLyR</td>\n",
       "      <td>-0.032172</td>\n",
       "      <td>0.139033</td>\n",
       "      <td>2.978566</td>\n",
       "      <td>168.620776</td>\n",
       "    </tr>\n",
       "    <tr>\n",
       "      <th>4</th>\n",
       "      <td>Xdl7t</td>\n",
       "      <td>1.988431</td>\n",
       "      <td>0.155413</td>\n",
       "      <td>4.751769</td>\n",
       "      <td>154.036647</td>\n",
       "    </tr>\n",
       "  </tbody>\n",
       "</table>\n",
       "</div>"
      ],
      "text/plain": [
       "      id        f0        f1        f2     product\n",
       "0  txEyH  0.705745 -0.497823  1.221170  105.280062\n",
       "1  2acmU  1.334711 -0.340164  4.365080   73.037750\n",
       "2  409Wp  1.022732  0.151990  1.419926   85.265647\n",
       "3  iJLyR -0.032172  0.139033  2.978566  168.620776\n",
       "4  Xdl7t  1.988431  0.155413  4.751769  154.036647"
      ]
     },
     "execution_count": 5,
     "metadata": {},
     "output_type": "execute_result"
    }
   ],
   "source": [
    "zero_frame.head()"
   ]
  },
  {
   "cell_type": "code",
   "execution_count": 6,
   "metadata": {},
   "outputs": [
    {
     "data": {
      "text/html": [
       "<div>\n",
       "<style scoped>\n",
       "    .dataframe tbody tr th:only-of-type {\n",
       "        vertical-align: middle;\n",
       "    }\n",
       "\n",
       "    .dataframe tbody tr th {\n",
       "        vertical-align: top;\n",
       "    }\n",
       "\n",
       "    .dataframe thead th {\n",
       "        text-align: right;\n",
       "    }\n",
       "</style>\n",
       "<table border=\"1\" class=\"dataframe\">\n",
       "  <thead>\n",
       "    <tr style=\"text-align: right;\">\n",
       "      <th></th>\n",
       "      <th>id</th>\n",
       "      <th>f0</th>\n",
       "      <th>f1</th>\n",
       "      <th>f2</th>\n",
       "      <th>product</th>\n",
       "    </tr>\n",
       "  </thead>\n",
       "  <tbody>\n",
       "    <tr>\n",
       "      <th>0</th>\n",
       "      <td>kBEdx</td>\n",
       "      <td>-15.001348</td>\n",
       "      <td>-8.276000</td>\n",
       "      <td>-0.005876</td>\n",
       "      <td>3.179103</td>\n",
       "    </tr>\n",
       "    <tr>\n",
       "      <th>1</th>\n",
       "      <td>62mP7</td>\n",
       "      <td>14.272088</td>\n",
       "      <td>-3.475083</td>\n",
       "      <td>0.999183</td>\n",
       "      <td>26.953261</td>\n",
       "    </tr>\n",
       "    <tr>\n",
       "      <th>2</th>\n",
       "      <td>vyE1P</td>\n",
       "      <td>6.263187</td>\n",
       "      <td>-5.948386</td>\n",
       "      <td>5.001160</td>\n",
       "      <td>134.766305</td>\n",
       "    </tr>\n",
       "    <tr>\n",
       "      <th>3</th>\n",
       "      <td>KcrkZ</td>\n",
       "      <td>-13.081196</td>\n",
       "      <td>-11.506057</td>\n",
       "      <td>4.999415</td>\n",
       "      <td>137.945408</td>\n",
       "    </tr>\n",
       "    <tr>\n",
       "      <th>4</th>\n",
       "      <td>AHL4O</td>\n",
       "      <td>12.702195</td>\n",
       "      <td>-8.147433</td>\n",
       "      <td>5.004363</td>\n",
       "      <td>134.766305</td>\n",
       "    </tr>\n",
       "  </tbody>\n",
       "</table>\n",
       "</div>"
      ],
      "text/plain": [
       "      id         f0         f1        f2     product\n",
       "0  kBEdx -15.001348  -8.276000 -0.005876    3.179103\n",
       "1  62mP7  14.272088  -3.475083  0.999183   26.953261\n",
       "2  vyE1P   6.263187  -5.948386  5.001160  134.766305\n",
       "3  KcrkZ -13.081196 -11.506057  4.999415  137.945408\n",
       "4  AHL4O  12.702195  -8.147433  5.004363  134.766305"
      ]
     },
     "execution_count": 6,
     "metadata": {},
     "output_type": "execute_result"
    }
   ],
   "source": [
    "first_frame.head()"
   ]
  },
  {
   "cell_type": "code",
   "execution_count": 7,
   "metadata": {},
   "outputs": [
    {
     "data": {
      "text/html": [
       "<div>\n",
       "<style scoped>\n",
       "    .dataframe tbody tr th:only-of-type {\n",
       "        vertical-align: middle;\n",
       "    }\n",
       "\n",
       "    .dataframe tbody tr th {\n",
       "        vertical-align: top;\n",
       "    }\n",
       "\n",
       "    .dataframe thead th {\n",
       "        text-align: right;\n",
       "    }\n",
       "</style>\n",
       "<table border=\"1\" class=\"dataframe\">\n",
       "  <thead>\n",
       "    <tr style=\"text-align: right;\">\n",
       "      <th></th>\n",
       "      <th>id</th>\n",
       "      <th>f0</th>\n",
       "      <th>f1</th>\n",
       "      <th>f2</th>\n",
       "      <th>product</th>\n",
       "    </tr>\n",
       "  </thead>\n",
       "  <tbody>\n",
       "    <tr>\n",
       "      <th>0</th>\n",
       "      <td>fwXo0</td>\n",
       "      <td>-1.146987</td>\n",
       "      <td>0.963328</td>\n",
       "      <td>-0.828965</td>\n",
       "      <td>27.758673</td>\n",
       "    </tr>\n",
       "    <tr>\n",
       "      <th>1</th>\n",
       "      <td>WJtFt</td>\n",
       "      <td>0.262778</td>\n",
       "      <td>0.269839</td>\n",
       "      <td>-2.530187</td>\n",
       "      <td>56.069697</td>\n",
       "    </tr>\n",
       "    <tr>\n",
       "      <th>2</th>\n",
       "      <td>ovLUW</td>\n",
       "      <td>0.194587</td>\n",
       "      <td>0.289035</td>\n",
       "      <td>-5.586433</td>\n",
       "      <td>62.871910</td>\n",
       "    </tr>\n",
       "    <tr>\n",
       "      <th>3</th>\n",
       "      <td>q6cA6</td>\n",
       "      <td>2.236060</td>\n",
       "      <td>-0.553760</td>\n",
       "      <td>0.930038</td>\n",
       "      <td>114.572842</td>\n",
       "    </tr>\n",
       "    <tr>\n",
       "      <th>4</th>\n",
       "      <td>WPMUX</td>\n",
       "      <td>-0.515993</td>\n",
       "      <td>1.716266</td>\n",
       "      <td>5.899011</td>\n",
       "      <td>149.600746</td>\n",
       "    </tr>\n",
       "  </tbody>\n",
       "</table>\n",
       "</div>"
      ],
      "text/plain": [
       "      id        f0        f1        f2     product\n",
       "0  fwXo0 -1.146987  0.963328 -0.828965   27.758673\n",
       "1  WJtFt  0.262778  0.269839 -2.530187   56.069697\n",
       "2  ovLUW  0.194587  0.289035 -5.586433   62.871910\n",
       "3  q6cA6  2.236060 -0.553760  0.930038  114.572842\n",
       "4  WPMUX -0.515993  1.716266  5.899011  149.600746"
      ]
     },
     "execution_count": 7,
     "metadata": {},
     "output_type": "execute_result"
    }
   ],
   "source": [
    "second_frame.head()"
   ]
  },
  {
   "cell_type": "code",
   "execution_count": 8,
   "metadata": {},
   "outputs": [
    {
     "name": "stdout",
     "output_type": "stream",
     "text": [
      "<class 'pandas.core.frame.DataFrame'>\n",
      "RangeIndex: 100000 entries, 0 to 99999\n",
      "Data columns (total 5 columns):\n",
      " #   Column   Non-Null Count   Dtype  \n",
      "---  ------   --------------   -----  \n",
      " 0   id       100000 non-null  object \n",
      " 1   f0       100000 non-null  float64\n",
      " 2   f1       100000 non-null  float64\n",
      " 3   f2       100000 non-null  float64\n",
      " 4   product  100000 non-null  float64\n",
      "dtypes: float64(4), object(1)\n",
      "memory usage: 3.8+ MB\n",
      "None\n",
      "<class 'pandas.core.frame.DataFrame'>\n",
      "RangeIndex: 100000 entries, 0 to 99999\n",
      "Data columns (total 5 columns):\n",
      " #   Column   Non-Null Count   Dtype  \n",
      "---  ------   --------------   -----  \n",
      " 0   id       100000 non-null  object \n",
      " 1   f0       100000 non-null  float64\n",
      " 2   f1       100000 non-null  float64\n",
      " 3   f2       100000 non-null  float64\n",
      " 4   product  100000 non-null  float64\n",
      "dtypes: float64(4), object(1)\n",
      "memory usage: 3.8+ MB\n",
      "None\n",
      "<class 'pandas.core.frame.DataFrame'>\n",
      "RangeIndex: 100000 entries, 0 to 99999\n",
      "Data columns (total 5 columns):\n",
      " #   Column   Non-Null Count   Dtype  \n",
      "---  ------   --------------   -----  \n",
      " 0   id       100000 non-null  object \n",
      " 1   f0       100000 non-null  float64\n",
      " 2   f1       100000 non-null  float64\n",
      " 3   f2       100000 non-null  float64\n",
      " 4   product  100000 non-null  float64\n",
      "dtypes: float64(4), object(1)\n",
      "memory usage: 3.8+ MB\n",
      "None\n"
     ]
    }
   ],
   "source": [
    "print(zero_frame.info())\n",
    "print(first_frame.info())\n",
    "print(second_frame.info())"
   ]
  },
  {
   "cell_type": "markdown",
   "metadata": {},
   "source": [
    "Пропусков нет, с типами данных все хорошо"
   ]
  },
  {
   "cell_type": "code",
   "execution_count": 9,
   "metadata": {},
   "outputs": [
    {
     "name": "stdout",
     "output_type": "stream",
     "text": [
      "Количество дубликатов zero_frame: 0\n",
      "Количество дубликатов first_frame: 0\n",
      "Количество дубликатов second_frame: 0\n"
     ]
    }
   ],
   "source": [
    "print('Количество дубликатов zero_frame:', zero_frame.duplicated().sum())\n",
    "print('Количество дубликатов first_frame:', first_frame.duplicated().sum())\n",
    "print('Количество дубликатов second_frame:', second_frame.duplicated().sum())"
   ]
  },
  {
   "cell_type": "markdown",
   "metadata": {},
   "source": [
    "С дубликатами тоже все окей, можно идти дальше"
   ]
  },
  {
   "cell_type": "markdown",
   "metadata": {},
   "source": [
    "## Обучение и проверка модели"
   ]
  },
  {
   "cell_type": "markdown",
   "metadata": {},
   "source": [
    "Разобьем наши выборки на обучающие и валидационные, обучим модели, получим предсказания и посмотрим на значение ошибки для каждого региона"
   ]
  },
  {
   "cell_type": "code",
   "execution_count": 10,
   "metadata": {},
   "outputs": [],
   "source": [
    "def split_model(data):\n",
    "    features = data.drop([\"product\",\"id\"], axis=1)\n",
    "    target = data[\"product\"]\n",
    "    features_train, features_valid, target_train, target_valid = train_test_split(features, target, test_size=0.25, \n",
    "                                                                                  random_state=state)\n",
    "    scaler = StandardScaler()\n",
    "    features_train = scaler.fit_transform(features_train)\n",
    "    features_valid = scaler.transform(features_valid)\n",
    "    model = LinearRegression()\n",
    "    model.fit(features_train, target_train)\n",
    "    predicted = model.predict(features_valid)\n",
    "    predicted = pd.Series(predicted)\n",
    "    rmse = (mean_squared_error(predicted, target_valid))**(0.5)\n",
    "    mean = sum(predicted) / len(predicted)\n",
    "    \n",
    "    print('RMSE:', rmse)\n",
    "    print('Средний запас предсказанного сырья:', mean)\n",
    "    \n",
    "    return (predicted, target_valid.reset_index(drop=True), rmse)"
   ]
  },
  {
   "cell_type": "code",
   "execution_count": 11,
   "metadata": {},
   "outputs": [
    {
     "name": "stdout",
     "output_type": "stream",
     "text": [
      "Нулевой регион\n",
      "RMSE: 37.5794217150813\n",
      "Средний запас предсказанного сырья: 92.59256778438005\n"
     ]
    }
   ],
   "source": [
    "print('Нулевой регион')\n",
    "predict_zero, target_valid_zero, rmse_zero = split_model(zero_frame)"
   ]
  },
  {
   "cell_type": "code",
   "execution_count": 12,
   "metadata": {},
   "outputs": [
    {
     "name": "stdout",
     "output_type": "stream",
     "text": [
      "Первый регион\n",
      "RMSE: 0.8897367737680655\n",
      "Средний запас предсказанного сырья: 68.76995145799783\n"
     ]
    }
   ],
   "source": [
    "print('Первый регион')\n",
    "predict_first, target_valid_first, rmse_first = split_model(first_frame)"
   ]
  },
  {
   "cell_type": "code",
   "execution_count": 13,
   "metadata": {},
   "outputs": [
    {
     "name": "stdout",
     "output_type": "stream",
     "text": [
      "Второй регион\n",
      "RMSE: 39.958042459521614\n",
      "Средний запас предсказанного сырья: 95.0875281225233\n"
     ]
    }
   ],
   "source": [
    "print('Второй регион')\n",
    "predict_second, target_valid_second, rmse_second = split_model(second_frame)"
   ]
  },
  {
   "cell_type": "markdown",
   "metadata": {},
   "source": [
    "**Вывод:**  \n",
    "Рейтинг среднего запаса по регионам:  \n",
    "1. second_frame (94.96)  \n",
    "2. zero_frame (92.59)\n",
    "3. first_frame (68.72)\n",
    "\n",
    "Рейтинг ошибки по регионам:  \n",
    "1. first_frame (0.89)  \n",
    "2. zero_frame (37.57)  \n",
    "3. second_frame (40.02)  "
   ]
  },
  {
   "cell_type": "markdown",
   "metadata": {},
   "source": [
    "## Подготовка к расчёту прибыли"
   ]
  },
  {
   "cell_type": "markdown",
   "metadata": {},
   "source": [
    "Все ключевые значения для расчётов сохраним в отдельных переменных."
   ]
  },
  {
   "cell_type": "code",
   "execution_count": 14,
   "metadata": {},
   "outputs": [
    {
     "name": "stdout",
     "output_type": "stream",
     "text": [
      "Объем сырья для безубыточной разработки новой скважины: 0.111\n"
     ]
    }
   ],
   "source": [
    "BUDGET = 10**10\n",
    "MAX_POINTS = 500\n",
    "POINTS = 200\n",
    "INCOME = 450000\n",
    "LOSS_PROBABILITY =  0.025\n",
    "PLAN = (BUDGET/(INCOME*(10**3)))/POINTS\n",
    "print('Объем сырья для безубыточной разработки новой скважины:', round(PLAN,3))"
   ]
  },
  {
   "cell_type": "markdown",
   "metadata": {},
   "source": [
    "**Вывод:** \n",
    "Объем сырья для безубыточной разработки новой скважины равен 111.111, что выше чем средний запас предсказанного сырья в каждом из регионов."
   ]
  },
  {
   "cell_type": "markdown",
   "metadata": {},
   "source": [
    "## Расчёт прибыли и рисков "
   ]
  },
  {
   "cell_type": "code",
   "execution_count": 15,
   "metadata": {},
   "outputs": [],
   "source": [
    "def earnings(target_valid, predicted):\n",
    "    sort = predicted.sort_values(ascending=False)[:POINTS]\n",
    "    target_sort = target_valid[sort.index][:POINTS]\n",
    "    target = target_sort.sum() \n",
    "    return round(target * INCOME - BUDGET,2)"
   ]
  },
  {
   "cell_type": "code",
   "execution_count": 16,
   "metadata": {},
   "outputs": [
    {
     "name": "stdout",
     "output_type": "stream",
     "text": [
      "Прибыль в нулевом регионе: 3320826043.14\n",
      "Прибыль в первом регионе: 2415086696.68\n",
      "Прибыль во втором регионе: 2539915945.84\n"
     ]
    }
   ],
   "source": [
    "print('Прибыль в нулевом регионе:', earnings(target_valid_zero,\n",
    "                                                               predict_zero))\n",
    "print('Прибыль в первом регионе:', earnings(target_valid_first,\n",
    "                                                               predict_first))\n",
    "print('Прибыль во втором регионе:', earnings(target_valid_second,\n",
    "                                                               predict_second))"
   ]
  },
  {
   "cell_type": "code",
   "execution_count": 17,
   "metadata": {},
   "outputs": [],
   "source": [
    "def confidence(target_valid, predicted):\n",
    "    samples = []\n",
    "    for i in range(1000):\n",
    "        target_sample = target_valid.sample(n=MAX_POINTS, replace=True, random_state=state)\n",
    "        predictions_sample = predicted[target_sample.index]\n",
    "        samples.append(earnings(target_valid, predictions_sample))\n",
    "    samples = pd.Series(samples)\n",
    "    print('Средняя выручка:', samples.mean())\n",
    "    print('Риск убытков:', samples.apply(lambda x: x < 0).sum()/len(samples)*100,\"%\")\n",
    "    \n",
    "    lower = samples.quantile(0.025)\n",
    "    upper = samples.quantile(0.975)\n",
    "    return round(lower,2), round(upper,2)"
   ]
  },
  {
   "cell_type": "code",
   "execution_count": 18,
   "metadata": {
    "scrolled": true
   },
   "outputs": [
    {
     "name": "stdout",
     "output_type": "stream",
     "text": [
      "Средняя выручка: 394284411.3404697\n",
      "Риск убытков: 6.1 %\n",
      "Доверительный итервал для нулевового региона : (-69450566.85, 915496165.83)\n",
      "Средняя выручка: 454736359.0974699\n",
      "Риск убытков: 0.7000000000000001 %\n",
      "Доверительный итервал для первого региона : (61071811.3, 855914149.14)\n",
      "Средняя выручка: 353664097.52485\n",
      "Риск убытков: 7.6 %\n",
      "Доверительный итервал для второго региона : (-162650946.94, 847761844.51)\n"
     ]
    }
   ],
   "source": [
    "print('Доверительный итервал для нулевового региона :',\n",
    "      confidence(target_valid_zero, predict_zero))\n",
    "print('Доверительный итервал для первого региона :',\n",
    "      confidence(target_valid_first, predict_first))\n",
    "print('Доверительный итервал для второго региона :',\n",
    "      confidence(target_valid_second, predict_second))"
   ]
  },
  {
   "cell_type": "markdown",
   "metadata": {},
   "source": [
    "## Вывод  \n",
    "\n",
    "Итак, по результатам исследования для разработки месторождения нам подходит только первый регион, так как риск убытков у него минимальный (и единственный проходящий порог [если я верно посчитала эти риски] ).  \n",
    "Результаты лучшего региона:  \n",
    "Средняя выручка: 454736359.09747005  \n",
    "Риск убытков: 0.7000000000000001 %  \n",
    "Доверительный итервал для первого региона : (61071811.3, 855914149.14)  "
   ]
  }
 ],
 "metadata": {
  "ExecuteTimeLog": [
   {
    "duration": 1388,
    "start_time": "2023-02-06T21:37:33.226Z"
   },
   {
    "duration": 1480,
    "start_time": "2023-02-06T21:37:34.979Z"
   },
   {
    "duration": 14,
    "start_time": "2023-02-06T21:38:14.392Z"
   },
   {
    "duration": 9,
    "start_time": "2023-02-06T21:38:45.911Z"
   },
   {
    "duration": 9,
    "start_time": "2023-02-06T21:38:48.493Z"
   },
   {
    "duration": 33,
    "start_time": "2023-02-06T21:39:49.286Z"
   },
   {
    "duration": 65,
    "start_time": "2023-02-06T21:42:25.198Z"
   },
   {
    "duration": 112,
    "start_time": "2023-02-06T21:42:41.042Z"
   },
   {
    "duration": 1539,
    "start_time": "2023-02-07T11:41:28.622Z"
   },
   {
    "duration": 1069,
    "start_time": "2023-02-07T11:41:30.164Z"
   },
   {
    "duration": 14,
    "start_time": "2023-02-07T11:41:31.235Z"
   },
   {
    "duration": 42,
    "start_time": "2023-02-07T11:41:31.251Z"
   },
   {
    "duration": 53,
    "start_time": "2023-02-07T11:41:31.296Z"
   },
   {
    "duration": 49,
    "start_time": "2023-02-07T11:41:31.351Z"
   },
   {
    "duration": 131,
    "start_time": "2023-02-07T11:41:31.402Z"
   },
   {
    "duration": 280,
    "start_time": "2023-02-07T11:41:31.535Z"
   },
   {
    "duration": 40,
    "start_time": "2023-02-07T11:54:01.063Z"
   },
   {
    "duration": 10,
    "start_time": "2023-02-07T11:57:34.325Z"
   },
   {
    "duration": 8,
    "start_time": "2023-02-07T11:58:06.799Z"
   },
   {
    "duration": 10,
    "start_time": "2023-02-07T11:59:13.987Z"
   },
   {
    "duration": 1461,
    "start_time": "2023-02-08T13:17:54.440Z"
   },
   {
    "duration": 1510,
    "start_time": "2023-02-08T13:17:55.904Z"
   },
   {
    "duration": 12,
    "start_time": "2023-02-08T13:17:57.416Z"
   },
   {
    "duration": 26,
    "start_time": "2023-02-08T13:17:57.429Z"
   },
   {
    "duration": 23,
    "start_time": "2023-02-08T13:17:57.457Z"
   },
   {
    "duration": 35,
    "start_time": "2023-02-08T13:17:57.481Z"
   },
   {
    "duration": 104,
    "start_time": "2023-02-08T13:17:57.518Z"
   },
   {
    "duration": 36,
    "start_time": "2023-02-08T13:17:57.624Z"
   },
   {
    "duration": 103,
    "start_time": "2023-02-08T13:17:57.661Z"
   },
   {
    "duration": 0,
    "start_time": "2023-02-08T13:17:57.766Z"
   },
   {
    "duration": 22,
    "start_time": "2023-02-08T13:18:11.044Z"
   },
   {
    "duration": 23,
    "start_time": "2023-02-08T13:18:41.536Z"
   },
   {
    "duration": 8,
    "start_time": "2023-02-08T13:18:51.585Z"
   },
   {
    "duration": 109,
    "start_time": "2023-02-08T13:19:24.717Z"
   },
   {
    "duration": 19,
    "start_time": "2023-02-08T13:21:16.803Z"
   },
   {
    "duration": 24,
    "start_time": "2023-02-08T13:21:24.858Z"
   },
   {
    "duration": 17,
    "start_time": "2023-02-08T13:22:29.192Z"
   },
   {
    "duration": 22,
    "start_time": "2023-02-08T13:22:35.295Z"
   },
   {
    "duration": 20,
    "start_time": "2023-02-08T13:24:07.805Z"
   },
   {
    "duration": 17,
    "start_time": "2023-02-08T13:26:25.945Z"
   },
   {
    "duration": 19,
    "start_time": "2023-02-08T13:31:28.074Z"
   },
   {
    "duration": 3,
    "start_time": "2023-02-08T13:47:23.802Z"
   },
   {
    "duration": 4,
    "start_time": "2023-02-08T13:47:32.254Z"
   },
   {
    "duration": 4,
    "start_time": "2023-02-08T13:47:52.031Z"
   },
   {
    "duration": 4,
    "start_time": "2023-02-08T13:48:32.686Z"
   },
   {
    "duration": 4,
    "start_time": "2023-02-08T13:48:37.183Z"
   },
   {
    "duration": 4,
    "start_time": "2023-02-08T13:48:56.858Z"
   },
   {
    "duration": 4,
    "start_time": "2023-02-08T13:49:58.394Z"
   },
   {
    "duration": 4,
    "start_time": "2023-02-08T13:50:05.135Z"
   },
   {
    "duration": 4,
    "start_time": "2023-02-08T13:50:38.263Z"
   },
   {
    "duration": 3,
    "start_time": "2023-02-08T13:54:18.225Z"
   },
   {
    "duration": 3,
    "start_time": "2023-02-08T14:50:44.987Z"
   },
   {
    "duration": 18,
    "start_time": "2023-02-08T14:50:45.519Z"
   },
   {
    "duration": 3,
    "start_time": "2023-02-08T14:51:49.718Z"
   },
   {
    "duration": 13,
    "start_time": "2023-02-08T14:51:50.963Z"
   },
   {
    "duration": 4,
    "start_time": "2023-02-08T14:54:09.959Z"
   },
   {
    "duration": 10,
    "start_time": "2023-02-08T14:54:31.460Z"
   },
   {
    "duration": 10,
    "start_time": "2023-02-08T14:55:33.665Z"
   },
   {
    "duration": 5,
    "start_time": "2023-02-08T14:55:38.782Z"
   },
   {
    "duration": 3246,
    "start_time": "2023-02-08T14:55:39.404Z"
   },
   {
    "duration": 3,
    "start_time": "2023-02-08T14:56:32.780Z"
   },
   {
    "duration": 17,
    "start_time": "2023-02-08T14:56:34.124Z"
   },
   {
    "duration": 4,
    "start_time": "2023-02-08T14:56:35.122Z"
   },
   {
    "duration": 3255,
    "start_time": "2023-02-08T14:56:36.031Z"
   },
   {
    "duration": 3,
    "start_time": "2023-02-08T15:00:38.170Z"
   },
   {
    "duration": 3294,
    "start_time": "2023-02-08T15:00:40.160Z"
   },
   {
    "duration": 3250,
    "start_time": "2023-02-08T15:03:36.261Z"
   },
   {
    "duration": 3244,
    "start_time": "2023-02-08T15:04:16.564Z"
   },
   {
    "duration": 4,
    "start_time": "2023-02-08T15:05:08.094Z"
   },
   {
    "duration": 3512,
    "start_time": "2023-02-08T15:05:09.180Z"
   },
   {
    "duration": 16,
    "start_time": "2023-02-08T15:14:30.166Z"
   },
   {
    "duration": 3430,
    "start_time": "2023-02-08T21:31:28.865Z"
   },
   {
    "duration": 405,
    "start_time": "2023-02-08T21:31:32.297Z"
   },
   {
    "duration": 15,
    "start_time": "2023-02-08T21:31:32.704Z"
   },
   {
    "duration": 9,
    "start_time": "2023-02-08T21:31:32.721Z"
   },
   {
    "duration": 13,
    "start_time": "2023-02-08T21:31:32.732Z"
   },
   {
    "duration": 67,
    "start_time": "2023-02-08T21:31:32.747Z"
   },
   {
    "duration": 133,
    "start_time": "2023-02-08T21:31:32.816Z"
   },
   {
    "duration": 43,
    "start_time": "2023-02-08T21:31:32.951Z"
   },
   {
    "duration": 76,
    "start_time": "2023-02-08T21:31:32.996Z"
   },
   {
    "duration": 109,
    "start_time": "2023-02-08T21:31:33.075Z"
   },
   {
    "duration": 190,
    "start_time": "2023-02-08T21:31:33.186Z"
   },
   {
    "duration": 92,
    "start_time": "2023-02-08T21:31:33.378Z"
   },
   {
    "duration": 107,
    "start_time": "2023-02-08T21:31:33.472Z"
   },
   {
    "duration": 24,
    "start_time": "2023-02-08T21:31:33.582Z"
   },
   {
    "duration": 4,
    "start_time": "2023-02-08T21:31:33.607Z"
   },
   {
    "duration": 3669,
    "start_time": "2023-02-08T21:31:33.612Z"
   },
   {
    "duration": 6,
    "start_time": "2023-02-08T21:33:09.705Z"
   },
   {
    "duration": 5,
    "start_time": "2023-02-08T21:33:24.844Z"
   },
   {
    "duration": 3,
    "start_time": "2023-02-08T21:34:03.829Z"
   },
   {
    "duration": 5,
    "start_time": "2023-02-08T21:34:04.076Z"
   },
   {
    "duration": 17,
    "start_time": "2023-02-08T21:34:06.844Z"
   },
   {
    "duration": 4,
    "start_time": "2023-02-08T21:34:55.568Z"
   },
   {
    "duration": 3,
    "start_time": "2023-02-08T21:34:59.476Z"
   },
   {
    "duration": 3,
    "start_time": "2023-02-08T21:35:39.501Z"
   },
   {
    "duration": 15,
    "start_time": "2023-02-08T21:35:39.849Z"
   },
   {
    "duration": 4,
    "start_time": "2023-02-08T21:35:40.046Z"
   },
   {
    "duration": 3493,
    "start_time": "2023-02-08T21:35:41.499Z"
   },
   {
    "duration": 4,
    "start_time": "2023-02-08T21:36:14.040Z"
   },
   {
    "duration": 113,
    "start_time": "2023-02-08T21:36:14.638Z"
   },
   {
    "duration": 4,
    "start_time": "2023-02-08T21:36:26.881Z"
   },
   {
    "duration": 4,
    "start_time": "2023-02-08T21:36:29.376Z"
   },
   {
    "duration": 30,
    "start_time": "2023-02-08T21:36:29.920Z"
   },
   {
    "duration": 6,
    "start_time": "2023-02-08T21:36:51.401Z"
   },
   {
    "duration": 4,
    "start_time": "2023-02-08T21:38:35.917Z"
   },
   {
    "duration": 15,
    "start_time": "2023-02-08T21:38:36.238Z"
   },
   {
    "duration": 5,
    "start_time": "2023-02-08T21:38:39.040Z"
   },
   {
    "duration": 3569,
    "start_time": "2023-02-08T21:38:39.843Z"
   },
   {
    "duration": 1581,
    "start_time": "2023-02-09T19:04:57.673Z"
   },
   {
    "duration": 1569,
    "start_time": "2023-02-09T19:04:59.257Z"
   },
   {
    "duration": 17,
    "start_time": "2023-02-09T19:05:00.828Z"
   },
   {
    "duration": 41,
    "start_time": "2023-02-09T19:05:00.847Z"
   },
   {
    "duration": 50,
    "start_time": "2023-02-09T19:05:00.890Z"
   },
   {
    "duration": 80,
    "start_time": "2023-02-09T19:05:00.942Z"
   },
   {
    "duration": 184,
    "start_time": "2023-02-09T19:05:01.024Z"
   },
   {
    "duration": 49,
    "start_time": "2023-02-09T19:05:01.213Z"
   },
   {
    "duration": 46,
    "start_time": "2023-02-09T19:05:01.264Z"
   },
   {
    "duration": 191,
    "start_time": "2023-02-09T19:05:01.313Z"
   },
   {
    "duration": 138,
    "start_time": "2023-02-09T19:05:01.506Z"
   },
   {
    "duration": 6,
    "start_time": "2023-02-09T19:05:01.646Z"
   },
   {
    "duration": 171,
    "start_time": "2023-02-09T19:05:01.654Z"
   },
   {
    "duration": 40,
    "start_time": "2023-02-09T19:05:01.829Z"
   },
   {
    "duration": 5,
    "start_time": "2023-02-09T19:05:01.871Z"
   },
   {
    "duration": 4281,
    "start_time": "2023-02-09T19:05:01.878Z"
   },
   {
    "duration": 4,
    "start_time": "2023-02-09T19:11:26.539Z"
   },
   {
    "duration": 137,
    "start_time": "2023-02-09T19:11:34.059Z"
   },
   {
    "duration": 4,
    "start_time": "2023-02-09T19:15:33.406Z"
   },
   {
    "duration": 21,
    "start_time": "2023-02-09T19:15:36.936Z"
   },
   {
    "duration": 5,
    "start_time": "2023-02-09T19:16:43.587Z"
   },
   {
    "duration": 42,
    "start_time": "2023-02-09T19:16:44.806Z"
   },
   {
    "duration": 4,
    "start_time": "2023-02-09T19:20:24.330Z"
   },
   {
    "duration": 15,
    "start_time": "2023-02-09T19:20:25.503Z"
   },
   {
    "duration": 4,
    "start_time": "2023-02-09T19:20:27.758Z"
   },
   {
    "duration": 21,
    "start_time": "2023-02-09T19:20:28.726Z"
   },
   {
    "duration": 3,
    "start_time": "2023-02-09T19:20:36.657Z"
   },
   {
    "duration": 3740,
    "start_time": "2023-02-09T19:20:37.541Z"
   },
   {
    "duration": 5,
    "start_time": "2023-02-09T19:33:39.141Z"
   },
   {
    "duration": 19,
    "start_time": "2023-02-09T19:33:40.293Z"
   },
   {
    "duration": 5,
    "start_time": "2023-02-09T19:34:58.564Z"
   },
   {
    "duration": 16,
    "start_time": "2023-02-09T19:34:59.445Z"
   },
   {
    "duration": 6,
    "start_time": "2023-02-09T19:38:42.599Z"
   },
   {
    "duration": 34,
    "start_time": "2023-02-09T19:38:44.015Z"
   },
   {
    "duration": 6,
    "start_time": "2023-02-09T19:41:00.464Z"
   },
   {
    "duration": 5,
    "start_time": "2023-02-09T19:41:20.845Z"
   },
   {
    "duration": 4,
    "start_time": "2023-02-09T19:41:30.873Z"
   },
   {
    "duration": 9,
    "start_time": "2023-02-09T19:41:35.625Z"
   },
   {
    "duration": 4,
    "start_time": "2023-02-09T19:41:40.899Z"
   },
   {
    "duration": 4,
    "start_time": "2023-02-09T19:45:03.300Z"
   },
   {
    "duration": 7,
    "start_time": "2023-02-09T19:45:04.213Z"
   },
   {
    "duration": 26,
    "start_time": "2023-02-09T19:45:07.282Z"
   },
   {
    "duration": 5,
    "start_time": "2023-02-09T19:51:18.847Z"
   },
   {
    "duration": 4,
    "start_time": "2023-02-09T19:55:03.638Z"
   },
   {
    "duration": 5,
    "start_time": "2023-02-09T19:55:05.290Z"
   },
   {
    "duration": 20,
    "start_time": "2023-02-09T19:55:08.682Z"
   },
   {
    "duration": 21,
    "start_time": "2023-02-09T19:55:32.459Z"
   },
   {
    "duration": 5,
    "start_time": "2023-02-09T19:57:28.139Z"
   },
   {
    "duration": 5,
    "start_time": "2023-02-09T19:57:29.283Z"
   },
   {
    "duration": 21,
    "start_time": "2023-02-09T19:57:32.018Z"
   },
   {
    "duration": 32,
    "start_time": "2023-02-09T20:01:31.083Z"
   },
   {
    "duration": 16,
    "start_time": "2023-02-09T20:01:32.071Z"
   },
   {
    "duration": 14,
    "start_time": "2023-02-09T20:01:33.577Z"
   },
   {
    "duration": 22,
    "start_time": "2023-02-09T20:01:34.078Z"
   },
   {
    "duration": 4,
    "start_time": "2023-02-09T20:01:36.675Z"
   },
   {
    "duration": 3,
    "start_time": "2023-02-09T20:01:41.327Z"
   },
   {
    "duration": 15,
    "start_time": "2023-02-09T20:01:43.267Z"
   },
   {
    "duration": 4,
    "start_time": "2023-02-09T20:01:48.192Z"
   },
   {
    "duration": 4278,
    "start_time": "2023-02-09T20:01:56.480Z"
   },
   {
    "duration": 4,
    "start_time": "2023-02-09T20:03:14.782Z"
   },
   {
    "duration": 4099,
    "start_time": "2023-02-09T20:03:18.356Z"
   },
   {
    "duration": 4,
    "start_time": "2023-02-09T20:03:37.786Z"
   },
   {
    "duration": 4216,
    "start_time": "2023-02-09T20:03:41.540Z"
   },
   {
    "duration": 5,
    "start_time": "2023-02-09T20:11:14.263Z"
   },
   {
    "duration": 5,
    "start_time": "2023-02-09T20:21:53.729Z"
   },
   {
    "duration": 23,
    "start_time": "2023-02-09T20:21:56.151Z"
   },
   {
    "duration": 4,
    "start_time": "2023-02-09T20:22:55.872Z"
   },
   {
    "duration": 59,
    "start_time": "2023-02-09T20:22:57.237Z"
   },
   {
    "duration": 5,
    "start_time": "2023-02-09T20:23:13.517Z"
   },
   {
    "duration": 74,
    "start_time": "2023-02-09T20:23:16.326Z"
   },
   {
    "duration": 6,
    "start_time": "2023-02-09T20:23:24.575Z"
   },
   {
    "duration": 35,
    "start_time": "2023-02-09T20:23:25.645Z"
   },
   {
    "duration": 107,
    "start_time": "2023-02-09T20:24:02.490Z"
   },
   {
    "duration": 39,
    "start_time": "2023-02-09T20:24:47.280Z"
   },
   {
    "duration": 4,
    "start_time": "2023-02-09T20:27:40.257Z"
   },
   {
    "duration": 5,
    "start_time": "2023-02-09T20:31:17.426Z"
   },
   {
    "duration": 4,
    "start_time": "2023-02-09T20:33:30.365Z"
   },
   {
    "duration": 37,
    "start_time": "2023-02-09T20:33:30.767Z"
   },
   {
    "duration": 37,
    "start_time": "2023-02-09T20:33:31.382Z"
   },
   {
    "duration": 59,
    "start_time": "2023-02-09T20:33:31.935Z"
   },
   {
    "duration": 4,
    "start_time": "2023-02-09T20:33:35.265Z"
   },
   {
    "duration": 3,
    "start_time": "2023-02-09T20:33:37.674Z"
   },
   {
    "duration": 16,
    "start_time": "2023-02-09T20:33:39.898Z"
   },
   {
    "duration": 3,
    "start_time": "2023-02-09T20:34:23.927Z"
   },
   {
    "duration": 14,
    "start_time": "2023-02-09T20:34:25.634Z"
   },
   {
    "duration": 4,
    "start_time": "2023-02-09T20:42:09.009Z"
   },
   {
    "duration": 3421,
    "start_time": "2023-02-09T20:43:35.606Z"
   },
   {
    "duration": 5,
    "start_time": "2023-02-09T20:46:45.614Z"
   },
   {
    "duration": 14,
    "start_time": "2023-02-09T20:46:46.198Z"
   },
   {
    "duration": 4,
    "start_time": "2023-02-09T20:46:52.106Z"
   },
   {
    "duration": 5,
    "start_time": "2023-02-09T20:46:56.932Z"
   },
   {
    "duration": 101,
    "start_time": "2023-02-09T20:46:58.706Z"
   },
   {
    "duration": 51,
    "start_time": "2023-02-09T20:47:01.958Z"
   },
   {
    "duration": 113,
    "start_time": "2023-02-09T20:47:03.492Z"
   },
   {
    "duration": 4,
    "start_time": "2023-02-09T20:47:24.406Z"
   },
   {
    "duration": 2797,
    "start_time": "2023-02-09T20:47:30.138Z"
   },
   {
    "duration": 4,
    "start_time": "2023-02-09T21:10:56.406Z"
   },
   {
    "duration": 374,
    "start_time": "2023-02-09T21:10:56.412Z"
   },
   {
    "duration": 10,
    "start_time": "2023-02-09T21:10:56.787Z"
   },
   {
    "duration": 11,
    "start_time": "2023-02-09T21:10:56.798Z"
   },
   {
    "duration": 11,
    "start_time": "2023-02-09T21:10:56.812Z"
   },
   {
    "duration": 39,
    "start_time": "2023-02-09T21:10:56.824Z"
   },
   {
    "duration": 134,
    "start_time": "2023-02-09T21:10:56.864Z"
   },
   {
    "duration": 5,
    "start_time": "2023-02-09T21:10:57.000Z"
   },
   {
    "duration": 188,
    "start_time": "2023-02-09T21:10:57.006Z"
   },
   {
    "duration": 101,
    "start_time": "2023-02-09T21:10:57.196Z"
   },
   {
    "duration": 203,
    "start_time": "2023-02-09T21:10:57.299Z"
   },
   {
    "duration": 87,
    "start_time": "2023-02-09T21:10:57.507Z"
   },
   {
    "duration": 3,
    "start_time": "2023-02-09T21:10:57.596Z"
   },
   {
    "duration": 27,
    "start_time": "2023-02-09T21:10:57.602Z"
   },
   {
    "duration": 4,
    "start_time": "2023-02-09T21:10:57.631Z"
   },
   {
    "duration": 2682,
    "start_time": "2023-02-09T21:10:57.637Z"
   }
  ],
  "kernelspec": {
   "display_name": "Python 3 (ipykernel)",
   "language": "python",
   "name": "python3"
  },
  "language_info": {
   "codemirror_mode": {
    "name": "ipython",
    "version": 3
   },
   "file_extension": ".py",
   "mimetype": "text/x-python",
   "name": "python",
   "nbconvert_exporter": "python",
   "pygments_lexer": "ipython3",
   "version": "3.9.17"
  },
  "toc": {
   "base_numbering": 1,
   "nav_menu": {},
   "number_sections": true,
   "sideBar": true,
   "skip_h1_title": true,
   "title_cell": "Table of Contents",
   "title_sidebar": "Contents",
   "toc_cell": false,
   "toc_position": {},
   "toc_section_display": true,
   "toc_window_display": false
  }
 },
 "nbformat": 4,
 "nbformat_minor": 2
}
