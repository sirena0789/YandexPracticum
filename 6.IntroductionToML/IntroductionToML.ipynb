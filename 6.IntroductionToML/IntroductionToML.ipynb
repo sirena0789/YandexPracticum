{
 "cells": [
  {
   "cell_type": "markdown",
   "metadata": {},
   "source": [
    "## Описание проекта"
   ]
  },
  {
   "cell_type": "markdown",
   "metadata": {},
   "source": [
    "Оператор мобильной связи «Мегалайн» выяснил: многие клиенты пользуются архивными тарифами. Они хотят построить систему, способную проанализировать поведение клиентов и предложить пользователям новый тариф: «Смарт» или «Ультра».  \n",
    "В вашем распоряжении данные о поведении клиентов, которые уже перешли на эти тарифы. Нужно построить модель для задачи классификации, которая выберет подходящий тариф. Предобработка данных не понадобится — вы её уже сделали."
   ]
  },
  {
   "cell_type": "markdown",
   "metadata": {},
   "source": [
    "## Знакомство с данными"
   ]
  },
  {
   "cell_type": "markdown",
   "metadata": {},
   "source": [
    "Импортируем библиотеки"
   ]
  },
  {
   "cell_type": "code",
   "execution_count": 2,
   "metadata": {},
   "outputs": [],
   "source": [
    "import pandas as pd\n",
    "\n",
    "from sklearn.model_selection import train_test_split\n",
    "\n",
    "from sklearn.tree import DecisionTreeClassifier\n",
    "from sklearn.linear_model import LogisticRegression\n",
    "from sklearn.ensemble import RandomForestClassifier\n",
    "from sklearn.dummy import DummyClassifier"
   ]
  },
  {
   "cell_type": "markdown",
   "metadata": {},
   "source": [
    "Загружаем наш датасет"
   ]
  },
  {
   "cell_type": "code",
   "execution_count": 3,
   "metadata": {},
   "outputs": [],
   "source": [
    "df = pd.read_csv('/Users/sirena0789/Downloads/users_behavior.csv')"
   ]
  },
  {
   "cell_type": "markdown",
   "metadata": {},
   "source": [
    "Смотрим первые 5 строк и названия колонок"
   ]
  },
  {
   "cell_type": "code",
   "execution_count": 4,
   "metadata": {
    "scrolled": true
   },
   "outputs": [
    {
     "data": {
      "text/html": [
       "<div>\n",
       "<style scoped>\n",
       "    .dataframe tbody tr th:only-of-type {\n",
       "        vertical-align: middle;\n",
       "    }\n",
       "\n",
       "    .dataframe tbody tr th {\n",
       "        vertical-align: top;\n",
       "    }\n",
       "\n",
       "    .dataframe thead th {\n",
       "        text-align: right;\n",
       "    }\n",
       "</style>\n",
       "<table border=\"1\" class=\"dataframe\">\n",
       "  <thead>\n",
       "    <tr style=\"text-align: right;\">\n",
       "      <th></th>\n",
       "      <th>calls</th>\n",
       "      <th>minutes</th>\n",
       "      <th>messages</th>\n",
       "      <th>mb_used</th>\n",
       "      <th>is_ultra</th>\n",
       "    </tr>\n",
       "  </thead>\n",
       "  <tbody>\n",
       "    <tr>\n",
       "      <th>0</th>\n",
       "      <td>40.0</td>\n",
       "      <td>311.90</td>\n",
       "      <td>83.0</td>\n",
       "      <td>19915.42</td>\n",
       "      <td>0</td>\n",
       "    </tr>\n",
       "    <tr>\n",
       "      <th>1</th>\n",
       "      <td>85.0</td>\n",
       "      <td>516.75</td>\n",
       "      <td>56.0</td>\n",
       "      <td>22696.96</td>\n",
       "      <td>0</td>\n",
       "    </tr>\n",
       "    <tr>\n",
       "      <th>2</th>\n",
       "      <td>77.0</td>\n",
       "      <td>467.66</td>\n",
       "      <td>86.0</td>\n",
       "      <td>21060.45</td>\n",
       "      <td>0</td>\n",
       "    </tr>\n",
       "    <tr>\n",
       "      <th>3</th>\n",
       "      <td>106.0</td>\n",
       "      <td>745.53</td>\n",
       "      <td>81.0</td>\n",
       "      <td>8437.39</td>\n",
       "      <td>1</td>\n",
       "    </tr>\n",
       "    <tr>\n",
       "      <th>4</th>\n",
       "      <td>66.0</td>\n",
       "      <td>418.74</td>\n",
       "      <td>1.0</td>\n",
       "      <td>14502.75</td>\n",
       "      <td>0</td>\n",
       "    </tr>\n",
       "  </tbody>\n",
       "</table>\n",
       "</div>"
      ],
      "text/plain": [
       "   calls  minutes  messages   mb_used  is_ultra\n",
       "0   40.0   311.90      83.0  19915.42         0\n",
       "1   85.0   516.75      56.0  22696.96         0\n",
       "2   77.0   467.66      86.0  21060.45         0\n",
       "3  106.0   745.53      81.0   8437.39         1\n",
       "4   66.0   418.74       1.0  14502.75         0"
      ]
     },
     "execution_count": 4,
     "metadata": {},
     "output_type": "execute_result"
    }
   ],
   "source": [
    "df.head()"
   ]
  },
  {
   "cell_type": "markdown",
   "metadata": {},
   "source": [
    "Изучаем информацию о датасете"
   ]
  },
  {
   "cell_type": "code",
   "execution_count": 5,
   "metadata": {
    "scrolled": true
   },
   "outputs": [
    {
     "name": "stdout",
     "output_type": "stream",
     "text": [
      "<class 'pandas.core.frame.DataFrame'>\n",
      "RangeIndex: 3214 entries, 0 to 3213\n",
      "Data columns (total 5 columns):\n",
      " #   Column    Non-Null Count  Dtype  \n",
      "---  ------    --------------  -----  \n",
      " 0   calls     3214 non-null   float64\n",
      " 1   minutes   3214 non-null   float64\n",
      " 2   messages  3214 non-null   float64\n",
      " 3   mb_used   3214 non-null   float64\n",
      " 4   is_ultra  3214 non-null   int64  \n",
      "dtypes: float64(4), int64(1)\n",
      "memory usage: 125.7 KB\n"
     ]
    }
   ],
   "source": [
    "df.info()"
   ]
  },
  {
   "cell_type": "markdown",
   "metadata": {},
   "source": [
    "**Вывод:**  \n",
    "Всего имеется 3214 строк для обучения и теста.  \n",
    "К признакам тут можно отнести количество звонков, суммарную длительность звонков в минутах,  количество sms-сообщений, израсходованный интернет-трафик в Мб, а вот каким тарифом пользовался в течение месяца абонент - целевой признак."
   ]
  },
  {
   "cell_type": "markdown",
   "metadata": {},
   "source": [
    "## Разбитие данных на выборки"
   ]
  },
  {
   "cell_type": "markdown",
   "metadata": {},
   "source": [
    "Рарзбиваем нашу выборку на обучающую и \"другую\" в соотношении 60/40"
   ]
  },
  {
   "cell_type": "code",
   "execution_count": 6,
   "metadata": {},
   "outputs": [],
   "source": [
    "df_train, df_other = train_test_split(df, test_size=0.4, random_state=12345)"
   ]
  },
  {
   "cell_type": "markdown",
   "metadata": {},
   "source": [
    "Разбиваем выборки на признаки и целевые признаки"
   ]
  },
  {
   "cell_type": "code",
   "execution_count": 7,
   "metadata": {},
   "outputs": [],
   "source": [
    "features_train = df_train.drop(['is_ultra'], axis=1)\n",
    "target_train = df_train['is_ultra']\n",
    "features_other = df_other.drop(['is_ultra'], axis=1)\n",
    "target_other = df_other['is_ultra']"
   ]
  },
  {
   "cell_type": "markdown",
   "metadata": {},
   "source": [
    "Рарзбиваем \"другую\" выборку на тестовую и валидационную в соотношении 50/50"
   ]
  },
  {
   "cell_type": "code",
   "execution_count": 8,
   "metadata": {},
   "outputs": [],
   "source": [
    "features_valid, features_test, target_valid, target_test = train_test_split(\n",
    "    features_other, target_other, test_size=0.5, random_state=12345)"
   ]
  },
  {
   "cell_type": "code",
   "execution_count": 20,
   "metadata": {},
   "outputs": [
    {
     "name": "stdout",
     "output_type": "stream",
     "text": [
      "(643, 4)\n",
      "(643, 4)\n",
      "(1928, 4)\n"
     ]
    }
   ],
   "source": [
    "print(features_valid.shape)\n",
    "print(features_test.shape)\n",
    "print(features_train.shape)"
   ]
  },
  {
   "cell_type": "markdown",
   "metadata": {},
   "source": [
    "**Вывод:**  \n",
    "Выборки разбиты на тестовую, обучающую и валидационную. Последние две будем использовать в третьем задании, а первую в четвертом."
   ]
  },
  {
   "cell_type": "markdown",
   "metadata": {},
   "source": [
    "## Исследование моделей"
   ]
  },
  {
   "cell_type": "markdown",
   "metadata": {},
   "source": [
    "Модель случайный лес"
   ]
  },
  {
   "cell_type": "code",
   "execution_count": 9,
   "metadata": {
    "scrolled": true
   },
   "outputs": [
    {
     "name": "stdout",
     "output_type": "stream",
     "text": [
      " Глубина дерева: 8 \n",
      " Количество деревьев: 8 \n",
      " Accuracy модели на валидационной выборке: 0.80248833592535\n"
     ]
    }
   ],
   "source": [
    "model_forest = None\n",
    "result_forest = 0\n",
    "for est in range(1, 11):\n",
    "    for depth in range(1, 11):\n",
    "        model = RandomForestClassifier(random_state=12345, n_estimators=est, max_depth=depth) # обучим модель с заданным количеством деревьев\n",
    "        model.fit(features_train, target_train) # обучим модель на тренировочной выборке\n",
    "        result = model.score(features_valid, target_valid) # посчитаем качество модели на валидационной выборке\n",
    "        if result > result_forest:\n",
    "            model_forest = model# сохраним наилучшую модель\n",
    "            result_forest = result#  сохраним наилучшее значение метрики accuracy на валидационных данных\n",
    "            best_depth = depth\n",
    "            best_est = est\n",
    "print( \" Глубина дерева:\", best_depth, '\\n', \"Количество деревьев:\", best_est, '\\n', \"Accuracy модели на валидационной выборке:\", result_forest)"
   ]
  },
  {
   "cell_type": "markdown",
   "metadata": {},
   "source": [
    "Модель логистической регрессии"
   ]
  },
  {
   "cell_type": "code",
   "execution_count": 10,
   "metadata": {},
   "outputs": [
    {
     "name": "stdout",
     "output_type": "stream",
     "text": [
      "Accuracy модели на валидационной выборке: 0.7107309486780715\n"
     ]
    }
   ],
   "source": [
    "model_logistic = LogisticRegression(random_state=12345, solver='lbfgs', max_iter=1000) \n",
    "model_logistic.fit(features_train, target_train) \n",
    "model_logistic.predict(features_valid)\n",
    "result_logistic = model_logistic.score(features_valid, target_valid)\n",
    "print(\"Accuracy модели на валидационной выборке:\", result_logistic)"
   ]
  },
  {
   "cell_type": "markdown",
   "metadata": {},
   "source": [
    "Модель дерева решений "
   ]
  },
  {
   "cell_type": "code",
   "execution_count": 11,
   "metadata": {
    "scrolled": true
   },
   "outputs": [
    {
     "name": "stdout",
     "output_type": "stream",
     "text": [
      " Глубина дерева: 3 \n",
      " Accuracy наилучшей модели на валидационной выборке: 0.7853810264385692\n"
     ]
    }
   ],
   "source": [
    "model_tree = None\n",
    "result_tree = 0\n",
    "for depth in range(1,6):\n",
    "    model = DecisionTreeClassifier(random_state=12345, max_depth=depth)\n",
    "    model.fit(features_train, target_train)\n",
    "    predictions_valid = model.predict(features_valid)\n",
    "    result = model.score(features_valid, target_valid) # посчитаем качество модели на валидационной выборке\n",
    "    if result > result_tree:\n",
    "        model_tree = model# сохраним наилучшую модель\n",
    "        result_tree = result#  сохраним наилучшее значение метрики accuracy на валидационных данных\n",
    "        best_depth = depth\n",
    "\n",
    "print(\" Глубина дерева:\", best_depth, '\\n', \"Accuracy наилучшей модели на валидационной выборке:\", result_tree)"
   ]
  },
  {
   "cell_type": "markdown",
   "metadata": {},
   "source": [
    "**Вывод:**  \n",
    "Лучшим образом себя показала модель случайного леса с гиперпараметрами \"Глубина дерева: 8, Количество деревьев: 8\". Ее и будем использовать для тестовой выборки."
   ]
  },
  {
   "cell_type": "markdown",
   "metadata": {},
   "source": [
    "## Проверка модели на тестовой выборке"
   ]
  },
  {
   "cell_type": "markdown",
   "metadata": {},
   "source": [
    "Модель случайный лес"
   ]
  },
  {
   "cell_type": "code",
   "execution_count": 13,
   "metadata": {
    "scrolled": true
   },
   "outputs": [
    {
     "name": "stdout",
     "output_type": "stream",
     "text": [
      "Качество: 0.7962674961119751\n"
     ]
    }
   ],
   "source": [
    "model = RandomForestClassifier(random_state=12345, n_estimators=8, max_depth=8)\n",
    "model.fit(features_train, target_train)\n",
    "accuracy_1 = model.score(features_test, target_test)\n",
    "print(\"Качество:\", accuracy_1)"
   ]
  },
  {
   "cell_type": "markdown",
   "metadata": {},
   "source": [
    "## Проверка модели на адекватность"
   ]
  },
  {
   "cell_type": "code",
   "execution_count": 14,
   "metadata": {},
   "outputs": [
    {
     "name": "stdout",
     "output_type": "stream",
     "text": [
      "Качество прогноза стратегии stratified : 0.536547433903577\n",
      "Качество прогноза модели случаного леса : 0.7962674961119751\n"
     ]
    }
   ],
   "source": [
    "dmb = DummyClassifier(strategy=\"stratified\" ,random_state=12345)\n",
    "dmb.fit(features_train, target_train)\n",
    "acc = dmb.score(features_test, target_test)\n",
    "print(\"Качество прогноза стратегии stratified :\", acc)\n",
    "print(\"Качество прогноза модели случаного леса :\", accuracy_1)"
   ]
  },
  {
   "cell_type": "code",
   "execution_count": 15,
   "metadata": {},
   "outputs": [
    {
     "name": "stdout",
     "output_type": "stream",
     "text": [
      "Качество прогноза стратегии uniform : 0.4821150855365474\n",
      "Качество прогноза модели случаного леса : 0.7962674961119751\n"
     ]
    }
   ],
   "source": [
    "dmb = DummyClassifier(strategy='uniform', random_state=12345)\n",
    "dmb.fit(features_train, target_train)\n",
    "acc = dmb.score(features_test, target_test)\n",
    "print(\"Качество прогноза стратегии uniform :\", acc)\n",
    "print(\"Качество прогноза модели случаного леса :\", accuracy_1)"
   ]
  },
  {
   "cell_type": "code",
   "execution_count": 16,
   "metadata": {},
   "outputs": [
    {
     "name": "stdout",
     "output_type": "stream",
     "text": [
      "Качество прогноза стратегии most_frequent : 0.6842923794712286\n",
      "Качество прогноза модели случаного леса : 0.7962674961119751\n"
     ]
    }
   ],
   "source": [
    "dmb = DummyClassifier(strategy='most_frequent', random_state=12345)\n",
    "dmb.fit(features_train, target_train)\n",
    "acc = dmb.score(features_test, target_test)\n",
    "print(\"Качество прогноза стратегии most_frequent :\", acc)\n",
    "print(\"Качество прогноза модели случаного леса :\", accuracy_1)"
   ]
  },
  {
   "cell_type": "code",
   "execution_count": 17,
   "metadata": {},
   "outputs": [
    {
     "name": "stdout",
     "output_type": "stream",
     "text": [
      "Качество прогноза стратегии prior : 0.6842923794712286\n",
      "Качество прогноза модели случаного леса : 0.7962674961119751\n"
     ]
    }
   ],
   "source": [
    "dmb = DummyClassifier(strategy='prior', random_state=12345)\n",
    "dmb.fit(features_train, target_train)\n",
    "acc = dmb.score(features_test, target_test)\n",
    "print(\"Качество прогноза стратегии prior :\", acc)\n",
    "print(\"Качество прогноза модели случаного леса :\", accuracy_1)"
   ]
  },
  {
   "cell_type": "markdown",
   "metadata": {},
   "source": [
    "**Вывод:**  \n",
    "Наша модель работает лучше классификатора. Следовательно, можно полагать, что модель работает адекватно."
   ]
  },
  {
   "cell_type": "markdown",
   "metadata": {},
   "source": [
    "## Вывод"
   ]
  },
  {
   "cell_type": "markdown",
   "metadata": {},
   "source": [
    "Проверены модели: деревья решений, логистическая регрессия, случайный лес.\n",
    "Наилучший результат дала модель случайного леса.  \n",
    "Гиперпараметры: n_estimators=8, max_depth=8.  \n",
    "Качество: 0.7962674961119751.  \n",
    "Также модель прошла проверку на адекватность."
   ]
  }
 ],
 "metadata": {
  "ExecuteTimeLog": [
   {
    "duration": 1123,
    "start_time": "2023-01-04T19:28:33.665Z"
   },
   {
    "duration": 149,
    "start_time": "2023-01-04T19:28:34.790Z"
   },
   {
    "duration": 17,
    "start_time": "2023-01-04T19:28:34.940Z"
   },
   {
    "duration": 13,
    "start_time": "2023-01-04T19:29:33.970Z"
   },
   {
    "duration": 6,
    "start_time": "2023-01-04T19:31:01.151Z"
   },
   {
    "duration": 6,
    "start_time": "2023-01-04T19:33:15.880Z"
   },
   {
    "duration": 300,
    "start_time": "2023-01-04T19:34:09.260Z"
   },
   {
    "duration": 113,
    "start_time": "2023-01-04T19:35:59.472Z"
   },
   {
    "duration": 111,
    "start_time": "2023-01-04T19:37:19.261Z"
   },
   {
    "duration": 42,
    "start_time": "2023-01-04T19:38:17.477Z"
   },
   {
    "duration": 38,
    "start_time": "2023-01-04T19:38:47.279Z"
   },
   {
    "duration": 3,
    "start_time": "2023-01-04T20:20:48.493Z"
   },
   {
    "duration": 35,
    "start_time": "2023-01-04T20:20:48.498Z"
   },
   {
    "duration": 10,
    "start_time": "2023-01-04T20:20:48.535Z"
   },
   {
    "duration": 11,
    "start_time": "2023-01-04T20:20:48.547Z"
   },
   {
    "duration": 5,
    "start_time": "2023-01-04T20:20:48.560Z"
   },
   {
    "duration": 6,
    "start_time": "2023-01-04T20:20:48.567Z"
   },
   {
    "duration": 8,
    "start_time": "2023-01-04T20:20:48.574Z"
   },
   {
    "duration": 22,
    "start_time": "2023-01-04T20:20:48.583Z"
   },
   {
    "duration": 0,
    "start_time": "2023-01-04T20:20:48.606Z"
   },
   {
    "duration": 0,
    "start_time": "2023-01-04T20:20:48.608Z"
   },
   {
    "duration": 256,
    "start_time": "2023-01-04T20:21:12.592Z"
   },
   {
    "duration": 30,
    "start_time": "2023-01-04T20:21:15.060Z"
   },
   {
    "duration": 35,
    "start_time": "2023-01-04T20:21:16.201Z"
   },
   {
    "duration": 1447,
    "start_time": "2023-01-04T20:31:20.086Z"
   },
   {
    "duration": 1435,
    "start_time": "2023-01-04T20:31:35.333Z"
   },
   {
    "duration": 1484,
    "start_time": "2023-01-04T20:32:03.943Z"
   },
   {
    "duration": 1682,
    "start_time": "2023-01-04T20:32:39.837Z"
   },
   {
    "duration": 26,
    "start_time": "2023-01-04T20:34:05.624Z"
   },
   {
    "duration": 1626,
    "start_time": "2023-01-04T20:34:21.848Z"
   },
   {
    "duration": 49,
    "start_time": "2023-01-04T20:34:45.007Z"
   },
   {
    "duration": 52,
    "start_time": "2023-01-04T20:35:06.184Z"
   },
   {
    "duration": 1760,
    "start_time": "2023-01-04T20:35:17.970Z"
   },
   {
    "duration": 1666,
    "start_time": "2023-01-04T20:35:50.380Z"
   },
   {
    "duration": 1686,
    "start_time": "2023-01-04T20:35:56.884Z"
   },
   {
    "duration": 1666,
    "start_time": "2023-01-04T20:36:13.584Z"
   },
   {
    "duration": 36,
    "start_time": "2023-01-04T20:37:11.354Z"
   },
   {
    "duration": 32,
    "start_time": "2023-01-04T20:44:57.144Z"
   },
   {
    "duration": 26,
    "start_time": "2023-01-04T20:46:12.924Z"
   },
   {
    "duration": 26,
    "start_time": "2023-01-04T20:46:20.000Z"
   },
   {
    "duration": 9,
    "start_time": "2023-01-04T20:47:12.932Z"
   },
   {
    "duration": 23,
    "start_time": "2023-01-04T20:47:16.513Z"
   },
   {
    "duration": 7,
    "start_time": "2023-01-04T20:54:14.970Z"
   },
   {
    "duration": 7,
    "start_time": "2023-01-04T20:54:24.424Z"
   },
   {
    "duration": 7,
    "start_time": "2023-01-04T20:54:26.834Z"
   },
   {
    "duration": 13,
    "start_time": "2023-01-04T20:55:28.670Z"
   },
   {
    "duration": 3,
    "start_time": "2023-01-04T20:55:34.672Z"
   },
   {
    "duration": 44,
    "start_time": "2023-01-04T20:55:34.677Z"
   },
   {
    "duration": 10,
    "start_time": "2023-01-04T20:55:34.723Z"
   },
   {
    "duration": 30,
    "start_time": "2023-01-04T20:55:34.734Z"
   },
   {
    "duration": 16,
    "start_time": "2023-01-04T20:55:34.766Z"
   },
   {
    "duration": 24,
    "start_time": "2023-01-04T20:55:34.784Z"
   },
   {
    "duration": 15,
    "start_time": "2023-01-04T20:55:34.810Z"
   },
   {
    "duration": 1721,
    "start_time": "2023-01-04T20:55:34.827Z"
   },
   {
    "duration": 36,
    "start_time": "2023-01-04T20:55:36.550Z"
   },
   {
    "duration": 34,
    "start_time": "2023-01-04T20:55:36.588Z"
   },
   {
    "duration": 32,
    "start_time": "2023-01-04T20:55:36.624Z"
   },
   {
    "duration": 25,
    "start_time": "2023-01-04T20:55:36.678Z"
   },
   {
    "duration": 10,
    "start_time": "2023-01-04T20:55:36.706Z"
   },
   {
    "duration": 6,
    "start_time": "2023-01-04T20:55:36.718Z"
   },
   {
    "duration": 6,
    "start_time": "2023-01-04T20:55:36.725Z"
   },
   {
    "duration": 10,
    "start_time": "2023-01-04T20:55:36.733Z"
   },
   {
    "duration": 6,
    "start_time": "2023-01-04T20:56:07.944Z"
   },
   {
    "duration": 6,
    "start_time": "2023-01-04T20:56:41.134Z"
   },
   {
    "duration": 3,
    "start_time": "2023-01-04T20:59:34.509Z"
   },
   {
    "duration": 31,
    "start_time": "2023-01-04T20:59:34.515Z"
   },
   {
    "duration": 10,
    "start_time": "2023-01-04T20:59:34.547Z"
   },
   {
    "duration": 12,
    "start_time": "2023-01-04T20:59:34.558Z"
   },
   {
    "duration": 5,
    "start_time": "2023-01-04T20:59:34.573Z"
   },
   {
    "duration": 11,
    "start_time": "2023-01-04T20:59:34.579Z"
   },
   {
    "duration": 12,
    "start_time": "2023-01-04T20:59:34.592Z"
   },
   {
    "duration": 1663,
    "start_time": "2023-01-04T20:59:34.607Z"
   },
   {
    "duration": 26,
    "start_time": "2023-01-04T20:59:36.272Z"
   },
   {
    "duration": 33,
    "start_time": "2023-01-04T20:59:36.300Z"
   },
   {
    "duration": 49,
    "start_time": "2023-01-04T20:59:36.335Z"
   },
   {
    "duration": 23,
    "start_time": "2023-01-04T20:59:36.386Z"
   },
   {
    "duration": 9,
    "start_time": "2023-01-04T20:59:36.411Z"
   },
   {
    "duration": 5,
    "start_time": "2023-01-04T20:59:36.423Z"
   },
   {
    "duration": 12,
    "start_time": "2023-01-04T20:59:36.429Z"
   },
   {
    "duration": 43,
    "start_time": "2023-01-04T20:59:36.443Z"
   },
   {
    "duration": 10,
    "start_time": "2023-01-04T20:59:36.488Z"
   },
   {
    "duration": 3,
    "start_time": "2023-01-04T21:03:12.678Z"
   },
   {
    "duration": 33,
    "start_time": "2023-01-04T21:03:12.682Z"
   },
   {
    "duration": 10,
    "start_time": "2023-01-04T21:03:12.717Z"
   },
   {
    "duration": 13,
    "start_time": "2023-01-04T21:03:12.729Z"
   },
   {
    "duration": 4,
    "start_time": "2023-01-04T21:03:12.745Z"
   },
   {
    "duration": 4,
    "start_time": "2023-01-04T21:03:12.751Z"
   },
   {
    "duration": 20,
    "start_time": "2023-01-04T21:03:12.757Z"
   },
   {
    "duration": 1751,
    "start_time": "2023-01-04T21:03:12.779Z"
   },
   {
    "duration": 26,
    "start_time": "2023-01-04T21:03:14.532Z"
   },
   {
    "duration": 50,
    "start_time": "2023-01-04T21:03:14.560Z"
   },
   {
    "duration": 34,
    "start_time": "2023-01-04T21:03:14.613Z"
   },
   {
    "duration": 49,
    "start_time": "2023-01-04T21:03:14.649Z"
   },
   {
    "duration": 10,
    "start_time": "2023-01-04T21:03:14.701Z"
   },
   {
    "duration": 17,
    "start_time": "2023-01-04T21:03:14.712Z"
   },
   {
    "duration": 12,
    "start_time": "2023-01-04T21:03:14.731Z"
   },
   {
    "duration": 31,
    "start_time": "2023-01-04T21:03:14.744Z"
   },
   {
    "duration": 24,
    "start_time": "2023-01-04T21:03:14.776Z"
   },
   {
    "duration": 1561,
    "start_time": "2023-01-04T21:24:52.696Z"
   },
   {
    "duration": 29,
    "start_time": "2023-01-04T21:24:54.259Z"
   },
   {
    "duration": 15,
    "start_time": "2023-01-04T21:24:54.289Z"
   },
   {
    "duration": 11,
    "start_time": "2023-01-04T21:24:54.306Z"
   },
   {
    "duration": 13,
    "start_time": "2023-01-04T21:24:54.319Z"
   },
   {
    "duration": 10,
    "start_time": "2023-01-04T21:24:54.333Z"
   },
   {
    "duration": 9,
    "start_time": "2023-01-04T21:24:54.344Z"
   },
   {
    "duration": 1557,
    "start_time": "2023-01-04T21:24:54.355Z"
   },
   {
    "duration": 24,
    "start_time": "2023-01-04T21:24:55.914Z"
   },
   {
    "duration": 32,
    "start_time": "2023-01-04T21:24:55.940Z"
   },
   {
    "duration": 47,
    "start_time": "2023-01-04T21:24:55.974Z"
   },
   {
    "duration": 27,
    "start_time": "2023-01-04T21:24:56.022Z"
   },
   {
    "duration": 9,
    "start_time": "2023-01-04T21:24:56.051Z"
   },
   {
    "duration": 8,
    "start_time": "2023-01-04T21:24:56.062Z"
   },
   {
    "duration": 11,
    "start_time": "2023-01-04T21:24:56.071Z"
   },
   {
    "duration": 30,
    "start_time": "2023-01-04T21:24:56.084Z"
   },
   {
    "duration": 5,
    "start_time": "2023-01-04T21:24:56.115Z"
   },
   {
    "duration": 4,
    "start_time": "2023-01-04T21:26:24.709Z"
   },
   {
    "duration": 4,
    "start_time": "2023-01-04T21:26:29.707Z"
   },
   {
    "duration": 3,
    "start_time": "2023-01-04T21:26:34.614Z"
   },
   {
    "duration": 1103,
    "start_time": "2023-01-07T20:03:16.503Z"
   },
   {
    "duration": 120,
    "start_time": "2023-01-07T20:03:17.609Z"
   },
   {
    "duration": 17,
    "start_time": "2023-01-07T20:03:17.731Z"
   },
   {
    "duration": 11,
    "start_time": "2023-01-07T20:03:17.750Z"
   },
   {
    "duration": 6,
    "start_time": "2023-01-07T20:03:17.763Z"
   },
   {
    "duration": 16,
    "start_time": "2023-01-07T20:03:17.770Z"
   },
   {
    "duration": 10,
    "start_time": "2023-01-07T20:03:17.788Z"
   },
   {
    "duration": 98,
    "start_time": "2023-01-07T20:03:17.800Z"
   },
   {
    "duration": 0,
    "start_time": "2023-01-07T20:03:17.900Z"
   },
   {
    "duration": 0,
    "start_time": "2023-01-07T20:03:17.901Z"
   },
   {
    "duration": 0,
    "start_time": "2023-01-07T20:03:17.903Z"
   },
   {
    "duration": 0,
    "start_time": "2023-01-07T20:03:17.904Z"
   },
   {
    "duration": 0,
    "start_time": "2023-01-07T20:03:17.905Z"
   },
   {
    "duration": 0,
    "start_time": "2023-01-07T20:03:17.905Z"
   },
   {
    "duration": 0,
    "start_time": "2023-01-07T20:03:17.907Z"
   },
   {
    "duration": 0,
    "start_time": "2023-01-07T20:03:17.908Z"
   },
   {
    "duration": 0,
    "start_time": "2023-01-07T20:03:17.909Z"
   },
   {
    "duration": 0,
    "start_time": "2023-01-07T20:03:17.910Z"
   },
   {
    "duration": 4,
    "start_time": "2023-01-07T20:05:09.801Z"
   },
   {
    "duration": 4,
    "start_time": "2023-01-07T20:06:01.155Z"
   },
   {
    "duration": 50,
    "start_time": "2023-01-07T20:06:21.309Z"
   },
   {
    "duration": 5,
    "start_time": "2023-01-07T20:06:30.397Z"
   },
   {
    "duration": 3,
    "start_time": "2023-01-07T20:13:32.324Z"
   },
   {
    "duration": 45,
    "start_time": "2023-01-07T20:13:32.329Z"
   },
   {
    "duration": 12,
    "start_time": "2023-01-07T20:13:32.376Z"
   },
   {
    "duration": 24,
    "start_time": "2023-01-07T20:13:32.389Z"
   },
   {
    "duration": 7,
    "start_time": "2023-01-07T20:13:32.415Z"
   },
   {
    "duration": 8,
    "start_time": "2023-01-07T20:13:32.424Z"
   },
   {
    "duration": 12,
    "start_time": "2023-01-07T20:13:32.434Z"
   },
   {
    "duration": 7,
    "start_time": "2023-01-07T20:13:32.447Z"
   },
   {
    "duration": 1596,
    "start_time": "2023-01-07T20:13:32.455Z"
   },
   {
    "duration": 26,
    "start_time": "2023-01-07T20:13:34.052Z"
   },
   {
    "duration": 57,
    "start_time": "2023-01-07T20:13:34.079Z"
   },
   {
    "duration": 42,
    "start_time": "2023-01-07T20:13:34.139Z"
   },
   {
    "duration": 11,
    "start_time": "2023-01-07T20:13:34.198Z"
   },
   {
    "duration": 13,
    "start_time": "2023-01-07T20:13:34.212Z"
   },
   {
    "duration": 10,
    "start_time": "2023-01-07T20:13:34.227Z"
   },
   {
    "duration": 11,
    "start_time": "2023-01-07T20:13:34.238Z"
   }
  ],
  "kernelspec": {
   "display_name": "Python 3 (ipykernel)",
   "language": "python",
   "name": "python3"
  },
  "language_info": {
   "codemirror_mode": {
    "name": "ipython",
    "version": 3
   },
   "file_extension": ".py",
   "mimetype": "text/x-python",
   "name": "python",
   "nbconvert_exporter": "python",
   "pygments_lexer": "ipython3",
   "version": "3.9.13"
  },
  "toc": {
   "base_numbering": 1,
   "nav_menu": {},
   "number_sections": true,
   "sideBar": true,
   "skip_h1_title": true,
   "title_cell": "Table of Contents",
   "title_sidebar": "Contents",
   "toc_cell": false,
   "toc_position": {},
   "toc_section_display": true,
   "toc_window_display": false
  }
 },
 "nbformat": 4,
 "nbformat_minor": 2
}
