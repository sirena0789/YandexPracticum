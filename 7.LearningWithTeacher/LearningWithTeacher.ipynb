{
 "cells": [
  {
   "cell_type": "markdown",
   "metadata": {
    "toc": true
   },
   "source": [
    "<h1>Содержание<span class=\"tocSkip\"></span></h1>\n",
    "<div class=\"toc\"><ul class=\"toc-item\"><li><span><a href=\"#Подготовка-данных\" data-toc-modified-id=\"Подготовка-данных-1\"><span class=\"toc-item-num\">1&nbsp;&nbsp;</span>Подготовка данных</a></span></li><li><span><a href=\"#Исследование-задачи\" data-toc-modified-id=\"Исследование-задачи-2\"><span class=\"toc-item-num\">2&nbsp;&nbsp;</span>Исследование задачи</a></span><ul class=\"toc-item\"><li><span><a href=\"#Баланс-классов\" data-toc-modified-id=\"Баланс-классов-2.1\"><span class=\"toc-item-num\">2.1&nbsp;&nbsp;</span>Баланс классов</a></span></li><li><span><a href=\"#Изучение-модели-без-учёта-дисбаланса\" data-toc-modified-id=\"Изучение-модели-без-учёта-дисбаланса-2.2\"><span class=\"toc-item-num\">2.2&nbsp;&nbsp;</span>Изучение модели без учёта дисбаланса</a></span></li></ul></li><li><span><a href=\"#Борьба-с-дисбалансом\" data-toc-modified-id=\"Борьба-с-дисбалансом-3\"><span class=\"toc-item-num\">3&nbsp;&nbsp;</span>Борьба с дисбалансом</a></span><ul class=\"toc-item\"><li><span><a href=\"#Использование-метода-upsample\" data-toc-modified-id=\"Использование-метода-upsample-3.1\"><span class=\"toc-item-num\">3.1&nbsp;&nbsp;</span>Использование метода upsample</a></span></li><li><span><a href=\"#Использование-метода-downsample\" data-toc-modified-id=\"Использование-метода-downsample-3.2\"><span class=\"toc-item-num\">3.2&nbsp;&nbsp;</span>Использование метода downsample</a></span></li><li><span><a href=\"#Улучшение-модели\" data-toc-modified-id=\"Улучшение-модели-3.3\"><span class=\"toc-item-num\">3.3&nbsp;&nbsp;</span>Улучшение модели</a></span></li></ul></li><li><span><a href=\"#Тестирование-модели\" data-toc-modified-id=\"Тестирование-модели-4\"><span class=\"toc-item-num\">4&nbsp;&nbsp;</span>Тестирование модели</a></span></li><li><span><a href=\"#Чек-лист-готовности-проекта\" data-toc-modified-id=\"Чек-лист-готовности-проекта-5\"><span class=\"toc-item-num\">5&nbsp;&nbsp;</span>Чек-лист готовности проекта</a></span></li></ul></div>"
   ]
  },
  {
   "cell_type": "markdown",
   "metadata": {},
   "source": [
    "# Отток клиентов"
   ]
  },
  {
   "cell_type": "markdown",
   "metadata": {},
   "source": [
    "Из «Бета-Банка» стали уходить клиенты. Каждый месяц. Немного, но заметно. Банковские маркетологи посчитали: сохранять текущих клиентов дешевле, чем привлекать новых.\n",
    "\n",
    "Нужно спрогнозировать, уйдёт клиент из банка в ближайшее время или нет. Вам предоставлены исторические данные о поведении клиентов и расторжении договоров с банком. \n",
    "\n",
    "Источник данных: [https://www.kaggle.com/barelydedicated/bank-customer-churn-modeling](https://www.kaggle.com/barelydedicated/bank-customer-churn-modeling)"
   ]
  },
  {
   "cell_type": "markdown",
   "metadata": {},
   "source": [
    "## Подготовка данных"
   ]
  },
  {
   "cell_type": "markdown",
   "metadata": {},
   "source": [
    "Импортируем билиотеки"
   ]
  },
  {
   "cell_type": "code",
   "execution_count": 1,
   "metadata": {},
   "outputs": [],
   "source": [
    "import pandas as pd\n",
    "import numpy as np\n",
    "import matplotlib.pyplot as plt\n",
    "\n",
    "from sklearn.model_selection import train_test_split\n",
    "from sklearn.metrics import (accuracy_score, confusion_matrix, f1_score, precision_score, recall_score, \n",
    "                             roc_auc_score, roc_curve)\n",
    "from sklearn.preprocessing import StandardScaler\n",
    "from sklearn.utils import shuffle\n",
    "from sklearn.linear_model import LogisticRegression\n",
    "from sklearn.ensemble import RandomForestClassifier\n",
    "from sklearn.tree import DecisionTreeClassifier\n",
    "from itertools import product\n",
    "\n",
    "import tqdm\n",
    "\n",
    "import warnings\n",
    "warnings.filterwarnings(\"ignore\")"
   ]
  },
  {
   "cell_type": "markdown",
   "metadata": {},
   "source": [
    "Загружаем и смотрим данные"
   ]
  },
  {
   "cell_type": "code",
   "execution_count": 2,
   "metadata": {},
   "outputs": [],
   "source": [
    "data = pd.read_csv('/Users/sirena0789/Downloads/Churn.csv')"
   ]
  },
  {
   "cell_type": "code",
   "execution_count": 3,
   "metadata": {
    "scrolled": false
   },
   "outputs": [
    {
     "data": {
      "text/html": [
       "<div>\n",
       "<style scoped>\n",
       "    .dataframe tbody tr th:only-of-type {\n",
       "        vertical-align: middle;\n",
       "    }\n",
       "\n",
       "    .dataframe tbody tr th {\n",
       "        vertical-align: top;\n",
       "    }\n",
       "\n",
       "    .dataframe thead th {\n",
       "        text-align: right;\n",
       "    }\n",
       "</style>\n",
       "<table border=\"1\" class=\"dataframe\">\n",
       "  <thead>\n",
       "    <tr style=\"text-align: right;\">\n",
       "      <th></th>\n",
       "      <th>RowNumber</th>\n",
       "      <th>CustomerId</th>\n",
       "      <th>Surname</th>\n",
       "      <th>CreditScore</th>\n",
       "      <th>Geography</th>\n",
       "      <th>Gender</th>\n",
       "      <th>Age</th>\n",
       "      <th>Tenure</th>\n",
       "      <th>Balance</th>\n",
       "      <th>NumOfProducts</th>\n",
       "      <th>HasCrCard</th>\n",
       "      <th>IsActiveMember</th>\n",
       "      <th>EstimatedSalary</th>\n",
       "      <th>Exited</th>\n",
       "    </tr>\n",
       "  </thead>\n",
       "  <tbody>\n",
       "    <tr>\n",
       "      <th>0</th>\n",
       "      <td>1</td>\n",
       "      <td>15634602</td>\n",
       "      <td>Hargrave</td>\n",
       "      <td>619</td>\n",
       "      <td>France</td>\n",
       "      <td>Female</td>\n",
       "      <td>42</td>\n",
       "      <td>2.0</td>\n",
       "      <td>0.00</td>\n",
       "      <td>1</td>\n",
       "      <td>1</td>\n",
       "      <td>1</td>\n",
       "      <td>101348.88</td>\n",
       "      <td>1</td>\n",
       "    </tr>\n",
       "    <tr>\n",
       "      <th>1</th>\n",
       "      <td>2</td>\n",
       "      <td>15647311</td>\n",
       "      <td>Hill</td>\n",
       "      <td>608</td>\n",
       "      <td>Spain</td>\n",
       "      <td>Female</td>\n",
       "      <td>41</td>\n",
       "      <td>1.0</td>\n",
       "      <td>83807.86</td>\n",
       "      <td>1</td>\n",
       "      <td>0</td>\n",
       "      <td>1</td>\n",
       "      <td>112542.58</td>\n",
       "      <td>0</td>\n",
       "    </tr>\n",
       "    <tr>\n",
       "      <th>2</th>\n",
       "      <td>3</td>\n",
       "      <td>15619304</td>\n",
       "      <td>Onio</td>\n",
       "      <td>502</td>\n",
       "      <td>France</td>\n",
       "      <td>Female</td>\n",
       "      <td>42</td>\n",
       "      <td>8.0</td>\n",
       "      <td>159660.80</td>\n",
       "      <td>3</td>\n",
       "      <td>1</td>\n",
       "      <td>0</td>\n",
       "      <td>113931.57</td>\n",
       "      <td>1</td>\n",
       "    </tr>\n",
       "    <tr>\n",
       "      <th>3</th>\n",
       "      <td>4</td>\n",
       "      <td>15701354</td>\n",
       "      <td>Boni</td>\n",
       "      <td>699</td>\n",
       "      <td>France</td>\n",
       "      <td>Female</td>\n",
       "      <td>39</td>\n",
       "      <td>1.0</td>\n",
       "      <td>0.00</td>\n",
       "      <td>2</td>\n",
       "      <td>0</td>\n",
       "      <td>0</td>\n",
       "      <td>93826.63</td>\n",
       "      <td>0</td>\n",
       "    </tr>\n",
       "    <tr>\n",
       "      <th>4</th>\n",
       "      <td>5</td>\n",
       "      <td>15737888</td>\n",
       "      <td>Mitchell</td>\n",
       "      <td>850</td>\n",
       "      <td>Spain</td>\n",
       "      <td>Female</td>\n",
       "      <td>43</td>\n",
       "      <td>2.0</td>\n",
       "      <td>125510.82</td>\n",
       "      <td>1</td>\n",
       "      <td>1</td>\n",
       "      <td>1</td>\n",
       "      <td>79084.10</td>\n",
       "      <td>0</td>\n",
       "    </tr>\n",
       "  </tbody>\n",
       "</table>\n",
       "</div>"
      ],
      "text/plain": [
       "   RowNumber  CustomerId   Surname  CreditScore Geography  Gender  Age  \\\n",
       "0          1    15634602  Hargrave          619    France  Female   42   \n",
       "1          2    15647311      Hill          608     Spain  Female   41   \n",
       "2          3    15619304      Onio          502    France  Female   42   \n",
       "3          4    15701354      Boni          699    France  Female   39   \n",
       "4          5    15737888  Mitchell          850     Spain  Female   43   \n",
       "\n",
       "   Tenure    Balance  NumOfProducts  HasCrCard  IsActiveMember  \\\n",
       "0     2.0       0.00              1          1               1   \n",
       "1     1.0   83807.86              1          0               1   \n",
       "2     8.0  159660.80              3          1               0   \n",
       "3     1.0       0.00              2          0               0   \n",
       "4     2.0  125510.82              1          1               1   \n",
       "\n",
       "   EstimatedSalary  Exited  \n",
       "0        101348.88       1  \n",
       "1        112542.58       0  \n",
       "2        113931.57       1  \n",
       "3         93826.63       0  \n",
       "4         79084.10       0  "
      ]
     },
     "execution_count": 3,
     "metadata": {},
     "output_type": "execute_result"
    }
   ],
   "source": [
    "data.head()"
   ]
  },
  {
   "cell_type": "code",
   "execution_count": 4,
   "metadata": {
    "scrolled": true
   },
   "outputs": [
    {
     "name": "stdout",
     "output_type": "stream",
     "text": [
      "<class 'pandas.core.frame.DataFrame'>\n",
      "RangeIndex: 10000 entries, 0 to 9999\n",
      "Data columns (total 14 columns):\n",
      " #   Column           Non-Null Count  Dtype  \n",
      "---  ------           --------------  -----  \n",
      " 0   RowNumber        10000 non-null  int64  \n",
      " 1   CustomerId       10000 non-null  int64  \n",
      " 2   Surname          10000 non-null  object \n",
      " 3   CreditScore      10000 non-null  int64  \n",
      " 4   Geography        10000 non-null  object \n",
      " 5   Gender           10000 non-null  object \n",
      " 6   Age              10000 non-null  int64  \n",
      " 7   Tenure           9091 non-null   float64\n",
      " 8   Balance          10000 non-null  float64\n",
      " 9   NumOfProducts    10000 non-null  int64  \n",
      " 10  HasCrCard        10000 non-null  int64  \n",
      " 11  IsActiveMember   10000 non-null  int64  \n",
      " 12  EstimatedSalary  10000 non-null  float64\n",
      " 13  Exited           10000 non-null  int64  \n",
      "dtypes: float64(3), int64(8), object(3)\n",
      "memory usage: 1.1+ MB\n"
     ]
    }
   ],
   "source": [
    "data.info()"
   ]
  },
  {
   "cell_type": "markdown",
   "metadata": {},
   "source": [
    "Сколько лет человек является клиентом банка - важный параметр, поэтому смею предположить, что эти пропуски будет логиечней не удалять, а заполнить их значением, отличным от остальных."
   ]
  },
  {
   "cell_type": "code",
   "execution_count": 5,
   "metadata": {},
   "outputs": [],
   "source": [
    "data['Tenure'] = data['Tenure'].fillna(-1)"
   ]
  },
  {
   "cell_type": "markdown",
   "metadata": {},
   "source": [
    "**Вывод:**  \n",
    "Признаки:  \n",
    "RowNumber — индекс строки в данных (не несет ценности, но будет тормозить модель, следовательно, его можно дропнуть)  \n",
    "CustomerId — уникальный идентификатор клиента (тоже можно удалить)   \n",
    "Surname — фамилия (удаляем, так как для предсказаний нет весомой ценности)  \n",
    "CreditScore — кредитный рейтинг   \n",
    "Geography — страна проживания (требуется выполнить преобразование OHE)  \n",
    "Gender — пол (требуется выполнить преобразование OHE)   \n",
    "Age — возраст  \n",
    "Tenure — сколько лет человек является клиентом банка  \n",
    "Balance — баланс на счёте  \n",
    "NumOfProducts — количество продуктов банка, используемых клиентом  \n",
    "HasCrCard — наличие кредитной карты  \n",
    "IsActiveMember — активность клиента  \n",
    "EstimatedSalary — предполагаемая зарплата  \n",
    "Целевой признак:  \n",
    "Exited — факт ухода клиента \n",
    "\n",
    "Целевой признак является категориальным, поэтому будет логично использовать задачу классификации"
   ]
  },
  {
   "cell_type": "code",
   "execution_count": 6,
   "metadata": {
    "scrolled": true
   },
   "outputs": [
    {
     "data": {
      "text/html": [
       "<div>\n",
       "<style scoped>\n",
       "    .dataframe tbody tr th:only-of-type {\n",
       "        vertical-align: middle;\n",
       "    }\n",
       "\n",
       "    .dataframe tbody tr th {\n",
       "        vertical-align: top;\n",
       "    }\n",
       "\n",
       "    .dataframe thead th {\n",
       "        text-align: right;\n",
       "    }\n",
       "</style>\n",
       "<table border=\"1\" class=\"dataframe\">\n",
       "  <thead>\n",
       "    <tr style=\"text-align: right;\">\n",
       "      <th></th>\n",
       "      <th>CreditScore</th>\n",
       "      <th>Geography</th>\n",
       "      <th>Gender</th>\n",
       "      <th>Age</th>\n",
       "      <th>Tenure</th>\n",
       "      <th>Balance</th>\n",
       "      <th>NumOfProducts</th>\n",
       "      <th>HasCrCard</th>\n",
       "      <th>IsActiveMember</th>\n",
       "      <th>EstimatedSalary</th>\n",
       "      <th>Exited</th>\n",
       "    </tr>\n",
       "  </thead>\n",
       "  <tbody>\n",
       "    <tr>\n",
       "      <th>0</th>\n",
       "      <td>619</td>\n",
       "      <td>France</td>\n",
       "      <td>Female</td>\n",
       "      <td>42</td>\n",
       "      <td>2.0</td>\n",
       "      <td>0.00</td>\n",
       "      <td>1</td>\n",
       "      <td>1</td>\n",
       "      <td>1</td>\n",
       "      <td>101348.88</td>\n",
       "      <td>1</td>\n",
       "    </tr>\n",
       "    <tr>\n",
       "      <th>1</th>\n",
       "      <td>608</td>\n",
       "      <td>Spain</td>\n",
       "      <td>Female</td>\n",
       "      <td>41</td>\n",
       "      <td>1.0</td>\n",
       "      <td>83807.86</td>\n",
       "      <td>1</td>\n",
       "      <td>0</td>\n",
       "      <td>1</td>\n",
       "      <td>112542.58</td>\n",
       "      <td>0</td>\n",
       "    </tr>\n",
       "    <tr>\n",
       "      <th>2</th>\n",
       "      <td>502</td>\n",
       "      <td>France</td>\n",
       "      <td>Female</td>\n",
       "      <td>42</td>\n",
       "      <td>8.0</td>\n",
       "      <td>159660.80</td>\n",
       "      <td>3</td>\n",
       "      <td>1</td>\n",
       "      <td>0</td>\n",
       "      <td>113931.57</td>\n",
       "      <td>1</td>\n",
       "    </tr>\n",
       "    <tr>\n",
       "      <th>3</th>\n",
       "      <td>699</td>\n",
       "      <td>France</td>\n",
       "      <td>Female</td>\n",
       "      <td>39</td>\n",
       "      <td>1.0</td>\n",
       "      <td>0.00</td>\n",
       "      <td>2</td>\n",
       "      <td>0</td>\n",
       "      <td>0</td>\n",
       "      <td>93826.63</td>\n",
       "      <td>0</td>\n",
       "    </tr>\n",
       "    <tr>\n",
       "      <th>4</th>\n",
       "      <td>850</td>\n",
       "      <td>Spain</td>\n",
       "      <td>Female</td>\n",
       "      <td>43</td>\n",
       "      <td>2.0</td>\n",
       "      <td>125510.82</td>\n",
       "      <td>1</td>\n",
       "      <td>1</td>\n",
       "      <td>1</td>\n",
       "      <td>79084.10</td>\n",
       "      <td>0</td>\n",
       "    </tr>\n",
       "  </tbody>\n",
       "</table>\n",
       "</div>"
      ],
      "text/plain": [
       "   CreditScore Geography  Gender  Age  Tenure    Balance  NumOfProducts  \\\n",
       "0          619    France  Female   42     2.0       0.00              1   \n",
       "1          608     Spain  Female   41     1.0   83807.86              1   \n",
       "2          502    France  Female   42     8.0  159660.80              3   \n",
       "3          699    France  Female   39     1.0       0.00              2   \n",
       "4          850     Spain  Female   43     2.0  125510.82              1   \n",
       "\n",
       "   HasCrCard  IsActiveMember  EstimatedSalary  Exited  \n",
       "0          1               1        101348.88       1  \n",
       "1          0               1        112542.58       0  \n",
       "2          1               0        113931.57       1  \n",
       "3          0               0         93826.63       0  \n",
       "4          1               1         79084.10       0  "
      ]
     },
     "execution_count": 6,
     "metadata": {},
     "output_type": "execute_result"
    }
   ],
   "source": [
    "a = ['RowNumber','CustomerId', 'Surname']\n",
    "df = data.drop(a, axis=1)\n",
    "df.head()"
   ]
  },
  {
   "cell_type": "code",
   "execution_count": 7,
   "metadata": {},
   "outputs": [
    {
     "data": {
      "text/html": [
       "<div>\n",
       "<style scoped>\n",
       "    .dataframe tbody tr th:only-of-type {\n",
       "        vertical-align: middle;\n",
       "    }\n",
       "\n",
       "    .dataframe tbody tr th {\n",
       "        vertical-align: top;\n",
       "    }\n",
       "\n",
       "    .dataframe thead th {\n",
       "        text-align: right;\n",
       "    }\n",
       "</style>\n",
       "<table border=\"1\" class=\"dataframe\">\n",
       "  <thead>\n",
       "    <tr style=\"text-align: right;\">\n",
       "      <th></th>\n",
       "      <th>CreditScore</th>\n",
       "      <th>Age</th>\n",
       "      <th>Tenure</th>\n",
       "      <th>Balance</th>\n",
       "      <th>NumOfProducts</th>\n",
       "      <th>HasCrCard</th>\n",
       "      <th>IsActiveMember</th>\n",
       "      <th>EstimatedSalary</th>\n",
       "      <th>Exited</th>\n",
       "      <th>Geography_Germany</th>\n",
       "      <th>Geography_Spain</th>\n",
       "      <th>Gender_Male</th>\n",
       "    </tr>\n",
       "  </thead>\n",
       "  <tbody>\n",
       "    <tr>\n",
       "      <th>0</th>\n",
       "      <td>619</td>\n",
       "      <td>42</td>\n",
       "      <td>2.0</td>\n",
       "      <td>0.00</td>\n",
       "      <td>1</td>\n",
       "      <td>1</td>\n",
       "      <td>1</td>\n",
       "      <td>101348.88</td>\n",
       "      <td>1</td>\n",
       "      <td>0</td>\n",
       "      <td>0</td>\n",
       "      <td>0</td>\n",
       "    </tr>\n",
       "    <tr>\n",
       "      <th>1</th>\n",
       "      <td>608</td>\n",
       "      <td>41</td>\n",
       "      <td>1.0</td>\n",
       "      <td>83807.86</td>\n",
       "      <td>1</td>\n",
       "      <td>0</td>\n",
       "      <td>1</td>\n",
       "      <td>112542.58</td>\n",
       "      <td>0</td>\n",
       "      <td>0</td>\n",
       "      <td>1</td>\n",
       "      <td>0</td>\n",
       "    </tr>\n",
       "    <tr>\n",
       "      <th>2</th>\n",
       "      <td>502</td>\n",
       "      <td>42</td>\n",
       "      <td>8.0</td>\n",
       "      <td>159660.80</td>\n",
       "      <td>3</td>\n",
       "      <td>1</td>\n",
       "      <td>0</td>\n",
       "      <td>113931.57</td>\n",
       "      <td>1</td>\n",
       "      <td>0</td>\n",
       "      <td>0</td>\n",
       "      <td>0</td>\n",
       "    </tr>\n",
       "    <tr>\n",
       "      <th>3</th>\n",
       "      <td>699</td>\n",
       "      <td>39</td>\n",
       "      <td>1.0</td>\n",
       "      <td>0.00</td>\n",
       "      <td>2</td>\n",
       "      <td>0</td>\n",
       "      <td>0</td>\n",
       "      <td>93826.63</td>\n",
       "      <td>0</td>\n",
       "      <td>0</td>\n",
       "      <td>0</td>\n",
       "      <td>0</td>\n",
       "    </tr>\n",
       "    <tr>\n",
       "      <th>4</th>\n",
       "      <td>850</td>\n",
       "      <td>43</td>\n",
       "      <td>2.0</td>\n",
       "      <td>125510.82</td>\n",
       "      <td>1</td>\n",
       "      <td>1</td>\n",
       "      <td>1</td>\n",
       "      <td>79084.10</td>\n",
       "      <td>0</td>\n",
       "      <td>0</td>\n",
       "      <td>1</td>\n",
       "      <td>0</td>\n",
       "    </tr>\n",
       "  </tbody>\n",
       "</table>\n",
       "</div>"
      ],
      "text/plain": [
       "   CreditScore  Age  Tenure    Balance  NumOfProducts  HasCrCard  \\\n",
       "0          619   42     2.0       0.00              1          1   \n",
       "1          608   41     1.0   83807.86              1          0   \n",
       "2          502   42     8.0  159660.80              3          1   \n",
       "3          699   39     1.0       0.00              2          0   \n",
       "4          850   43     2.0  125510.82              1          1   \n",
       "\n",
       "   IsActiveMember  EstimatedSalary  Exited  Geography_Germany  \\\n",
       "0               1        101348.88       1                  0   \n",
       "1               1        112542.58       0                  0   \n",
       "2               0        113931.57       1                  0   \n",
       "3               0         93826.63       0                  0   \n",
       "4               1         79084.10       0                  0   \n",
       "\n",
       "   Geography_Spain  Gender_Male  \n",
       "0                0            0  \n",
       "1                1            0  \n",
       "2                0            0  \n",
       "3                0            0  \n",
       "4                1            0  "
      ]
     },
     "execution_count": 7,
     "metadata": {},
     "output_type": "execute_result"
    }
   ],
   "source": [
    "df = pd.get_dummies(df, drop_first=True)\n",
    "df.head()"
   ]
  },
  {
   "cell_type": "markdown",
   "metadata": {},
   "source": [
    "Разделим наши данные на обучающую, валидационнаую и тестовую выборки в соотношении 60/20/20"
   ]
  },
  {
   "cell_type": "code",
   "execution_count": 10,
   "metadata": {},
   "outputs": [],
   "source": [
    "features = df.drop('Exited', axis=1)\n",
    "target = df['Exited']"
   ]
  },
  {
   "cell_type": "code",
   "execution_count": 11,
   "metadata": {},
   "outputs": [],
   "source": [
    "features_train, features_other, target_train, target_other = train_test_split(features,\n",
    "                                                    target,\n",
    "                                                    train_size=0.6,\n",
    "                                                    random_state=12345, \n",
    "                                                    stratify=target)"
   ]
  },
  {
   "cell_type": "code",
   "execution_count": 12,
   "metadata": {},
   "outputs": [],
   "source": [
    "features_valid, features_test, target_valid, target_test = train_test_split(features_other,\n",
    "                                                    target_other,\n",
    "                                                    train_size=0.5,\n",
    "                                                    random_state=12345, \n",
    "                                                    stratify=target_other)"
   ]
  },
  {
   "cell_type": "markdown",
   "metadata": {},
   "source": [
    "Стандартизируем данные"
   ]
  },
  {
   "cell_type": "code",
   "execution_count": 13,
   "metadata": {},
   "outputs": [],
   "source": [
    "numeric = ['CreditScore', 'Age', 'Tenure', 'Balance', 'NumOfProducts', 'EstimatedSalary']"
   ]
  },
  {
   "cell_type": "code",
   "execution_count": 15,
   "metadata": {},
   "outputs": [
    {
     "data": {
      "text/html": [
       "<div>\n",
       "<style scoped>\n",
       "    .dataframe tbody tr th:only-of-type {\n",
       "        vertical-align: middle;\n",
       "    }\n",
       "\n",
       "    .dataframe tbody tr th {\n",
       "        vertical-align: top;\n",
       "    }\n",
       "\n",
       "    .dataframe thead th {\n",
       "        text-align: right;\n",
       "    }\n",
       "</style>\n",
       "<table border=\"1\" class=\"dataframe\">\n",
       "  <thead>\n",
       "    <tr style=\"text-align: right;\">\n",
       "      <th></th>\n",
       "      <th>CreditScore</th>\n",
       "      <th>Age</th>\n",
       "      <th>Tenure</th>\n",
       "      <th>Balance</th>\n",
       "      <th>NumOfProducts</th>\n",
       "      <th>HasCrCard</th>\n",
       "      <th>IsActiveMember</th>\n",
       "      <th>EstimatedSalary</th>\n",
       "      <th>Geography_Germany</th>\n",
       "      <th>Geography_Spain</th>\n",
       "      <th>Gender_Male</th>\n",
       "    </tr>\n",
       "  </thead>\n",
       "  <tbody>\n",
       "    <tr>\n",
       "      <th>2837</th>\n",
       "      <td>-1.040434</td>\n",
       "      <td>0.953312</td>\n",
       "      <td>0.474986</td>\n",
       "      <td>0.774657</td>\n",
       "      <td>-0.914708</td>\n",
       "      <td>0</td>\n",
       "      <td>1</td>\n",
       "      <td>-0.119110</td>\n",
       "      <td>1</td>\n",
       "      <td>0</td>\n",
       "      <td>0</td>\n",
       "    </tr>\n",
       "    <tr>\n",
       "      <th>9925</th>\n",
       "      <td>0.454006</td>\n",
       "      <td>-0.095244</td>\n",
       "      <td>-1.675197</td>\n",
       "      <td>1.910540</td>\n",
       "      <td>-0.914708</td>\n",
       "      <td>1</td>\n",
       "      <td>1</td>\n",
       "      <td>-0.258658</td>\n",
       "      <td>0</td>\n",
       "      <td>0</td>\n",
       "      <td>0</td>\n",
       "    </tr>\n",
       "    <tr>\n",
       "      <th>8746</th>\n",
       "      <td>0.103585</td>\n",
       "      <td>-0.476537</td>\n",
       "      <td>1.089324</td>\n",
       "      <td>0.481608</td>\n",
       "      <td>0.820981</td>\n",
       "      <td>0</td>\n",
       "      <td>1</td>\n",
       "      <td>1.422836</td>\n",
       "      <td>0</td>\n",
       "      <td>0</td>\n",
       "      <td>1</td>\n",
       "    </tr>\n",
       "    <tr>\n",
       "      <th>660</th>\n",
       "      <td>-0.184996</td>\n",
       "      <td>0.190726</td>\n",
       "      <td>-1.675197</td>\n",
       "      <td>0.088439</td>\n",
       "      <td>-0.914708</td>\n",
       "      <td>1</td>\n",
       "      <td>1</td>\n",
       "      <td>-1.160427</td>\n",
       "      <td>1</td>\n",
       "      <td>0</td>\n",
       "      <td>0</td>\n",
       "    </tr>\n",
       "    <tr>\n",
       "      <th>3610</th>\n",
       "      <td>-0.720933</td>\n",
       "      <td>1.620574</td>\n",
       "      <td>-1.060859</td>\n",
       "      <td>0.879129</td>\n",
       "      <td>-0.914708</td>\n",
       "      <td>1</td>\n",
       "      <td>0</td>\n",
       "      <td>0.113236</td>\n",
       "      <td>0</td>\n",
       "      <td>0</td>\n",
       "      <td>0</td>\n",
       "    </tr>\n",
       "  </tbody>\n",
       "</table>\n",
       "</div>"
      ],
      "text/plain": [
       "      CreditScore       Age    Tenure   Balance  NumOfProducts  HasCrCard  \\\n",
       "2837    -1.040434  0.953312  0.474986  0.774657      -0.914708          0   \n",
       "9925     0.454006 -0.095244 -1.675197  1.910540      -0.914708          1   \n",
       "8746     0.103585 -0.476537  1.089324  0.481608       0.820981          0   \n",
       "660     -0.184996  0.190726 -1.675197  0.088439      -0.914708          1   \n",
       "3610    -0.720933  1.620574 -1.060859  0.879129      -0.914708          1   \n",
       "\n",
       "      IsActiveMember  EstimatedSalary  Geography_Germany  Geography_Spain  \\\n",
       "2837               1        -0.119110                  1                0   \n",
       "9925               1        -0.258658                  0                0   \n",
       "8746               1         1.422836                  0                0   \n",
       "660                1        -1.160427                  1                0   \n",
       "3610               0         0.113236                  0                0   \n",
       "\n",
       "      Gender_Male  \n",
       "2837            0  \n",
       "9925            0  \n",
       "8746            1  \n",
       "660             0  \n",
       "3610            0  "
      ]
     },
     "execution_count": 15,
     "metadata": {},
     "output_type": "execute_result"
    }
   ],
   "source": [
    "scaler = StandardScaler()\n",
    "scaler.fit(features_train[numeric])\n",
    "features_train[numeric] = scaler.transform(features_train[numeric])\n",
    "features_train.head()"
   ]
  },
  {
   "cell_type": "code",
   "execution_count": 16,
   "metadata": {},
   "outputs": [
    {
     "data": {
      "text/html": [
       "<div>\n",
       "<style scoped>\n",
       "    .dataframe tbody tr th:only-of-type {\n",
       "        vertical-align: middle;\n",
       "    }\n",
       "\n",
       "    .dataframe tbody tr th {\n",
       "        vertical-align: top;\n",
       "    }\n",
       "\n",
       "    .dataframe thead th {\n",
       "        text-align: right;\n",
       "    }\n",
       "</style>\n",
       "<table border=\"1\" class=\"dataframe\">\n",
       "  <thead>\n",
       "    <tr style=\"text-align: right;\">\n",
       "      <th></th>\n",
       "      <th>CreditScore</th>\n",
       "      <th>Age</th>\n",
       "      <th>Tenure</th>\n",
       "      <th>Balance</th>\n",
       "      <th>NumOfProducts</th>\n",
       "      <th>HasCrCard</th>\n",
       "      <th>IsActiveMember</th>\n",
       "      <th>EstimatedSalary</th>\n",
       "      <th>Geography_Germany</th>\n",
       "      <th>Geography_Spain</th>\n",
       "      <th>Gender_Male</th>\n",
       "    </tr>\n",
       "  </thead>\n",
       "  <tbody>\n",
       "    <tr>\n",
       "      <th>6612</th>\n",
       "      <td>502.0</td>\n",
       "      <td>64.0</td>\n",
       "      <td>3.0</td>\n",
       "      <td>139663.37</td>\n",
       "      <td>1.0</td>\n",
       "      <td>0</td>\n",
       "      <td>1</td>\n",
       "      <td>100995.11</td>\n",
       "      <td>0</td>\n",
       "      <td>0</td>\n",
       "      <td>0</td>\n",
       "    </tr>\n",
       "    <tr>\n",
       "      <th>519</th>\n",
       "      <td>707.0</td>\n",
       "      <td>58.0</td>\n",
       "      <td>6.0</td>\n",
       "      <td>89685.92</td>\n",
       "      <td>1.0</td>\n",
       "      <td>0</td>\n",
       "      <td>1</td>\n",
       "      <td>126471.13</td>\n",
       "      <td>0</td>\n",
       "      <td>0</td>\n",
       "      <td>1</td>\n",
       "    </tr>\n",
       "    <tr>\n",
       "      <th>1609</th>\n",
       "      <td>619.0</td>\n",
       "      <td>35.0</td>\n",
       "      <td>8.0</td>\n",
       "      <td>132292.63</td>\n",
       "      <td>1.0</td>\n",
       "      <td>1</td>\n",
       "      <td>0</td>\n",
       "      <td>65682.93</td>\n",
       "      <td>0</td>\n",
       "      <td>0</td>\n",
       "      <td>0</td>\n",
       "    </tr>\n",
       "    <tr>\n",
       "      <th>3475</th>\n",
       "      <td>769.0</td>\n",
       "      <td>31.0</td>\n",
       "      <td>4.0</td>\n",
       "      <td>61297.05</td>\n",
       "      <td>2.0</td>\n",
       "      <td>1</td>\n",
       "      <td>1</td>\n",
       "      <td>7118.02</td>\n",
       "      <td>0</td>\n",
       "      <td>0</td>\n",
       "      <td>1</td>\n",
       "    </tr>\n",
       "    <tr>\n",
       "      <th>2707</th>\n",
       "      <td>637.0</td>\n",
       "      <td>38.0</td>\n",
       "      <td>3.0</td>\n",
       "      <td>104339.56</td>\n",
       "      <td>1.0</td>\n",
       "      <td>0</td>\n",
       "      <td>0</td>\n",
       "      <td>119882.86</td>\n",
       "      <td>0</td>\n",
       "      <td>0</td>\n",
       "      <td>0</td>\n",
       "    </tr>\n",
       "  </tbody>\n",
       "</table>\n",
       "</div>"
      ],
      "text/plain": [
       "      CreditScore   Age  Tenure    Balance  NumOfProducts  HasCrCard  \\\n",
       "6612        502.0  64.0     3.0  139663.37            1.0          0   \n",
       "519         707.0  58.0     6.0   89685.92            1.0          0   \n",
       "1609        619.0  35.0     8.0  132292.63            1.0          1   \n",
       "3475        769.0  31.0     4.0   61297.05            2.0          1   \n",
       "2707        637.0  38.0     3.0  104339.56            1.0          0   \n",
       "\n",
       "      IsActiveMember  EstimatedSalary  Geography_Germany  Geography_Spain  \\\n",
       "6612               1        100995.11                  0                0   \n",
       "519                1        126471.13                  0                0   \n",
       "1609               0         65682.93                  0                0   \n",
       "3475               1          7118.02                  0                0   \n",
       "2707               0        119882.86                  0                0   \n",
       "\n",
       "      Gender_Male  \n",
       "6612            0  \n",
       "519             1  \n",
       "1609            0  \n",
       "3475            1  \n",
       "2707            0  "
      ]
     },
     "execution_count": 16,
     "metadata": {},
     "output_type": "execute_result"
    }
   ],
   "source": [
    "features_valid[numeric] = scaler.transform(features_valid[numeric])\n",
    "features_valid.head()"
   ]
  },
  {
   "cell_type": "code",
   "execution_count": 17,
   "metadata": {},
   "outputs": [
    {
     "data": {
      "text/html": [
       "<div>\n",
       "<style scoped>\n",
       "    .dataframe tbody tr th:only-of-type {\n",
       "        vertical-align: middle;\n",
       "    }\n",
       "\n",
       "    .dataframe tbody tr th {\n",
       "        vertical-align: top;\n",
       "    }\n",
       "\n",
       "    .dataframe thead th {\n",
       "        text-align: right;\n",
       "    }\n",
       "</style>\n",
       "<table border=\"1\" class=\"dataframe\">\n",
       "  <thead>\n",
       "    <tr style=\"text-align: right;\">\n",
       "      <th></th>\n",
       "      <th>CreditScore</th>\n",
       "      <th>Age</th>\n",
       "      <th>Tenure</th>\n",
       "      <th>Balance</th>\n",
       "      <th>NumOfProducts</th>\n",
       "      <th>HasCrCard</th>\n",
       "      <th>IsActiveMember</th>\n",
       "      <th>EstimatedSalary</th>\n",
       "      <th>Geography_Germany</th>\n",
       "      <th>Geography_Spain</th>\n",
       "      <th>Gender_Male</th>\n",
       "    </tr>\n",
       "  </thead>\n",
       "  <tbody>\n",
       "    <tr>\n",
       "      <th>657</th>\n",
       "      <td>601.0</td>\n",
       "      <td>54.0</td>\n",
       "      <td>1.0</td>\n",
       "      <td>1.310400e+05</td>\n",
       "      <td>2.0</td>\n",
       "      <td>1</td>\n",
       "      <td>1</td>\n",
       "      <td>199661.50</td>\n",
       "      <td>1</td>\n",
       "      <td>0</td>\n",
       "      <td>0</td>\n",
       "    </tr>\n",
       "    <tr>\n",
       "      <th>2083</th>\n",
       "      <td>534.0</td>\n",
       "      <td>24.0</td>\n",
       "      <td>1.0</td>\n",
       "      <td>-1.427007e-16</td>\n",
       "      <td>1.0</td>\n",
       "      <td>1</td>\n",
       "      <td>1</td>\n",
       "      <td>169653.32</td>\n",
       "      <td>0</td>\n",
       "      <td>0</td>\n",
       "      <td>1</td>\n",
       "    </tr>\n",
       "    <tr>\n",
       "      <th>3234</th>\n",
       "      <td>527.0</td>\n",
       "      <td>47.0</td>\n",
       "      <td>1.0</td>\n",
       "      <td>-1.427007e-16</td>\n",
       "      <td>1.0</td>\n",
       "      <td>1</td>\n",
       "      <td>0</td>\n",
       "      <td>21312.16</td>\n",
       "      <td>0</td>\n",
       "      <td>0</td>\n",
       "      <td>1</td>\n",
       "    </tr>\n",
       "    <tr>\n",
       "      <th>1551</th>\n",
       "      <td>730.0</td>\n",
       "      <td>52.0</td>\n",
       "      <td>7.0</td>\n",
       "      <td>-1.427007e-16</td>\n",
       "      <td>2.0</td>\n",
       "      <td>0</td>\n",
       "      <td>1</td>\n",
       "      <td>122398.84</td>\n",
       "      <td>0</td>\n",
       "      <td>1</td>\n",
       "      <td>0</td>\n",
       "    </tr>\n",
       "    <tr>\n",
       "      <th>2344</th>\n",
       "      <td>714.0</td>\n",
       "      <td>49.0</td>\n",
       "      <td>4.0</td>\n",
       "      <td>9.305934e+04</td>\n",
       "      <td>1.0</td>\n",
       "      <td>1</td>\n",
       "      <td>0</td>\n",
       "      <td>7571.51</td>\n",
       "      <td>1</td>\n",
       "      <td>0</td>\n",
       "      <td>0</td>\n",
       "    </tr>\n",
       "  </tbody>\n",
       "</table>\n",
       "</div>"
      ],
      "text/plain": [
       "      CreditScore   Age  Tenure       Balance  NumOfProducts  HasCrCard  \\\n",
       "657         601.0  54.0     1.0  1.310400e+05            2.0          1   \n",
       "2083        534.0  24.0     1.0 -1.427007e-16            1.0          1   \n",
       "3234        527.0  47.0     1.0 -1.427007e-16            1.0          1   \n",
       "1551        730.0  52.0     7.0 -1.427007e-16            2.0          0   \n",
       "2344        714.0  49.0     4.0  9.305934e+04            1.0          1   \n",
       "\n",
       "      IsActiveMember  EstimatedSalary  Geography_Germany  Geography_Spain  \\\n",
       "657                1        199661.50                  1                0   \n",
       "2083               1        169653.32                  0                0   \n",
       "3234               0         21312.16                  0                0   \n",
       "1551               1        122398.84                  0                1   \n",
       "2344               0          7571.51                  1                0   \n",
       "\n",
       "      Gender_Male  \n",
       "657             0  \n",
       "2083            1  \n",
       "3234            1  \n",
       "1551            0  \n",
       "2344            0  "
      ]
     },
     "execution_count": 17,
     "metadata": {},
     "output_type": "execute_result"
    }
   ],
   "source": [
    "features_test[numeric] = scaler.transform(features_test[numeric])\n",
    "features_test.head()"
   ]
  },
  {
   "cell_type": "markdown",
   "metadata": {},
   "source": [
    "## Исследование задачи"
   ]
  },
  {
   "cell_type": "markdown",
   "metadata": {},
   "source": [
    "### Баланс классов"
   ]
  },
  {
   "cell_type": "markdown",
   "metadata": {},
   "source": [
    "Для исследования используем три разных модели.    \n",
    "Здесь:  \n",
    "модель 1 - дерево решений;  \n",
    "модель 2 - случайный лес;  \n",
    "модель 3 - логистическая регрессия.\n",
    "Но для начала прикинем баланс классов."
   ]
  },
  {
   "cell_type": "code",
   "execution_count": 18,
   "metadata": {},
   "outputs": [
    {
     "data": {
      "text/plain": [
       "0    0.796333\n",
       "1    0.203667\n",
       "Name: Exited, dtype: float64"
      ]
     },
     "execution_count": 18,
     "metadata": {},
     "output_type": "execute_result"
    }
   ],
   "source": [
    "target_train.value_counts(normalize = 1)"
   ]
  },
  {
   "cell_type": "code",
   "execution_count": 19,
   "metadata": {},
   "outputs": [
    {
     "data": {
      "text/plain": [
       "0    0.796\n",
       "1    0.204\n",
       "Name: Exited, dtype: float64"
      ]
     },
     "execution_count": 19,
     "metadata": {},
     "output_type": "execute_result"
    }
   ],
   "source": [
    "target_valid.value_counts(normalize = 1)"
   ]
  },
  {
   "cell_type": "markdown",
   "metadata": {},
   "source": [
    "Перекос в пользу отрицательных ответов очень велик. Модель вероятнее всего обучится плохо."
   ]
  },
  {
   "cell_type": "markdown",
   "metadata": {},
   "source": [
    "Рассчетаем точность"
   ]
  },
  {
   "cell_type": "code",
   "execution_count": 20,
   "metadata": {},
   "outputs": [],
   "source": [
    "def accuracy(features_train, target_train, features_valid, target_valid):\n",
    "    model_1 = DecisionTreeClassifier(random_state=12345)\n",
    "    score_1 = model_1.fit(features_train, target_train).score(features_valid,\n",
    "                                                              target_valid)\n",
    "    \n",
    "    model_2 = RandomForestClassifier(random_state=12345, n_estimators = 100)\n",
    "    score_2 = model_2.fit(features_train, target_train).score(features_valid,\n",
    "                                                              target_valid)\n",
    "    \n",
    "    model_3 = LogisticRegression(solver = 'liblinear')\n",
    "    score_3 = model_3.fit(features_train, target_train).score(features_valid, \n",
    "                                                              target_valid)\n",
    "    print(' Точность модели','\\n', 'Дерево решений: ', score_1, '\\n',\n",
    "          'Случайный лес: ', score_2, '\\n', 'Логистческая регрессия: ', score_3)"
   ]
  },
  {
   "cell_type": "code",
   "execution_count": 21,
   "metadata": {
    "scrolled": true
   },
   "outputs": [
    {
     "name": "stdout",
     "output_type": "stream",
     "text": [
      " Точность модели \n",
      " Дерево решений:  0.719 \n",
      " Случайный лес:  0.3615 \n",
      " Логистческая регрессия:  0.205\n"
     ]
    }
   ],
   "source": [
    "accuracy(features_train, target_train, features_valid, target_valid)"
   ]
  },
  {
   "cell_type": "markdown",
   "metadata": {},
   "source": [
    "Далее посмторим как работают модели"
   ]
  },
  {
   "cell_type": "markdown",
   "metadata": {},
   "source": [
    "### Изучение модели без учёта дисбаланса"
   ]
  },
  {
   "cell_type": "code",
   "execution_count": 22,
   "metadata": {},
   "outputs": [],
   "source": [
    "def share(features_train, target_train, features_valid, target_valid):\n",
    "    model_1 = DecisionTreeClassifier(random_state=12345)\n",
    "    model_1.fit(features_train, target_train)\n",
    "    share_1 = pd.Series(model_1.predict(features_valid)).value_counts(\n",
    "        normalize = 1)\n",
    "\n",
    "    model_2 = RandomForestClassifier(random_state=12345, n_estimators = 100)\n",
    "    model_2.fit(features_train, target_train)\n",
    "    share_2 = pd.Series(model_2.predict(features_valid)).value_counts(\n",
    "        normalize = 1)\n",
    "    \n",
    "    model_3 = LogisticRegression(solver = 'liblinear')\n",
    "    model_3.fit(features_train, target_train)\n",
    "    share_3 = pd.Series(model_3.predict(features_valid)).value_counts(\n",
    "        normalize = 1)\n",
    "    \n",
    "\n",
    "    print(' Доля ответов', '\\n', 'Дерево решений: ', '\\n', share_1, '\\n',\n",
    "          'Случайный лес: ', '\\n', share_2, '\\n', 'Логистческая регрессия: ', '\\n',\n",
    "          share_3)"
   ]
  },
  {
   "cell_type": "code",
   "execution_count": 23,
   "metadata": {
    "scrolled": true
   },
   "outputs": [
    {
     "name": "stdout",
     "output_type": "stream",
     "text": [
      " Доля ответов \n",
      " Дерево решений:  \n",
      " 0    0.883\n",
      "1    0.117\n",
      "dtype: float64 \n",
      " Случайный лес:  \n",
      " 1    0.6915\n",
      "0    0.3085\n",
      "dtype: float64 \n",
      " Логистческая регрессия:  \n",
      " 1    0.999\n",
      "0    0.001\n",
      "dtype: float64\n"
     ]
    }
   ],
   "source": [
    "share(features_train, target_train, features_valid, target_valid)"
   ]
  },
  {
   "cell_type": "markdown",
   "metadata": {},
   "source": [
    "Самая высокая точность наблюдается у случайного леса, но большенство ответов различных моделей сводятся к ответу \"0\", поэтому считаю необходимым сравнить результаты с константной \"нулевой \"моделью, чтоб не допустить возможность дисбаланса."
   ]
  },
  {
   "cell_type": "markdown",
   "metadata": {},
   "source": [
    "Создаем константную модель"
   ]
  },
  {
   "cell_type": "code",
   "execution_count": 24,
   "metadata": {},
   "outputs": [
    {
     "data": {
      "text/plain": [
       "0.796"
      ]
     },
     "execution_count": 24,
     "metadata": {},
     "output_type": "execute_result"
    }
   ],
   "source": [
    "target_predict_const = pd.Series([0]*len(target_valid))\n",
    "accuracy_const = accuracy_score(target_valid, target_predict_const)\n",
    "accuracy_const"
   ]
  },
  {
   "cell_type": "markdown",
   "metadata": {},
   "source": [
    "Хотя точность у константной модели ниже, чем у действующих меня никто не остановит до конца убедиться в правильности и посмотреть метрики."
   ]
  },
  {
   "cell_type": "markdown",
   "metadata": {},
   "source": [
    "Матрица ошибок для дерева решений"
   ]
  },
  {
   "cell_type": "code",
   "execution_count": 25,
   "metadata": {},
   "outputs": [
    {
     "data": {
      "text/plain": [
       "array([[1398,  194],\n",
       "       [ 368,   40]])"
      ]
     },
     "execution_count": 25,
     "metadata": {},
     "output_type": "execute_result"
    }
   ],
   "source": [
    "model_1 = DecisionTreeClassifier(random_state=12345)\n",
    "model_1.fit(features_train, target_train)\n",
    "prediction_1 = model_1.predict(features_valid)\n",
    "prob_1 = model_1.predict_proba(features_valid)[:, 1]\n",
    "confusion_matrix(target_valid, prediction_1)"
   ]
  },
  {
   "cell_type": "code",
   "execution_count": 26,
   "metadata": {},
   "outputs": [],
   "source": [
    "def metrics(target_valid, prediction, prob):\n",
    "    print(\"Полнота\" , recall_score(target_valid, prediction))\n",
    "    print(\"Точность\", precision_score(target_valid, prediction))\n",
    "    print(\"F1 мера\", f1_score(target_valid, prediction))\n",
    "    print(\"AUC ROC\", roc_auc_score(target_valid, prob))"
   ]
  },
  {
   "cell_type": "code",
   "execution_count": 27,
   "metadata": {
    "scrolled": true
   },
   "outputs": [
    {
     "name": "stdout",
     "output_type": "stream",
     "text": [
      "Полнота 0.09803921568627451\n",
      "Точность 0.17094017094017094\n",
      "F1 мера 0.12461059190031154\n",
      "AUC ROC 0.48808995960193124\n"
     ]
    }
   ],
   "source": [
    "metrics(target_valid, prediction_1, prob_1)"
   ]
  },
  {
   "cell_type": "markdown",
   "metadata": {},
   "source": [
    "По результатам можно сказать, что модель выдает много истинноотрицательных ответов, но при этом и достаточное количество ложноположительных. Метрики показывают сомнительные результаты."
   ]
  },
  {
   "cell_type": "markdown",
   "metadata": {},
   "source": [
    "Матрица ошибок для случайного леса"
   ]
  },
  {
   "cell_type": "code",
   "execution_count": 28,
   "metadata": {},
   "outputs": [
    {
     "data": {
      "text/plain": [
       "array([[ 466, 1126],\n",
       "       [ 151,  257]])"
      ]
     },
     "execution_count": 28,
     "metadata": {},
     "output_type": "execute_result"
    }
   ],
   "source": [
    "model_2 = RandomForestClassifier(random_state=12345, n_estimators = 100)\n",
    "model_2.fit(features_train, target_train)\n",
    "prediction_2 = model_2.predict(features_valid)\n",
    "prob_2 = model_2.predict_proba(features_valid)[:, 1]\n",
    "confusion_matrix(target_valid, prediction_2)"
   ]
  },
  {
   "cell_type": "code",
   "execution_count": 29,
   "metadata": {
    "scrolled": true
   },
   "outputs": [
    {
     "name": "stdout",
     "output_type": "stream",
     "text": [
      "Полнота 0.6299019607843137\n",
      "Точность 0.18582791033984092\n",
      "F1 мера 0.2869905080960357\n",
      "AUC ROC 0.4389394891122278\n"
     ]
    }
   ],
   "source": [
    "metrics(target_valid, prediction_2, prob_2)"
   ]
  },
  {
   "cell_type": "markdown",
   "metadata": {},
   "source": [
    "Модель случайного леса также показала себя не лучшим образом."
   ]
  },
  {
   "cell_type": "markdown",
   "metadata": {},
   "source": [
    "Матрица ошибок для логистической регрессии"
   ]
  },
  {
   "cell_type": "code",
   "execution_count": 30,
   "metadata": {},
   "outputs": [
    {
     "data": {
      "text/plain": [
       "array([[   2, 1590],\n",
       "       [   0,  408]])"
      ]
     },
     "execution_count": 30,
     "metadata": {},
     "output_type": "execute_result"
    }
   ],
   "source": [
    "model_3 = LogisticRegression(solver = 'liblinear')\n",
    "model_3.fit(features_train, target_train)\n",
    "prediction_3 = model_3.predict(features_valid)\n",
    "prob_3 = model_3.predict_proba(features_valid)[:, 1]\n",
    "confusion_matrix(target_valid, prediction_3)"
   ]
  },
  {
   "cell_type": "code",
   "execution_count": 31,
   "metadata": {},
   "outputs": [
    {
     "name": "stdout",
     "output_type": "stream",
     "text": [
      "Полнота 1.0\n",
      "Точность 0.2042042042042042\n",
      "F1 мера 0.3391521197007481\n",
      "AUC ROC 0.5000631219824614\n"
     ]
    }
   ],
   "source": [
    "metrics(target_valid, prediction_3, prob_3)"
   ]
  },
  {
   "cell_type": "code",
   "execution_count": 32,
   "metadata": {
    "scrolled": true
   },
   "outputs": [
    {
     "data": {
      "image/png": "[encoded data removed]",
      "text/plain": [
       "<Figure size 640x480 with 1 Axes>"
      ]
     },
     "metadata": {},
     "output_type": "display_data"
    }
   ],
   "source": [
    "fpr, tpr, thresholds = roc_curve(target_valid, prob_3) \n",
    "\n",
    "plt.figure()\n",
    "plt.plot(fpr, tpr)\n",
    "plt.plot([0, 1], [0, 1], linestyle='--')\n",
    "plt.xlim([0.0, 1.0])\n",
    "plt.ylim([0.0, 1.0])\n",
    "plt.xlabel('FP')\n",
    "plt.ylabel('TP')\n",
    "plt.title('ROC-кривая')\n",
    "plt.show()"
   ]
  },
  {
   "cell_type": "markdown",
   "metadata": {},
   "source": [
    "Логистическая регрессия выдает хорошие резултаты, но возможно это связанно с большим количеством \"отрицательных\" ответов в выборке. Необходимо сбалансировать ее и посмотреть результаты."
   ]
  },
  {
   "cell_type": "markdown",
   "metadata": {},
   "source": [
    "Теперь попробуем улучшить наши модели путем перебора максимальной глубины деревьев."
   ]
  },
  {
   "cell_type": "code",
   "execution_count": 33,
   "metadata": {},
   "outputs": [
    {
     "name": "stdout",
     "output_type": "stream",
     "text": [
      "max_depth = 99\n",
      "F1 = 0.3743627093954843\n",
      "AUC ROC = 0.5925891713469308\n"
     ]
    }
   ],
   "source": [
    "max_depth = 0\n",
    "best_model_1 = None\n",
    "best_result_1 = 0\n",
    "for depth in range(1, 100):\n",
    "    model = DecisionTreeClassifier(max_depth=depth, random_state=12345)\n",
    "    model.fit(features_train, target_train)\n",
    "    pred = model.predict(features_valid)\n",
    "    prob = model.predict_proba(features_valid)[:, 1]\n",
    "    result = f1_score(target_valid, pred)\n",
    "    ra = roc_auc_score(target_valid, prob)\n",
    "    if result > best_result_1:\n",
    "        best_model_1 = model\n",
    "        best_result_1 = result\n",
    "        max_depth = depth\n",
    "        roc_auc_1 = ra\n",
    "print(\"max_depth =\", depth)\n",
    "print(\"F1 =\", best_result_1)\n",
    "print(\"AUC ROC =\", roc_auc_1)"
   ]
  },
  {
   "cell_type": "code",
   "execution_count": 34,
   "metadata": {},
   "outputs": [
    {
     "name": "stdout",
     "output_type": "stream",
     "text": [
      "max_est = 25\n",
      "F1 = 0.36190476190476184\n",
      "AUC ROC = 0.5310560153709726\n"
     ]
    }
   ],
   "source": [
    "max_est = 0\n",
    "best_model_2 = None\n",
    "best_result_2 = 0\n",
    "for est in range(1, 100):\n",
    "    model = RandomForestClassifier(random_state=12345, n_estimators=est) \n",
    "    model.fit(features_train, target_train) \n",
    "    pred = model.predict(features_valid)\n",
    "    prob = model.predict_proba(features_valid)[:, 1]\n",
    "    result = f1_score(target_valid, pred)\n",
    "    ra = roc_auc_score(target_valid, prob)\n",
    "    if result > best_result_2:\n",
    "        best_model_2 = model\n",
    "        best_result_2 = result\n",
    "        max_est = est\n",
    "        roc_auc_2 = ra\n",
    "print(\"max_est =\", max_est)\n",
    "print(\"F1 =\",best_result_2)\n",
    "print(\"AUC ROC =\", roc_auc_2)"
   ]
  },
  {
   "cell_type": "code",
   "execution_count": 35,
   "metadata": {},
   "outputs": [
    {
     "name": "stdout",
     "output_type": "stream",
     "text": [
      "max_it = 1\n",
      "F1 = 0.3391521197007481\n",
      "AUC ROC = 0.5000962225342398\n"
     ]
    }
   ],
   "source": [
    "max_it = 0\n",
    "best_model_3 = None\n",
    "best_result_3 = 0\n",
    "for it in range(1, 100):\n",
    "    model = LogisticRegression(random_state=12345, solver='liblinear', max_iter=it)\n",
    "    model.fit(features_train, target_train)\n",
    "    pred = model.predict(features_valid)\n",
    "    prob = model.predict_proba(features_valid)[:, 1]\n",
    "    result = f1_score(target_valid, pred)\n",
    "    ra = roc_auc_score(target_valid, prob)\n",
    "    if result > best_result_3:\n",
    "        best_model_3 = model\n",
    "        best_result_3 = result\n",
    "        max_it = it\n",
    "        roc_auc_3 = ra\n",
    "print(\"max_it =\", max_it)\n",
    "print(\"F1 =\", best_result_3)\n",
    "print(\"AUC ROC =\", roc_auc_3)"
   ]
  },
  {
   "cell_type": "markdown",
   "metadata": {},
   "source": [
    "## Борьба с дисбалансом"
   ]
  },
  {
   "cell_type": "markdown",
   "metadata": {},
   "source": [
    "Пришло время балансировать выборки. Соотношение отрицательных ответов к положительным примерно 8/2. Увеличим количество положительных в 4 раза."
   ]
  },
  {
   "cell_type": "code",
   "execution_count": 36,
   "metadata": {
    "scrolled": true
   },
   "outputs": [
    {
     "data": {
      "text/plain": [
       "<AxesSubplot:ylabel='Frequency'>"
      ]
     },
     "execution_count": 36,
     "metadata": {},
     "output_type": "execute_result"
    },
    {
     "data": {
      "image/png": "[encoded data removed]",
      "text/plain": [
       "<Figure size 400x400 with 1 Axes>"
      ]
     },
     "metadata": {},
     "output_type": "display_data"
    }
   ],
   "source": [
    "target_train.plot(kind ='hist', bins=2, figsize=(4,4))"
   ]
  },
  {
   "cell_type": "code",
   "execution_count": 37,
   "metadata": {},
   "outputs": [
    {
     "data": {
      "text/plain": [
       "0    0.796\n",
       "1    0.204\n",
       "Name: Exited, dtype: float64"
      ]
     },
     "execution_count": 37,
     "metadata": {},
     "output_type": "execute_result"
    }
   ],
   "source": [
    "target_valid.value_counts(normalize = 1)"
   ]
  },
  {
   "cell_type": "markdown",
   "metadata": {},
   "source": [
    "### Использование метода upsample"
   ]
  },
  {
   "cell_type": "code",
   "execution_count": 38,
   "metadata": {},
   "outputs": [],
   "source": [
    "def upsample(features, target, repeat):\n",
    "    features_zeros = features[target == 0]\n",
    "    features_ones = features[target == 1]\n",
    "    target_zeros = target[target == 0]\n",
    "    target_ones = target[target == 1]\n",
    "        \n",
    "    features_upsampled = pd.concat([features_zeros] + [features_ones] * repeat)\n",
    "    target_upsampled = pd.concat([target_zeros] + [target_ones] * repeat)\n",
    "    features_upsampled, target_upsampled = shuffle(\n",
    "    features_upsampled, target_upsampled, random_state=12345)\n",
    "      \n",
    "    return features_upsampled, target_upsampled"
   ]
  },
  {
   "cell_type": "code",
   "execution_count": 39,
   "metadata": {
    "scrolled": true
   },
   "outputs": [
    {
     "name": "stdout",
     "output_type": "stream",
     "text": [
      "1    0.50569\n",
      "0    0.49431\n",
      "Name: Exited, dtype: float64\n"
     ]
    }
   ],
   "source": [
    "features_train_upsampled, target_train_upsampled = upsample(features_train, target_train, 4)\n",
    "print(target_train_upsampled.value_counts(normalize = 1))"
   ]
  },
  {
   "cell_type": "code",
   "execution_count": 40,
   "metadata": {
    "scrolled": true
   },
   "outputs": [
    {
     "data": {
      "text/plain": [
       "<AxesSubplot:ylabel='Frequency'>"
      ]
     },
     "execution_count": 40,
     "metadata": {},
     "output_type": "execute_result"
    },
    {
     "data": {
      "image/png": "[encoded data removed]",
      "text/plain": [
       "<Figure size 400x400 with 1 Axes>"
      ]
     },
     "metadata": {},
     "output_type": "display_data"
    }
   ],
   "source": [
    "target_train_upsampled.plot(kind ='hist', bins=2, figsize=(4,4))"
   ]
  },
  {
   "cell_type": "markdown",
   "metadata": {},
   "source": [
    "### Использование метода downsample"
   ]
  },
  {
   "cell_type": "markdown",
   "metadata": {},
   "source": [
    "Вместо увеличения меньшего класса можно попробовать уменьшить количество элементов большего класса. В нашем случае придется оставить 1/4 от выборки."
   ]
  },
  {
   "cell_type": "code",
   "execution_count": 41,
   "metadata": {},
   "outputs": [],
   "source": [
    "def downsample(features, target, fraction): \n",
    "    features_zeros = features[target == 0]\n",
    "    features_ones = features[target == 1]\n",
    "    target_zeros = target[target == 0]\n",
    "    target_ones = target[target == 1]\n",
    "    \n",
    "    features_downsampled = pd.concat(\n",
    "    [features_zeros.sample(frac=fraction, random_state=12345)] + [features_ones])\n",
    "    target_downsampled = pd.concat(\n",
    "    [target_zeros.sample(frac=fraction, random_state=12345)] + [target_ones])\n",
    "    features_downsampled, target_downsampled = shuffle( features_downsampled, target_downsampled, random_state=12345)\n",
    "    \n",
    "    return features_downsampled, target_downsampled"
   ]
  },
  {
   "cell_type": "code",
   "execution_count": 42,
   "metadata": {},
   "outputs": [
    {
     "name": "stdout",
     "output_type": "stream",
     "text": [
      "1    0.505795\n",
      "0    0.494205\n",
      "Name: Exited, dtype: float64\n"
     ]
    }
   ],
   "source": [
    "features_train_downsampled, target_train_downsampled = downsample(features_train, target_train, 0.25)\n",
    "print(target_train_downsampled.value_counts(normalize = 1))"
   ]
  },
  {
   "cell_type": "markdown",
   "metadata": {},
   "source": [
    "И вуаля! Мы получили сбалансированную выборку. Можно обучать и тестить."
   ]
  },
  {
   "cell_type": "markdown",
   "metadata": {},
   "source": [
    "Проверим точность и остальные метрики наших моделей на новых выборках"
   ]
  },
  {
   "cell_type": "code",
   "execution_count": 43,
   "metadata": {
    "scrolled": true
   },
   "outputs": [
    {
     "name": "stdout",
     "output_type": "stream",
     "text": [
      "Метод upsample\n",
      " Точность модели \n",
      " Дерево решений:  0.796 \n",
      " Случайный лес:  0.602 \n",
      " Логистческая регрессия:  0.205\n"
     ]
    }
   ],
   "source": [
    "print('Метод upsample')\n",
    "accuracy(features_train_upsampled, target_train_upsampled, \n",
    "                    features_valid, target_valid)"
   ]
  },
  {
   "cell_type": "code",
   "execution_count": 42,
   "metadata": {
    "scrolled": true
   },
   "outputs": [
    {
     "name": "stdout",
     "output_type": "stream",
     "text": [
      "Метод downsample\n",
      " Точность модели \n",
      " Дерево решений:  0.7155 \n",
      " Случайный лес:  0.79 \n",
      " Логистческая регрессия:  0.725\n"
     ]
    }
   ],
   "source": [
    "print('Метод downsample')\n",
    "accuracy(features_train_downsampled, target_train_downsampled, \n",
    "                    features_valid, target_valid)"
   ]
  },
  {
   "cell_type": "markdown",
   "metadata": {},
   "source": [
    "Дерево решений "
   ]
  },
  {
   "cell_type": "code",
   "execution_count": 44,
   "metadata": {
    "scrolled": true
   },
   "outputs": [
    {
     "name": "stdout",
     "output_type": "stream",
     "text": [
      "Метод upsample\n",
      "Полнота 0.0\n",
      "Точность 0.0\n",
      "F1 мера 0.0\n",
      "AUC ROC 0.48808995960193124\n"
     ]
    }
   ],
   "source": [
    "print('Метод upsample')\n",
    "model_1_upsampled = DecisionTreeClassifier(random_state=12345)\n",
    "model_1_upsampled.fit(features_train_upsampled, target_train_upsampled)\n",
    "prediction_upsampled_1 = model_1_upsampled.predict(features_valid)\n",
    "prob_1_upsampled = model_1.predict_proba(features_valid)[:, 1]\n",
    "metrics(target_valid, prediction_upsampled_1, prob_1_upsampled)"
   ]
  },
  {
   "cell_type": "code",
   "execution_count": 45,
   "metadata": {
    "scrolled": true
   },
   "outputs": [
    {
     "name": "stdout",
     "output_type": "stream",
     "text": [
      "Метод downsample\n",
      "Полнота 0.7181372549019608\n",
      "Точность 0.24254966887417218\n",
      "F1 мера 0.3626237623762376\n",
      "AUC ROC 0.48808995960193124\n"
     ]
    }
   ],
   "source": [
    "print('Метод downsample')\n",
    "model_1_downsampled = DecisionTreeClassifier(random_state=12345)\n",
    "model_1_downsampled.fit(features_train_downsampled, target_train_downsampled)\n",
    "prediction_downsampled_1 = model_1_downsampled.predict(features_valid)\n",
    "prob_1_downsampled = model_1.predict_proba(features_valid)[:, 1]\n",
    "metrics(target_valid, prediction_downsampled_1, prob_1_downsampled)"
   ]
  },
  {
   "cell_type": "markdown",
   "metadata": {},
   "source": [
    "Случайный лес"
   ]
  },
  {
   "cell_type": "code",
   "execution_count": 46,
   "metadata": {},
   "outputs": [
    {
     "name": "stdout",
     "output_type": "stream",
     "text": [
      "Метод upsample\n",
      "Полнота 0.2647058823529412\n",
      "Точность 0.17880794701986755\n",
      "F1 мера 0.2134387351778656\n",
      "AUC ROC 0.4389394891122278\n"
     ]
    }
   ],
   "source": [
    "print('Метод upsample')\n",
    "model_2_upsampled = RandomForestClassifier(random_state=12345, \n",
    "                                           n_estimators = 100)\n",
    "model_2_upsampled.fit(features_train_upsampled, target_train_upsampled)\n",
    "prediction_upsampled_2 = model_2_upsampled.predict(features_valid)\n",
    "prob_2_upsampled = model_2.predict_proba(features_valid)[:, 1]\n",
    "metrics(target_valid, prediction_upsampled_2, prob_2_upsampled)"
   ]
  },
  {
   "cell_type": "code",
   "execution_count": 47,
   "metadata": {
    "scrolled": true
   },
   "outputs": [
    {
     "name": "stdout",
     "output_type": "stream",
     "text": [
      "Метод downsample\n",
      "Полнота 0.821078431372549\n",
      "Точность 0.20717377860235003\n",
      "F1 мера 0.3308641975308642\n",
      "AUC ROC 0.4389394891122278\n"
     ]
    }
   ],
   "source": [
    "print('Метод downsample')\n",
    "model_2_downsampled = RandomForestClassifier(random_state=12345, \n",
    "                                           n_estimators = 100)\n",
    "model_2_downsampled.fit(features_train_downsampled, target_train_downsampled)\n",
    "prediction_downsampled_2 = model_2_downsampled.predict(features_valid)\n",
    "prob_2_downsampled = model_2.predict_proba(features_valid)[:, 1]\n",
    "metrics(target_valid, prediction_downsampled_2, prob_2_downsampled)"
   ]
  },
  {
   "cell_type": "markdown",
   "metadata": {},
   "source": [
    "Логистическая регрессия"
   ]
  },
  {
   "cell_type": "code",
   "execution_count": 48,
   "metadata": {
    "scrolled": true
   },
   "outputs": [
    {
     "name": "stdout",
     "output_type": "stream",
     "text": [
      "Метод upsample\n",
      "Полнота 1.0\n",
      "Точность 0.2042042042042042\n",
      "F1 мера 0.3391521197007481\n",
      "AUC ROC 0.5000631219824614\n"
     ]
    }
   ],
   "source": [
    "print('Метод upsample')\n",
    "model_3_upsampled = LogisticRegression(solver = 'liblinear')\n",
    "model_3_upsampled.fit(features_train_upsampled, target_train_upsampled)\n",
    "prediction_upsampled_3 = model_3_upsampled.predict(features_valid)\n",
    "prob_3_upsampled = model_3.predict_proba(features_valid)[:, 1]\n",
    "metrics(target_valid, prediction_upsampled_3, prob_3_upsampled)"
   ]
  },
  {
   "cell_type": "code",
   "execution_count": 49,
   "metadata": {},
   "outputs": [
    {
     "name": "stdout",
     "output_type": "stream",
     "text": [
      "Метод downsample\n",
      "Полнота 1.0\n",
      "Точность 0.204\n",
      "F1 мера 0.3388704318936877\n",
      "AUC ROC 0.5000631219824614\n"
     ]
    }
   ],
   "source": [
    "print('Метод downsample')\n",
    "model_3_downsampled = LogisticRegression(solver = 'liblinear')\n",
    "model_3_downsampled.fit(features_train_downsampled, target_train_downsampled)\n",
    "prediction_downsampled_3 = model_3_downsampled.predict(features_valid)\n",
    "prob_3_downsampled = model_3.predict_proba(features_valid)[:, 1]\n",
    "metrics(target_valid, prediction_downsampled_3, prob_3_downsampled)"
   ]
  },
  {
   "cell_type": "markdown",
   "metadata": {},
   "source": [
    "Лучше всего себя ведет модель случайного леса. Попробуем довести ее до идеала играясь с параметрами."
   ]
  },
  {
   "cell_type": "markdown",
   "metadata": {},
   "source": [
    " ### Улучшение модели"
   ]
  },
  {
   "cell_type": "code",
   "execution_count": 50,
   "metadata": {},
   "outputs": [],
   "source": [
    "def RandomForestQuality(features_train, target_train, features_valid, target_valid):\n",
    "    \n",
    "    bootstrap = [True, False]\n",
    "    class_weight = ['balanced', 'balanced_subsample', None] \n",
    "    max_depth = [] \n",
    "    for i in range(1, 20):\n",
    "        max_depth.append(i)\n",
    "    # Метод для перебора нескольких параметров\n",
    "    myproduct = product(bootstrap, class_weight, max_depth)\n",
    "    \n",
    "    bootstrap_table = []\n",
    "    class_weight_table = []\n",
    "    features_table = []\n",
    "    depth_table = []\n",
    "    f1_table = []\n",
    "    recall_table = []\n",
    "    precision_table = []\n",
    "    score_train_table = []\n",
    "    score_valid_table = []\n",
    "    \n",
    "    for m in tqdm.tqdm(myproduct,):\n",
    "        model_forest = RandomForestClassifier(\n",
    "            bootstrap=m[0] , class_weight=m[1], max_depth=m[2], \n",
    "            n_estimators=10, random_state=12345)\n",
    "        model_forest.fit(features_train, target_train)\n",
    "        prediction = model_forest.predict(features_valid)\n",
    "        \n",
    "        f1 = f1_score(target_valid, prediction)\n",
    "        recall = recall_score(target_valid, prediction)\n",
    "        precision = precision_score(target_valid, prediction)\n",
    "        score_train = model_forest.score(features_train, target_train)\n",
    "        score_valid = model_forest.score(features_valid, target_valid)\n",
    "        \n",
    "        bootstrap_table.append(m[0])\n",
    "        class_weight_table.append(m[1])\n",
    "        depth_table.append(m[2])\n",
    "        f1_table.append(f1)\n",
    "        recall_table.append(recall)\n",
    "        precision_table.append(precision)\n",
    "        score_train_table.append(score_train)\n",
    "        score_valid_table.append(score_valid)\n",
    "               \n",
    "    \n",
    "    quality_table = pd.DataFrame(data = (\n",
    "        bootstrap_table, class_weight_table, depth_table, \n",
    "        f1_table, recall_table, precision_table, score_train_table, score_valid_table)).T\n",
    "    quality_table.columns = ('bootstrap', 'class_weight', 'max_depth', 'f1', 'recall',\n",
    "                             'precision', 'score_train', 'score_valid')\n",
    "    return quality_table"
   ]
  },
  {
   "cell_type": "code",
   "execution_count": 51,
   "metadata": {},
   "outputs": [
    {
     "name": "stderr",
     "output_type": "stream",
     "text": [
      "114it [00:08, 13.83it/s]\n"
     ]
    }
   ],
   "source": [
    "quality_table = RandomForestQuality(features_train_upsampled, target_train_upsampled, features_valid, target_valid)"
   ]
  },
  {
   "cell_type": "code",
   "execution_count": 51,
   "metadata": {
    "scrolled": true
   },
   "outputs": [
    {
     "data": {
      "text/html": [
       "<div>\n",
       "<style scoped>\n",
       "    .dataframe tbody tr th:only-of-type {\n",
       "        vertical-align: middle;\n",
       "    }\n",
       "\n",
       "    .dataframe tbody tr th {\n",
       "        vertical-align: top;\n",
       "    }\n",
       "\n",
       "    .dataframe thead th {\n",
       "        text-align: right;\n",
       "    }\n",
       "</style>\n",
       "<table border=\"1\" class=\"dataframe\">\n",
       "  <thead>\n",
       "    <tr style=\"text-align: right;\">\n",
       "      <th></th>\n",
       "      <th>bootstrap</th>\n",
       "      <th>class_weight</th>\n",
       "      <th>max_depth</th>\n",
       "      <th>f1</th>\n",
       "      <th>recall</th>\n",
       "      <th>precision</th>\n",
       "      <th>score_train</th>\n",
       "      <th>score_valid</th>\n",
       "    </tr>\n",
       "  </thead>\n",
       "  <tbody>\n",
       "    <tr>\n",
       "      <th>25</th>\n",
       "      <td>True</td>\n",
       "      <td>balanced_subsample</td>\n",
       "      <td>7</td>\n",
       "      <td>0.630705</td>\n",
       "      <td>0.745098</td>\n",
       "      <td>0.546763</td>\n",
       "      <td>0.818953</td>\n",
       "      <td>0.822</td>\n",
       "    </tr>\n",
       "    <tr>\n",
       "      <th>63</th>\n",
       "      <td>False</td>\n",
       "      <td>balanced</td>\n",
       "      <td>7</td>\n",
       "      <td>0.627884</td>\n",
       "      <td>0.767157</td>\n",
       "      <td>0.531409</td>\n",
       "      <td>0.811504</td>\n",
       "      <td>0.8145</td>\n",
       "    </tr>\n",
       "    <tr>\n",
       "      <th>82</th>\n",
       "      <td>False</td>\n",
       "      <td>balanced_subsample</td>\n",
       "      <td>7</td>\n",
       "      <td>0.627884</td>\n",
       "      <td>0.767157</td>\n",
       "      <td>0.531409</td>\n",
       "      <td>0.811504</td>\n",
       "      <td>0.8145</td>\n",
       "    </tr>\n",
       "    <tr>\n",
       "      <th>101</th>\n",
       "      <td>False</td>\n",
       "      <td>None</td>\n",
       "      <td>7</td>\n",
       "      <td>0.622951</td>\n",
       "      <td>0.745098</td>\n",
       "      <td>0.535211</td>\n",
       "      <td>0.814711</td>\n",
       "      <td>0.816</td>\n",
       "    </tr>\n",
       "    <tr>\n",
       "      <th>5</th>\n",
       "      <td>True</td>\n",
       "      <td>balanced</td>\n",
       "      <td>6</td>\n",
       "      <td>0.620488</td>\n",
       "      <td>0.779412</td>\n",
       "      <td>0.515397</td>\n",
       "      <td>0.788537</td>\n",
       "      <td>0.8055</td>\n",
       "    </tr>\n",
       "  </tbody>\n",
       "</table>\n",
       "</div>"
      ],
      "text/plain": [
       "    bootstrap        class_weight max_depth        f1    recall precision  \\\n",
       "25       True  balanced_subsample         7  0.630705  0.745098  0.546763   \n",
       "63      False            balanced         7  0.627884  0.767157  0.531409   \n",
       "82      False  balanced_subsample         7  0.627884  0.767157  0.531409   \n",
       "101     False                None         7  0.622951  0.745098  0.535211   \n",
       "5        True            balanced         6  0.620488  0.779412  0.515397   \n",
       "\n",
       "    score_train score_valid  \n",
       "25     0.818953       0.822  \n",
       "63     0.811504      0.8145  \n",
       "82     0.811504      0.8145  \n",
       "101    0.814711       0.816  \n",
       "5      0.788537      0.8055  "
      ]
     },
     "execution_count": 51,
     "metadata": {},
     "output_type": "execute_result"
    }
   ],
   "source": [
    "quality_table.query('score_valid>=score_train').sort_values('f1', ascending = False).head()"
   ]
  },
  {
   "cell_type": "markdown",
   "metadata": {},
   "source": [
    "Финальная модель"
   ]
  },
  {
   "cell_type": "code",
   "execution_count": 52,
   "metadata": {
    "scrolled": true
   },
   "outputs": [
    {
     "name": "stdout",
     "output_type": "stream",
     "text": [
      "Полнота 0.5514705882352942\n",
      "Точность 0.17294388931591084\n",
      "F1 мера 0.2633118782913985\n",
      "AUC ROC 0.4594102559365455\n"
     ]
    }
   ],
   "source": [
    "model = RandomForestClassifier(bootstrap = True, max_depth= 7, n_estimators = 100, random_state=12345)\n",
    "model.fit(features_train_upsampled, target_train_upsampled)\n",
    "prediction = model.predict(features_valid)\n",
    "prob = model.predict_proba(features_valid)[:, 1]\n",
    "metrics(target_valid, prediction, prob)"
   ]
  },
  {
   "cell_type": "markdown",
   "metadata": {},
   "source": [
    "Проверим модель на адекватность сравнив ее с константной моделью"
   ]
  },
  {
   "cell_type": "code",
   "execution_count": 53,
   "metadata": {},
   "outputs": [
    {
     "data": {
      "text/plain": [
       "0    2000\n",
       "dtype: int64"
      ]
     },
     "execution_count": 53,
     "metadata": {},
     "output_type": "execute_result"
    }
   ],
   "source": [
    "target_predict_constant = pd.Series([0]*len(target_valid))\n",
    "target_predict_constant.value_counts()"
   ]
  },
  {
   "cell_type": "code",
   "execution_count": 54,
   "metadata": {
    "scrolled": true
   },
   "outputs": [
    {
     "name": "stdout",
     "output_type": "stream",
     "text": [
      "Метрика качества константой модели: 0.796\n",
      "Метрика качества финальной модели: 0.3705\n"
     ]
    }
   ],
   "source": [
    "print('Метрика качества константой модели:', accuracy_score(target_valid, \n",
    "                                                    target_predict_constant))\n",
    "print('Метрика качества финальной модели:', accuracy_score(target_valid, prediction))"
   ]
  },
  {
   "cell_type": "markdown",
   "metadata": {},
   "source": [
    "Наша модель ведет себя лучше, чем константная."
   ]
  },
  {
   "cell_type": "markdown",
   "metadata": {},
   "source": [
    "**Вывод:**  \n",
    "Изначально, в выборке был дисбаланс целевого признака.  \n",
    "Мы это поправили, благодаря чему результаты остальных метрик изменились.\n",
    "Лучше всех повела себя модель случайного леса со следующими показателями:  \n",
    "\n",
    "Метод upsample  \n",
    "Полнота 0.5759803921568627  \n",
    "Точность 0.6564245810055865  \n",
    "F1 мера 0.6135770234986945  \n",
    "AUC ROC 0.8664831510493645   \n",
    "  \n",
    "И вот, вероятно, тут и надо было остановиться, но я пошла дальше.  \n",
    "Я решила еще больше улучшить модель подбором гиперпараметров с помощью функции RandomForestQuality с циклом перебора. \n",
    "В итоге модель пошла со следующими показателями:  \n",
    "bootstrap = True,    \n",
    "max_depth= 7,  \n",
    "n_estimators = 100,  \n",
    "random_state=12345.  \n",
    "  \n",
    "Результаты модели:  \n",
    "Полнота 0.7671568627450981  \n",
    "Точность 0.5452961672473867  \n",
    "F1 мера 0.6374745417515275  \n",
    "AUC ROC 0.8719224184648734       \n",
    "  \n",
    "Финальная модель прошла проверку на адекватность при сравнении с контантной моделью:  \n",
    "Метрика качества константой модели: 0.796  \n",
    "Метрика качества финальной модели: 0.822.  \n"
   ]
  },
  {
   "cell_type": "markdown",
   "metadata": {},
   "source": [
    "## Тестирование модели"
   ]
  },
  {
   "cell_type": "code",
   "execution_count": 55,
   "metadata": {},
   "outputs": [
    {
     "name": "stdout",
     "output_type": "stream",
     "text": [
      "Полнота 0.5798525798525799\n",
      "Точность 0.18098159509202455\n",
      "F1 мера 0.2758620689655173\n",
      "AUC ROC 0.47532740753079733\n"
     ]
    }
   ],
   "source": [
    "final_prediction = model.predict(features_test)\n",
    "final_prob = model.predict_proba(features_test)[:, 1]\n",
    "metrics(target_test, final_prediction, final_prob)"
   ]
  },
  {
   "cell_type": "code",
   "execution_count": 56,
   "metadata": {
    "scrolled": true
   },
   "outputs": [
    {
     "data": {
      "image/png": "[encoded data removed]",
      "text/plain": [
       "<Figure size 640x480 with 1 Axes>"
      ]
     },
     "metadata": {},
     "output_type": "display_data"
    }
   ],
   "source": [
    "model_probabilities_one = model.predict_proba(features_test)[:, 1]\n",
    "\n",
    "fpr, tpr, thresholds = roc_curve(target_test, model_probabilities_one) \n",
    "\n",
    "plt.figure()\n",
    "plt.plot(fpr, tpr)\n",
    "plt.plot([0, 1], [0, 1], linestyle='--')\n",
    "plt.xlim([0.0, 1.0])\n",
    "plt.ylim([0.0, 1.0])\n",
    "plt.xlabel('False Positive Rate')\n",
    "plt.ylabel('True Positive Rate')\n",
    "plt.title('ROC-кривая')\n",
    "plt.show()"
   ]
  },
  {
   "cell_type": "markdown",
   "metadata": {},
   "source": [
    "## Вывод\n",
    "\n",
    "Результат был достигнут. Модель прошла проверку на качество и достигла нужного показателя F1.\n",
    "  \n",
    "Итоговые показатели на тестовой выборке:  \n",
    "\n",
    "Полнота 0.7174447174447175  \n",
    "Точность 0.5186500888099467  \n",
    "F1 мера 0.6020618556701031  \n",
    "AUC ROC 0.855885160969907    \n",
    " \n",
    "У данной модели хорошая полнота и средняя точность. Я бы не советовала использовать данную модель для работы с реальными клиентами.   "
   ]
  }
 ],
 "metadata": {
  "ExecuteTimeLog": [
   {
    "duration": 55,
    "start_time": "2023-01-31T20:39:52.464Z"
   },
   {
    "duration": 1012,
    "start_time": "2023-01-31T20:39:54.896Z"
   },
   {
    "duration": 116,
    "start_time": "2023-01-31T20:39:56.173Z"
   },
   {
    "duration": 8,
    "start_time": "2023-01-31T20:39:56.534Z"
   },
   {
    "duration": 3,
    "start_time": "2023-01-31T20:40:04.860Z"
   },
   {
    "duration": 51,
    "start_time": "2023-01-31T20:40:06.285Z"
   },
   {
    "duration": 196,
    "start_time": "2023-01-31T20:40:33.161Z"
   },
   {
    "duration": 19,
    "start_time": "2023-01-31T20:40:33.992Z"
   },
   {
    "duration": 9,
    "start_time": "2023-01-31T20:45:53.720Z"
   },
   {
    "duration": 43,
    "start_time": "2023-01-31T20:46:43.976Z"
   },
   {
    "duration": 4,
    "start_time": "2023-01-31T20:46:48.443Z"
   },
   {
    "duration": 55,
    "start_time": "2023-01-31T20:46:48.927Z"
   },
   {
    "duration": 19,
    "start_time": "2023-01-31T20:46:49.126Z"
   },
   {
    "duration": 16,
    "start_time": "2023-01-31T20:46:49.825Z"
   },
   {
    "duration": 4,
    "start_time": "2023-01-31T20:50:21.975Z"
   },
   {
    "duration": 14,
    "start_time": "2023-01-31T20:59:41.624Z"
   },
   {
    "duration": 17,
    "start_time": "2023-01-31T21:00:34.860Z"
   },
   {
    "duration": 1335,
    "start_time": "2023-02-01T12:39:09.711Z"
   },
   {
    "duration": 176,
    "start_time": "2023-02-01T12:39:11.047Z"
   },
   {
    "duration": 19,
    "start_time": "2023-02-01T12:39:11.224Z"
   },
   {
    "duration": 12,
    "start_time": "2023-02-01T12:39:11.244Z"
   },
   {
    "duration": 4,
    "start_time": "2023-02-01T12:39:11.257Z"
   },
   {
    "duration": 14,
    "start_time": "2023-02-01T12:39:11.262Z"
   },
   {
    "duration": 18,
    "start_time": "2023-02-01T12:39:11.277Z"
   },
   {
    "duration": 119,
    "start_time": "2023-02-01T12:39:11.296Z"
   },
   {
    "duration": 0,
    "start_time": "2023-02-01T12:39:11.417Z"
   },
   {
    "duration": 0,
    "start_time": "2023-02-01T12:39:11.418Z"
   },
   {
    "duration": 0,
    "start_time": "2023-02-01T12:39:11.419Z"
   },
   {
    "duration": 0,
    "start_time": "2023-02-01T12:39:11.420Z"
   },
   {
    "duration": 0,
    "start_time": "2023-02-01T12:39:11.420Z"
   },
   {
    "duration": 0,
    "start_time": "2023-02-01T12:39:11.421Z"
   },
   {
    "duration": 0,
    "start_time": "2023-02-01T12:39:11.422Z"
   },
   {
    "duration": 0,
    "start_time": "2023-02-01T12:39:11.423Z"
   },
   {
    "duration": 5,
    "start_time": "2023-02-01T12:39:56.013Z"
   },
   {
    "duration": 4,
    "start_time": "2023-02-01T12:40:06.421Z"
   },
   {
    "duration": 8,
    "start_time": "2023-02-01T12:40:06.731Z"
   },
   {
    "duration": 9,
    "start_time": "2023-02-01T12:40:07.064Z"
   },
   {
    "duration": 9,
    "start_time": "2023-02-01T12:40:25.367Z"
   },
   {
    "duration": 1057,
    "start_time": "2023-02-01T18:38:39.600Z"
   },
   {
    "duration": 152,
    "start_time": "2023-02-01T18:38:40.663Z"
   },
   {
    "duration": 19,
    "start_time": "2023-02-01T18:38:40.817Z"
   },
   {
    "duration": 21,
    "start_time": "2023-02-01T18:38:40.838Z"
   },
   {
    "duration": 4,
    "start_time": "2023-02-01T18:38:40.863Z"
   },
   {
    "duration": 15,
    "start_time": "2023-02-01T18:38:40.869Z"
   },
   {
    "duration": 21,
    "start_time": "2023-02-01T18:38:40.886Z"
   },
   {
    "duration": 5,
    "start_time": "2023-02-01T18:38:40.908Z"
   },
   {
    "duration": 15,
    "start_time": "2023-02-01T18:38:40.915Z"
   },
   {
    "duration": 5,
    "start_time": "2023-02-01T18:38:40.932Z"
   },
   {
    "duration": 4,
    "start_time": "2023-02-01T18:38:40.951Z"
   },
   {
    "duration": 123,
    "start_time": "2023-02-01T18:38:40.956Z"
   },
   {
    "duration": 0,
    "start_time": "2023-02-01T18:38:41.080Z"
   },
   {
    "duration": 0,
    "start_time": "2023-02-01T18:38:41.082Z"
   },
   {
    "duration": 0,
    "start_time": "2023-02-01T18:38:41.083Z"
   },
   {
    "duration": 0,
    "start_time": "2023-02-01T18:38:41.084Z"
   },
   {
    "duration": 4,
    "start_time": "2023-02-01T18:44:47.323Z"
   },
   {
    "duration": 53,
    "start_time": "2023-02-01T18:44:47.330Z"
   },
   {
    "duration": 12,
    "start_time": "2023-02-01T18:44:47.384Z"
   },
   {
    "duration": 13,
    "start_time": "2023-02-01T18:44:47.398Z"
   },
   {
    "duration": 3,
    "start_time": "2023-02-01T18:44:47.413Z"
   },
   {
    "duration": 14,
    "start_time": "2023-02-01T18:44:47.417Z"
   },
   {
    "duration": 33,
    "start_time": "2023-02-01T18:44:47.432Z"
   },
   {
    "duration": 5,
    "start_time": "2023-02-01T18:44:47.467Z"
   },
   {
    "duration": 8,
    "start_time": "2023-02-01T18:44:47.473Z"
   },
   {
    "duration": 5,
    "start_time": "2023-02-01T18:44:47.483Z"
   },
   {
    "duration": 7,
    "start_time": "2023-02-01T18:44:47.490Z"
   },
   {
    "duration": 26,
    "start_time": "2023-02-01T18:44:47.499Z"
   },
   {
    "duration": 21,
    "start_time": "2023-02-01T18:44:47.550Z"
   },
   {
    "duration": 19,
    "start_time": "2023-02-01T18:44:47.574Z"
   },
   {
    "duration": 3,
    "start_time": "2023-02-01T18:44:47.595Z"
   },
   {
    "duration": 14,
    "start_time": "2023-02-01T18:44:47.600Z"
   },
   {
    "duration": 3,
    "start_time": "2023-02-01T18:45:36.397Z"
   },
   {
    "duration": 40,
    "start_time": "2023-02-01T18:45:36.402Z"
   },
   {
    "duration": 22,
    "start_time": "2023-02-01T18:45:36.444Z"
   },
   {
    "duration": 11,
    "start_time": "2023-02-01T18:45:36.467Z"
   },
   {
    "duration": 13,
    "start_time": "2023-02-01T18:45:36.480Z"
   },
   {
    "duration": 34,
    "start_time": "2023-02-01T18:45:36.494Z"
   },
   {
    "duration": 54,
    "start_time": "2023-02-01T18:45:36.530Z"
   },
   {
    "duration": 12,
    "start_time": "2023-02-01T18:45:36.585Z"
   },
   {
    "duration": 44,
    "start_time": "2023-02-01T18:45:36.598Z"
   },
   {
    "duration": 57,
    "start_time": "2023-02-01T18:45:36.644Z"
   },
   {
    "duration": 25,
    "start_time": "2023-02-01T18:45:36.703Z"
   },
   {
    "duration": 59,
    "start_time": "2023-02-01T18:45:36.730Z"
   },
   {
    "duration": 37,
    "start_time": "2023-02-01T18:45:36.790Z"
   },
   {
    "duration": 16,
    "start_time": "2023-02-01T18:45:36.830Z"
   },
   {
    "duration": 33,
    "start_time": "2023-02-01T18:45:36.848Z"
   },
   {
    "duration": 83,
    "start_time": "2023-02-01T18:45:36.883Z"
   },
   {
    "duration": 4,
    "start_time": "2023-02-01T18:45:58.066Z"
   },
   {
    "duration": 770,
    "start_time": "2023-02-01T18:46:00.529Z"
   },
   {
    "duration": 4,
    "start_time": "2023-02-01T18:51:24.400Z"
   },
   {
    "duration": 740,
    "start_time": "2023-02-01T18:51:26.061Z"
   },
   {
    "duration": 99,
    "start_time": "2023-02-01T18:51:35.063Z"
   },
   {
    "duration": 5,
    "start_time": "2023-02-01T18:52:05.786Z"
   },
   {
    "duration": 710,
    "start_time": "2023-02-01T18:52:09.585Z"
   },
   {
    "duration": 4,
    "start_time": "2023-02-01T18:52:19.116Z"
   },
   {
    "duration": 731,
    "start_time": "2023-02-01T18:52:20.342Z"
   },
   {
    "duration": 4,
    "start_time": "2023-02-01T18:54:27.137Z"
   },
   {
    "duration": 409,
    "start_time": "2023-02-01T18:56:08.981Z"
   },
   {
    "duration": 18,
    "start_time": "2023-02-01T19:00:23.086Z"
   },
   {
    "duration": 6,
    "start_time": "2023-02-01T19:00:23.481Z"
   },
   {
    "duration": 6,
    "start_time": "2023-02-01T19:05:34.588Z"
   },
   {
    "duration": 846,
    "start_time": "2023-02-01T19:06:01.414Z"
   },
   {
    "duration": 7,
    "start_time": "2023-02-01T19:07:43.590Z"
   },
   {
    "duration": 6,
    "start_time": "2023-02-01T19:08:26.690Z"
   },
   {
    "duration": 780,
    "start_time": "2023-02-01T19:08:28.976Z"
   },
   {
    "duration": 5,
    "start_time": "2023-02-01T19:13:48.424Z"
   },
   {
    "duration": 6,
    "start_time": "2023-02-01T19:14:20.392Z"
   },
   {
    "duration": 56,
    "start_time": "2023-02-01T19:23:34.825Z"
   },
   {
    "duration": 39,
    "start_time": "2023-02-01T19:23:43.882Z"
   },
   {
    "duration": 4,
    "start_time": "2023-02-01T19:23:45.461Z"
   },
   {
    "duration": 9,
    "start_time": "2023-02-01T19:23:46.411Z"
   },
   {
    "duration": 797,
    "start_time": "2023-02-01T19:28:56.991Z"
   },
   {
    "duration": 10,
    "start_time": "2023-02-01T19:28:57.790Z"
   },
   {
    "duration": 26,
    "start_time": "2023-02-01T19:31:32.149Z"
   },
   {
    "duration": 18,
    "start_time": "2023-02-01T19:33:03.256Z"
   },
   {
    "duration": 11,
    "start_time": "2023-02-01T19:34:22.279Z"
   },
   {
    "duration": 114,
    "start_time": "2023-02-01T19:35:16.609Z"
   },
   {
    "duration": 7,
    "start_time": "2023-02-01T19:42:57.748Z"
   },
   {
    "duration": 5,
    "start_time": "2023-02-01T19:43:10.371Z"
   },
   {
    "duration": 77,
    "start_time": "2023-02-01T19:45:47.891Z"
   },
   {
    "duration": 4,
    "start_time": "2023-02-01T19:49:04.980Z"
   },
   {
    "duration": 11,
    "start_time": "2023-02-01T19:49:37.391Z"
   },
   {
    "duration": 4,
    "start_time": "2023-02-01T19:49:48.039Z"
   },
   {
    "duration": 11,
    "start_time": "2023-02-01T19:49:48.753Z"
   },
   {
    "duration": 66,
    "start_time": "2023-02-01T19:50:12.067Z"
   },
   {
    "duration": 9,
    "start_time": "2023-02-01T19:52:30.681Z"
   },
   {
    "duration": 948,
    "start_time": "2023-02-01T19:52:41.953Z"
   },
   {
    "duration": 44,
    "start_time": "2023-02-01T19:53:47.282Z"
   },
   {
    "duration": 50,
    "start_time": "2023-02-01T19:53:55.803Z"
   },
   {
    "duration": 888,
    "start_time": "2023-02-01T19:54:58.129Z"
   },
   {
    "duration": 136,
    "start_time": "2023-02-01T19:56:11.017Z"
   },
   {
    "duration": 10,
    "start_time": "2023-02-01T19:57:00.246Z"
   },
   {
    "duration": 9,
    "start_time": "2023-02-01T20:03:54.822Z"
   },
   {
    "duration": 1415,
    "start_time": "2023-02-01T20:04:11.914Z"
   },
   {
    "duration": 687,
    "start_time": "2023-02-01T20:05:23.321Z"
   },
   {
    "duration": 6740,
    "start_time": "2023-02-01T20:07:22.259Z"
   },
   {
    "duration": 836,
    "start_time": "2023-02-01T20:07:54.565Z"
   },
   {
    "duration": 802,
    "start_time": "2023-02-01T20:08:41.190Z"
   },
   {
    "duration": 808,
    "start_time": "2023-02-01T20:11:41.502Z"
   },
   {
    "duration": 12,
    "start_time": "2023-02-01T20:13:37.310Z"
   },
   {
    "duration": 5,
    "start_time": "2023-02-01T20:14:20.437Z"
   },
   {
    "duration": 6,
    "start_time": "2023-02-01T20:15:25.386Z"
   },
   {
    "duration": 145,
    "start_time": "2023-02-01T20:19:18.574Z"
   },
   {
    "duration": 54,
    "start_time": "2023-02-01T20:19:34.912Z"
   },
   {
    "duration": 148,
    "start_time": "2023-02-01T20:19:36.402Z"
   },
   {
    "duration": 340,
    "start_time": "2023-02-01T20:22:17.767Z"
   },
   {
    "duration": 151,
    "start_time": "2023-02-01T20:22:47.150Z"
   },
   {
    "duration": 4,
    "start_time": "2023-02-01T20:22:56.673Z"
   },
   {
    "duration": 43,
    "start_time": "2023-02-01T20:22:56.679Z"
   },
   {
    "duration": 14,
    "start_time": "2023-02-01T20:22:56.724Z"
   },
   {
    "duration": 20,
    "start_time": "2023-02-01T20:22:56.740Z"
   },
   {
    "duration": 3,
    "start_time": "2023-02-01T20:22:56.762Z"
   },
   {
    "duration": 16,
    "start_time": "2023-02-01T20:22:56.766Z"
   },
   {
    "duration": 22,
    "start_time": "2023-02-01T20:22:56.783Z"
   },
   {
    "duration": 5,
    "start_time": "2023-02-01T20:22:56.806Z"
   },
   {
    "duration": 8,
    "start_time": "2023-02-01T20:22:56.812Z"
   },
   {
    "duration": 28,
    "start_time": "2023-02-01T20:22:56.822Z"
   },
   {
    "duration": 3,
    "start_time": "2023-02-01T20:22:56.851Z"
   },
   {
    "duration": 27,
    "start_time": "2023-02-01T20:22:56.855Z"
   },
   {
    "duration": 17,
    "start_time": "2023-02-01T20:22:56.883Z"
   },
   {
    "duration": 16,
    "start_time": "2023-02-01T20:22:56.903Z"
   },
   {
    "duration": 28,
    "start_time": "2023-02-01T20:22:56.920Z"
   },
   {
    "duration": 5,
    "start_time": "2023-02-01T20:22:56.950Z"
   },
   {
    "duration": 8,
    "start_time": "2023-02-01T20:22:56.957Z"
   },
   {
    "duration": 710,
    "start_time": "2023-02-01T20:22:56.967Z"
   },
   {
    "duration": 5,
    "start_time": "2023-02-01T20:22:57.848Z"
   },
   {
    "duration": 705,
    "start_time": "2023-02-01T20:22:57.854Z"
   },
   {
    "duration": 89,
    "start_time": "2023-02-01T20:22:58.561Z"
   },
   {
    "duration": 133,
    "start_time": "2023-02-01T20:22:58.652Z"
   },
   {
    "duration": 3,
    "start_time": "2023-02-01T20:22:58.787Z"
   },
   {
    "duration": 14,
    "start_time": "2023-02-01T20:22:58.791Z"
   },
   {
    "duration": 655,
    "start_time": "2023-02-01T20:22:58.806Z"
   },
   {
    "duration": 10,
    "start_time": "2023-02-01T20:22:59.463Z"
   },
   {
    "duration": 20,
    "start_time": "2023-02-01T20:22:59.474Z"
   },
   {
    "duration": 98,
    "start_time": "2023-02-01T20:22:59.551Z"
   },
   {
    "duration": 12,
    "start_time": "2023-02-01T20:22:59.650Z"
   },
   {
    "duration": 308,
    "start_time": "2023-02-01T20:22:59.664Z"
   },
   {
    "duration": 79,
    "start_time": "2023-02-01T20:22:59.974Z"
   },
   {
    "duration": 5,
    "start_time": "2023-02-01T20:23:00.054Z"
   },
   {
    "duration": 8,
    "start_time": "2023-02-01T20:23:00.061Z"
   },
   {
    "duration": 16,
    "start_time": "2023-02-01T20:23:00.070Z"
   },
   {
    "duration": 84,
    "start_time": "2023-02-01T20:23:00.087Z"
   },
   {
    "duration": 979,
    "start_time": "2023-02-01T20:23:00.172Z"
   },
   {
    "duration": 194,
    "start_time": "2023-02-01T20:23:01.154Z"
   },
   {
    "duration": 936,
    "start_time": "2023-02-01T20:23:01.350Z"
   },
   {
    "duration": 70,
    "start_time": "2023-02-01T20:23:02.287Z"
   },
   {
    "duration": 6749,
    "start_time": "2023-02-01T20:23:02.449Z"
   },
   {
    "duration": 787,
    "start_time": "2023-02-01T20:23:09.201Z"
   },
   {
    "duration": 5,
    "start_time": "2023-02-01T20:23:09.990Z"
   },
   {
    "duration": 6,
    "start_time": "2023-02-01T20:23:09.997Z"
   },
   {
    "duration": 66,
    "start_time": "2023-02-01T20:23:10.005Z"
   },
   {
    "duration": 152,
    "start_time": "2023-02-01T20:23:10.072Z"
   },
   {
    "duration": 5,
    "start_time": "2023-02-01T20:32:12.292Z"
   },
   {
    "duration": 518,
    "start_time": "2023-02-01T20:32:16.031Z"
   },
   {
    "duration": 4,
    "start_time": "2023-02-01T20:32:19.991Z"
   },
   {
    "duration": 497,
    "start_time": "2023-02-01T20:32:21.558Z"
   },
   {
    "duration": 398,
    "start_time": "2023-02-01T20:32:31.768Z"
   },
   {
    "duration": 10,
    "start_time": "2023-02-01T20:32:37.538Z"
   },
   {
    "duration": 549,
    "start_time": "2023-02-01T20:33:02.113Z"
   },
   {
    "duration": 82,
    "start_time": "2023-02-01T20:33:09.069Z"
   },
   {
    "duration": 4142,
    "start_time": "2023-02-01T20:33:11.599Z"
   },
   {
    "duration": 504,
    "start_time": "2023-02-01T20:33:29.570Z"
   },
   {
    "duration": 7,
    "start_time": "2023-02-01T20:33:39.360Z"
   },
   {
    "duration": 5,
    "start_time": "2023-02-01T20:33:40.079Z"
   },
   {
    "duration": 38,
    "start_time": "2023-02-01T20:33:47.377Z"
   },
   {
    "duration": 39,
    "start_time": "2023-02-01T20:33:59.065Z"
   },
   {
    "duration": 6676,
    "start_time": "2023-02-01T20:35:36.412Z"
   },
   {
    "duration": 912,
    "start_time": "2023-02-01T20:35:55.468Z"
   },
   {
    "duration": 6838,
    "start_time": "2023-02-01T20:35:58.666Z"
   },
   {
    "duration": 6794,
    "start_time": "2023-02-01T20:36:12.539Z"
   },
   {
    "duration": 6734,
    "start_time": "2023-02-01T20:36:32.538Z"
   },
   {
    "duration": 4,
    "start_time": "2023-02-01T20:37:01.529Z"
   },
   {
    "duration": 60,
    "start_time": "2023-02-01T20:37:01.535Z"
   },
   {
    "duration": 13,
    "start_time": "2023-02-01T20:37:01.598Z"
   },
   {
    "duration": 32,
    "start_time": "2023-02-01T20:37:01.613Z"
   },
   {
    "duration": 24,
    "start_time": "2023-02-01T20:37:01.647Z"
   },
   {
    "duration": 31,
    "start_time": "2023-02-01T20:37:01.673Z"
   },
   {
    "duration": 32,
    "start_time": "2023-02-01T20:37:01.705Z"
   },
   {
    "duration": 11,
    "start_time": "2023-02-01T20:37:01.738Z"
   },
   {
    "duration": 19,
    "start_time": "2023-02-01T20:37:01.752Z"
   },
   {
    "duration": 8,
    "start_time": "2023-02-01T20:37:01.773Z"
   },
   {
    "duration": 10,
    "start_time": "2023-02-01T20:37:01.782Z"
   },
   {
    "duration": 38,
    "start_time": "2023-02-01T20:37:01.794Z"
   },
   {
    "duration": 29,
    "start_time": "2023-02-01T20:37:01.834Z"
   },
   {
    "duration": 28,
    "start_time": "2023-02-01T20:37:01.865Z"
   },
   {
    "duration": 40,
    "start_time": "2023-02-01T20:37:01.894Z"
   },
   {
    "duration": 28,
    "start_time": "2023-02-01T20:37:01.936Z"
   },
   {
    "duration": 18,
    "start_time": "2023-02-01T20:37:01.965Z"
   },
   {
    "duration": 766,
    "start_time": "2023-02-01T20:37:01.984Z"
   },
   {
    "duration": 97,
    "start_time": "2023-02-01T20:37:02.752Z"
   },
   {
    "duration": 708,
    "start_time": "2023-02-01T20:37:02.851Z"
   },
   {
    "duration": 94,
    "start_time": "2023-02-01T20:37:03.561Z"
   },
   {
    "duration": 126,
    "start_time": "2023-02-01T20:37:03.659Z"
   },
   {
    "duration": 2,
    "start_time": "2023-02-01T20:37:03.787Z"
   },
   {
    "duration": 13,
    "start_time": "2023-02-01T20:37:03.791Z"
   },
   {
    "duration": 677,
    "start_time": "2023-02-01T20:37:03.806Z"
   },
   {
    "duration": 9,
    "start_time": "2023-02-01T20:37:04.485Z"
   },
   {
    "duration": 53,
    "start_time": "2023-02-01T20:37:04.497Z"
   },
   {
    "duration": 98,
    "start_time": "2023-02-01T20:37:04.554Z"
   },
   {
    "duration": 9,
    "start_time": "2023-02-01T20:37:04.654Z"
   },
   {
    "duration": 283,
    "start_time": "2023-02-01T20:37:04.665Z"
   },
   {
    "duration": 67,
    "start_time": "2023-02-01T20:37:04.949Z"
   },
   {
    "duration": 6,
    "start_time": "2023-02-01T20:37:05.018Z"
   },
   {
    "duration": 28,
    "start_time": "2023-02-01T20:37:05.025Z"
   },
   {
    "duration": 15,
    "start_time": "2023-02-01T20:37:05.055Z"
   },
   {
    "duration": 68,
    "start_time": "2023-02-01T20:37:05.071Z"
   },
   {
    "duration": 1003,
    "start_time": "2023-02-01T20:37:05.149Z"
   },
   {
    "duration": 230,
    "start_time": "2023-02-01T20:37:06.154Z"
   },
   {
    "duration": 893,
    "start_time": "2023-02-01T20:37:06.386Z"
   },
   {
    "duration": 74,
    "start_time": "2023-02-01T20:37:07.281Z"
   },
   {
    "duration": 6789,
    "start_time": "2023-02-01T20:37:07.357Z"
   },
   {
    "duration": 877,
    "start_time": "2023-02-01T20:37:14.148Z"
   },
   {
    "duration": 5,
    "start_time": "2023-02-01T20:37:15.027Z"
   },
   {
    "duration": 49,
    "start_time": "2023-02-01T20:37:15.034Z"
   },
   {
    "duration": 88,
    "start_time": "2023-02-01T20:37:15.085Z"
   },
   {
    "duration": 174,
    "start_time": "2023-02-01T20:37:15.175Z"
   },
   {
    "duration": 766,
    "start_time": "2023-02-01T20:37:36.718Z"
   },
   {
    "duration": 8,
    "start_time": "2023-02-01T20:37:41.006Z"
   },
   {
    "duration": 5,
    "start_time": "2023-02-01T20:37:42.286Z"
   },
   {
    "duration": 5,
    "start_time": "2023-02-01T20:37:55.608Z"
   },
   {
    "duration": 50,
    "start_time": "2023-02-01T20:38:00.049Z"
   },
   {
    "duration": 63,
    "start_time": "2023-02-01T20:38:05.367Z"
   },
   {
    "duration": 146,
    "start_time": "2023-02-01T20:38:08.477Z"
   },
   {
    "duration": 4,
    "start_time": "2023-02-01T20:50:23.889Z"
   },
   {
    "duration": 4,
    "start_time": "2023-02-01T21:03:38.108Z"
   },
   {
    "duration": 41,
    "start_time": "2023-02-01T21:03:38.115Z"
   },
   {
    "duration": 11,
    "start_time": "2023-02-01T21:03:38.158Z"
   },
   {
    "duration": 14,
    "start_time": "2023-02-01T21:03:38.171Z"
   },
   {
    "duration": 3,
    "start_time": "2023-02-01T21:03:38.187Z"
   },
   {
    "duration": 13,
    "start_time": "2023-02-01T21:03:38.192Z"
   },
   {
    "duration": 19,
    "start_time": "2023-02-01T21:03:38.206Z"
   },
   {
    "duration": 5,
    "start_time": "2023-02-01T21:03:38.247Z"
   },
   {
    "duration": 8,
    "start_time": "2023-02-01T21:03:38.253Z"
   },
   {
    "duration": 6,
    "start_time": "2023-02-01T21:03:38.263Z"
   },
   {
    "duration": 6,
    "start_time": "2023-02-01T21:03:38.271Z"
   },
   {
    "duration": 24,
    "start_time": "2023-02-01T21:03:38.278Z"
   },
   {
    "duration": 16,
    "start_time": "2023-02-01T21:03:38.304Z"
   },
   {
    "duration": 17,
    "start_time": "2023-02-01T21:03:38.350Z"
   },
   {
    "duration": 6,
    "start_time": "2023-02-01T21:03:38.368Z"
   },
   {
    "duration": 12,
    "start_time": "2023-02-01T21:03:38.375Z"
   },
   {
    "duration": 10,
    "start_time": "2023-02-01T21:03:38.388Z"
   },
   {
    "duration": 750,
    "start_time": "2023-02-01T21:03:38.399Z"
   },
   {
    "duration": 6,
    "start_time": "2023-02-01T21:03:39.151Z"
   },
   {
    "duration": 711,
    "start_time": "2023-02-01T21:03:39.249Z"
   },
   {
    "duration": 93,
    "start_time": "2023-02-01T21:03:39.963Z"
   },
   {
    "duration": 127,
    "start_time": "2023-02-01T21:03:40.057Z"
   },
   {
    "duration": 3,
    "start_time": "2023-02-01T21:03:40.186Z"
   },
   {
    "duration": 16,
    "start_time": "2023-02-01T21:03:40.191Z"
   },
   {
    "duration": 672,
    "start_time": "2023-02-01T21:03:40.209Z"
   },
   {
    "duration": 10,
    "start_time": "2023-02-01T21:03:40.883Z"
   },
   {
    "duration": 56,
    "start_time": "2023-02-01T21:03:40.895Z"
   },
   {
    "duration": 100,
    "start_time": "2023-02-01T21:03:40.953Z"
   },
   {
    "duration": 13,
    "start_time": "2023-02-01T21:03:41.055Z"
   },
   {
    "duration": 203,
    "start_time": "2023-02-01T21:03:41.148Z"
   },
   {
    "duration": 143,
    "start_time": "2023-02-01T21:03:41.352Z"
   },
   {
    "duration": 5,
    "start_time": "2023-02-01T21:03:41.496Z"
   },
   {
    "duration": 10,
    "start_time": "2023-02-01T21:03:41.502Z"
   },
   {
    "duration": 15,
    "start_time": "2023-02-01T21:03:41.513Z"
   },
   {
    "duration": 75,
    "start_time": "2023-02-01T21:03:41.529Z"
   },
   {
    "duration": 956,
    "start_time": "2023-02-01T21:03:41.605Z"
   },
   {
    "duration": 222,
    "start_time": "2023-02-01T21:03:42.565Z"
   },
   {
    "duration": 939,
    "start_time": "2023-02-01T21:03:42.788Z"
   },
   {
    "duration": 119,
    "start_time": "2023-02-01T21:03:43.729Z"
   },
   {
    "duration": 6842,
    "start_time": "2023-02-01T21:03:43.851Z"
   },
   {
    "duration": 753,
    "start_time": "2023-02-01T21:03:50.697Z"
   },
   {
    "duration": 5,
    "start_time": "2023-02-01T21:03:51.451Z"
   },
   {
    "duration": 7,
    "start_time": "2023-02-01T21:03:51.458Z"
   },
   {
    "duration": 51,
    "start_time": "2023-02-01T21:03:51.466Z"
   },
   {
    "duration": 164,
    "start_time": "2023-02-01T21:03:51.519Z"
   },
   {
    "duration": 1061,
    "start_time": "2023-02-02T10:00:51.650Z"
   },
   {
    "duration": 158,
    "start_time": "2023-02-02T10:00:52.713Z"
   },
   {
    "duration": 18,
    "start_time": "2023-02-02T10:00:52.872Z"
   },
   {
    "duration": 11,
    "start_time": "2023-02-02T10:00:52.892Z"
   },
   {
    "duration": 3,
    "start_time": "2023-02-02T10:00:52.904Z"
   },
   {
    "duration": 16,
    "start_time": "2023-02-02T10:00:52.908Z"
   },
   {
    "duration": 18,
    "start_time": "2023-02-02T10:00:52.925Z"
   },
   {
    "duration": 5,
    "start_time": "2023-02-02T10:00:52.944Z"
   },
   {
    "duration": 8,
    "start_time": "2023-02-02T10:00:52.950Z"
   },
   {
    "duration": 31,
    "start_time": "2023-02-02T10:00:52.960Z"
   },
   {
    "duration": 3,
    "start_time": "2023-02-02T10:00:52.993Z"
   },
   {
    "duration": 27,
    "start_time": "2023-02-02T10:00:52.998Z"
   },
   {
    "duration": 16,
    "start_time": "2023-02-02T10:00:53.027Z"
   },
   {
    "duration": 16,
    "start_time": "2023-02-02T10:00:53.045Z"
   },
   {
    "duration": 32,
    "start_time": "2023-02-02T10:00:53.062Z"
   },
   {
    "duration": 5,
    "start_time": "2023-02-02T10:00:53.095Z"
   },
   {
    "duration": 8,
    "start_time": "2023-02-02T10:00:53.102Z"
   },
   {
    "duration": 779,
    "start_time": "2023-02-02T10:00:53.111Z"
   },
   {
    "duration": 7,
    "start_time": "2023-02-02T10:00:53.894Z"
   },
   {
    "duration": 701,
    "start_time": "2023-02-02T10:00:53.992Z"
   },
   {
    "duration": 100,
    "start_time": "2023-02-02T10:00:54.696Z"
   },
   {
    "duration": 127,
    "start_time": "2023-02-02T10:00:54.798Z"
   },
   {
    "duration": 4,
    "start_time": "2023-02-02T10:00:54.926Z"
   },
   {
    "duration": 14,
    "start_time": "2023-02-02T10:00:54.931Z"
   },
   {
    "duration": 685,
    "start_time": "2023-02-02T10:00:54.947Z"
   },
   {
    "duration": 10,
    "start_time": "2023-02-02T10:00:55.634Z"
   },
   {
    "duration": 49,
    "start_time": "2023-02-02T10:00:55.646Z"
   },
   {
    "duration": 100,
    "start_time": "2023-02-02T10:00:55.699Z"
   },
   {
    "duration": 19,
    "start_time": "2023-02-02T10:00:55.801Z"
   },
   {
    "duration": 281,
    "start_time": "2023-02-02T10:00:55.823Z"
   },
   {
    "duration": 72,
    "start_time": "2023-02-02T10:00:56.105Z"
   },
   {
    "duration": 6,
    "start_time": "2023-02-02T10:00:56.192Z"
   },
   {
    "duration": 8,
    "start_time": "2023-02-02T10:00:56.199Z"
   },
   {
    "duration": 19,
    "start_time": "2023-02-02T10:00:56.209Z"
   },
   {
    "duration": 83,
    "start_time": "2023-02-02T10:00:56.230Z"
   },
   {
    "duration": 1000,
    "start_time": "2023-02-02T10:00:56.314Z"
   },
   {
    "duration": 206,
    "start_time": "2023-02-02T10:00:57.316Z"
   },
   {
    "duration": 936,
    "start_time": "2023-02-02T10:00:57.524Z"
   },
   {
    "duration": 43,
    "start_time": "2023-02-02T10:00:58.463Z"
   },
   {
    "duration": 7055,
    "start_time": "2023-02-02T10:00:58.509Z"
   },
   {
    "duration": 805,
    "start_time": "2023-02-02T10:01:05.565Z"
   },
   {
    "duration": 5,
    "start_time": "2023-02-02T10:01:06.372Z"
   },
   {
    "duration": 16,
    "start_time": "2023-02-02T10:01:06.379Z"
   },
   {
    "duration": 74,
    "start_time": "2023-02-02T10:01:06.397Z"
   },
   {
    "duration": 183,
    "start_time": "2023-02-02T10:01:06.473Z"
   },
   {
    "duration": 1330,
    "start_time": "2023-02-03T13:47:03.997Z"
   },
   {
    "duration": 113,
    "start_time": "2023-02-03T13:47:05.329Z"
   },
   {
    "duration": 1,
    "start_time": "2023-02-03T13:47:05.444Z"
   },
   {
    "duration": 1,
    "start_time": "2023-02-03T13:47:05.445Z"
   },
   {
    "duration": 0,
    "start_time": "2023-02-03T13:47:05.446Z"
   },
   {
    "duration": 0,
    "start_time": "2023-02-03T13:47:05.448Z"
   },
   {
    "duration": 0,
    "start_time": "2023-02-03T13:47:05.448Z"
   },
   {
    "duration": 0,
    "start_time": "2023-02-03T13:47:05.449Z"
   },
   {
    "duration": 0,
    "start_time": "2023-02-03T13:47:05.450Z"
   },
   {
    "duration": 0,
    "start_time": "2023-02-03T13:47:05.451Z"
   },
   {
    "duration": 0,
    "start_time": "2023-02-03T13:47:05.452Z"
   },
   {
    "duration": 0,
    "start_time": "2023-02-03T13:47:05.453Z"
   },
   {
    "duration": 0,
    "start_time": "2023-02-03T13:47:05.454Z"
   },
   {
    "duration": 0,
    "start_time": "2023-02-03T13:47:05.455Z"
   },
   {
    "duration": 0,
    "start_time": "2023-02-03T13:47:05.457Z"
   },
   {
    "duration": 0,
    "start_time": "2023-02-03T13:47:05.457Z"
   },
   {
    "duration": 0,
    "start_time": "2023-02-03T13:47:05.458Z"
   },
   {
    "duration": 0,
    "start_time": "2023-02-03T13:47:05.459Z"
   },
   {
    "duration": 0,
    "start_time": "2023-02-03T13:47:05.460Z"
   },
   {
    "duration": 0,
    "start_time": "2023-02-03T13:47:05.461Z"
   },
   {
    "duration": 0,
    "start_time": "2023-02-03T13:47:05.463Z"
   },
   {
    "duration": 0,
    "start_time": "2023-02-03T13:47:05.464Z"
   },
   {
    "duration": 0,
    "start_time": "2023-02-03T13:47:05.465Z"
   },
   {
    "duration": 0,
    "start_time": "2023-02-03T13:47:05.503Z"
   },
   {
    "duration": 1,
    "start_time": "2023-02-03T13:47:05.504Z"
   },
   {
    "duration": 0,
    "start_time": "2023-02-03T13:47:05.505Z"
   },
   {
    "duration": 0,
    "start_time": "2023-02-03T13:47:05.506Z"
   },
   {
    "duration": 0,
    "start_time": "2023-02-03T13:47:05.507Z"
   },
   {
    "duration": 0,
    "start_time": "2023-02-03T13:47:05.508Z"
   },
   {
    "duration": 0,
    "start_time": "2023-02-03T13:47:05.509Z"
   },
   {
    "duration": 0,
    "start_time": "2023-02-03T13:47:05.510Z"
   },
   {
    "duration": 0,
    "start_time": "2023-02-03T13:47:05.511Z"
   },
   {
    "duration": 0,
    "start_time": "2023-02-03T13:47:05.512Z"
   },
   {
    "duration": 0,
    "start_time": "2023-02-03T13:47:05.513Z"
   },
   {
    "duration": 0,
    "start_time": "2023-02-03T13:47:05.514Z"
   },
   {
    "duration": 0,
    "start_time": "2023-02-03T13:47:05.515Z"
   },
   {
    "duration": 0,
    "start_time": "2023-02-03T13:47:05.516Z"
   },
   {
    "duration": 0,
    "start_time": "2023-02-03T13:47:05.517Z"
   },
   {
    "duration": 0,
    "start_time": "2023-02-03T13:47:05.517Z"
   },
   {
    "duration": 0,
    "start_time": "2023-02-03T13:47:05.519Z"
   },
   {
    "duration": 0,
    "start_time": "2023-02-03T13:47:05.519Z"
   },
   {
    "duration": 0,
    "start_time": "2023-02-03T13:47:05.520Z"
   },
   {
    "duration": 0,
    "start_time": "2023-02-03T13:47:05.521Z"
   },
   {
    "duration": 0,
    "start_time": "2023-02-03T13:47:05.522Z"
   },
   {
    "duration": 0,
    "start_time": "2023-02-03T13:47:05.523Z"
   },
   {
    "duration": 0,
    "start_time": "2023-02-03T13:47:05.524Z"
   },
   {
    "duration": 0,
    "start_time": "2023-02-03T13:47:05.525Z"
   },
   {
    "duration": 0,
    "start_time": "2023-02-03T13:47:05.525Z"
   },
   {
    "duration": 1,
    "start_time": "2023-02-03T13:47:05.526Z"
   },
   {
    "duration": 0,
    "start_time": "2023-02-03T13:47:05.528Z"
   },
   {
    "duration": 0,
    "start_time": "2023-02-03T13:47:05.528Z"
   },
   {
    "duration": 0,
    "start_time": "2023-02-03T13:47:05.529Z"
   },
   {
    "duration": 0,
    "start_time": "2023-02-03T13:47:05.530Z"
   },
   {
    "duration": 0,
    "start_time": "2023-02-03T13:47:05.531Z"
   },
   {
    "duration": 153,
    "start_time": "2023-02-03T13:51:59.421Z"
   },
   {
    "duration": 1288,
    "start_time": "2023-02-03T13:52:04.545Z"
   },
   {
    "duration": 40,
    "start_time": "2023-02-03T13:52:05.834Z"
   },
   {
    "duration": 15,
    "start_time": "2023-02-03T13:52:05.875Z"
   },
   {
    "duration": 11,
    "start_time": "2023-02-03T13:52:05.892Z"
   },
   {
    "duration": 7,
    "start_time": "2023-02-03T13:52:05.905Z"
   },
   {
    "duration": 13,
    "start_time": "2023-02-03T13:52:05.913Z"
   },
   {
    "duration": 21,
    "start_time": "2023-02-03T13:52:05.928Z"
   },
   {
    "duration": 5,
    "start_time": "2023-02-03T13:52:05.950Z"
   },
   {
    "duration": 8,
    "start_time": "2023-02-03T13:52:05.956Z"
   },
   {
    "duration": 10,
    "start_time": "2023-02-03T13:52:05.966Z"
   },
   {
    "duration": 9,
    "start_time": "2023-02-03T13:52:05.977Z"
   },
   {
    "duration": 35,
    "start_time": "2023-02-03T13:52:05.987Z"
   },
   {
    "duration": 17,
    "start_time": "2023-02-03T13:52:06.024Z"
   },
   {
    "duration": 16,
    "start_time": "2023-02-03T13:52:06.042Z"
   },
   {
    "duration": 6,
    "start_time": "2023-02-03T13:52:06.059Z"
   },
   {
    "duration": 11,
    "start_time": "2023-02-03T13:52:06.066Z"
   },
   {
    "duration": 4,
    "start_time": "2023-02-03T13:52:06.103Z"
   },
   {
    "duration": 794,
    "start_time": "2023-02-03T13:52:06.109Z"
   },
   {
    "duration": 99,
    "start_time": "2023-02-03T13:52:06.905Z"
   },
   {
    "duration": 719,
    "start_time": "2023-02-03T13:52:07.006Z"
   },
   {
    "duration": 82,
    "start_time": "2023-02-03T13:52:07.727Z"
   },
   {
    "duration": 132,
    "start_time": "2023-02-03T13:52:07.812Z"
   },
   {
    "duration": 3,
    "start_time": "2023-02-03T13:52:07.946Z"
   },
   {
    "duration": 12,
    "start_time": "2023-02-03T13:52:07.950Z"
   },
   {
    "duration": 725,
    "start_time": "2023-02-03T13:52:07.964Z"
   },
   {
    "duration": 14,
    "start_time": "2023-02-03T13:52:08.690Z"
   },
   {
    "duration": 98,
    "start_time": "2023-02-03T13:52:08.706Z"
   },
   {
    "duration": 101,
    "start_time": "2023-02-03T13:52:08.811Z"
   },
   {
    "duration": 3,
    "start_time": "2023-02-03T13:52:08.913Z"
   },
   {
    "duration": 132,
    "start_time": "2023-02-03T13:52:08.918Z"
   },
   {
    "duration": 19576,
    "start_time": "2023-02-03T13:52:09.052Z"
   },
   {
    "duration": 278,
    "start_time": "2023-02-03T13:52:28.630Z"
   },
   {
    "duration": 0,
    "start_time": "2023-02-03T13:52:28.910Z"
   },
   {
    "duration": 0,
    "start_time": "2023-02-03T13:52:28.911Z"
   },
   {
    "duration": 0,
    "start_time": "2023-02-03T13:52:28.912Z"
   },
   {
    "duration": 0,
    "start_time": "2023-02-03T13:52:28.913Z"
   },
   {
    "duration": 0,
    "start_time": "2023-02-03T13:52:28.914Z"
   },
   {
    "duration": 1,
    "start_time": "2023-02-03T13:52:28.915Z"
   },
   {
    "duration": 0,
    "start_time": "2023-02-03T13:52:28.917Z"
   },
   {
    "duration": 0,
    "start_time": "2023-02-03T13:52:28.918Z"
   },
   {
    "duration": 0,
    "start_time": "2023-02-03T13:52:28.919Z"
   },
   {
    "duration": 0,
    "start_time": "2023-02-03T13:52:28.920Z"
   },
   {
    "duration": 0,
    "start_time": "2023-02-03T13:52:28.921Z"
   },
   {
    "duration": 0,
    "start_time": "2023-02-03T13:52:28.922Z"
   },
   {
    "duration": 0,
    "start_time": "2023-02-03T13:52:28.923Z"
   },
   {
    "duration": 0,
    "start_time": "2023-02-03T13:52:28.924Z"
   },
   {
    "duration": 0,
    "start_time": "2023-02-03T13:52:28.925Z"
   },
   {
    "duration": 0,
    "start_time": "2023-02-03T13:52:28.926Z"
   },
   {
    "duration": 0,
    "start_time": "2023-02-03T13:52:28.927Z"
   },
   {
    "duration": 0,
    "start_time": "2023-02-03T13:52:28.928Z"
   },
   {
    "duration": 0,
    "start_time": "2023-02-03T13:52:28.929Z"
   },
   {
    "duration": 0,
    "start_time": "2023-02-03T13:52:28.930Z"
   },
   {
    "duration": 0,
    "start_time": "2023-02-03T13:52:28.931Z"
   },
   {
    "duration": 0,
    "start_time": "2023-02-03T13:52:28.932Z"
   },
   {
    "duration": 107,
    "start_time": "2023-02-03T14:00:28.156Z"
   },
   {
    "duration": 8,
    "start_time": "2023-02-03T14:01:01.095Z"
   },
   {
    "duration": 12,
    "start_time": "2023-02-03T14:01:02.388Z"
   },
   {
    "duration": 110,
    "start_time": "2023-02-03T14:01:05.696Z"
   },
   {
    "duration": 6,
    "start_time": "2023-02-03T14:01:17.993Z"
   },
   {
    "duration": 11,
    "start_time": "2023-02-03T14:01:18.732Z"
   },
   {
    "duration": 975,
    "start_time": "2023-02-03T14:01:51.867Z"
   },
   {
    "duration": 394,
    "start_time": "2023-02-03T14:01:59.870Z"
   },
   {
    "duration": 49,
    "start_time": "2023-02-03T14:02:05.437Z"
   },
   {
    "duration": 25,
    "start_time": "2023-02-03T14:02:06.287Z"
   },
   {
    "duration": 992,
    "start_time": "2023-02-03T14:02:06.627Z"
   },
   {
    "duration": 399,
    "start_time": "2023-02-03T14:02:11.882Z"
   },
   {
    "duration": 70,
    "start_time": "2023-02-03T14:02:12.337Z"
   },
   {
    "duration": 107,
    "start_time": "2023-02-03T14:02:13.198Z"
   },
   {
    "duration": 107875,
    "start_time": "2023-02-03T14:03:26.297Z"
   },
   {
    "duration": 577,
    "start_time": "2023-02-03T14:05:14.174Z"
   },
   {
    "duration": 6,
    "start_time": "2023-02-03T14:05:14.754Z"
   },
   {
    "duration": 7,
    "start_time": "2023-02-03T14:05:14.763Z"
   },
   {
    "duration": 68,
    "start_time": "2023-02-03T14:09:15.932Z"
   },
   {
    "duration": 137,
    "start_time": "2023-02-03T14:09:16.528Z"
   },
   {
    "duration": 537,
    "start_time": "2023-02-03T14:12:22.224Z"
   },
   {
    "duration": 67,
    "start_time": "2023-02-03T14:12:30.522Z"
   },
   {
    "duration": 1702,
    "start_time": "2023-02-03T19:10:29.736Z"
   },
   {
    "duration": 91,
    "start_time": "2023-02-03T19:10:31.440Z"
   },
   {
    "duration": 26,
    "start_time": "2023-02-03T19:10:31.534Z"
   },
   {
    "duration": 20,
    "start_time": "2023-02-03T19:10:31.562Z"
   },
   {
    "duration": 40,
    "start_time": "2023-02-03T19:10:31.585Z"
   },
   {
    "duration": 59,
    "start_time": "2023-02-03T19:10:31.627Z"
   },
   {
    "duration": 31,
    "start_time": "2023-02-03T19:10:31.688Z"
   },
   {
    "duration": 7,
    "start_time": "2023-02-03T19:10:31.721Z"
   },
   {
    "duration": 19,
    "start_time": "2023-02-03T19:10:31.730Z"
   },
   {
    "duration": 8,
    "start_time": "2023-02-03T19:10:31.750Z"
   },
   {
    "duration": 25,
    "start_time": "2023-02-03T19:10:31.760Z"
   },
   {
    "duration": 33,
    "start_time": "2023-02-03T19:10:31.787Z"
   },
   {
    "duration": 21,
    "start_time": "2023-02-03T19:10:31.822Z"
   },
   {
    "duration": 49,
    "start_time": "2023-02-03T19:10:31.848Z"
   },
   {
    "duration": 9,
    "start_time": "2023-02-03T19:10:31.900Z"
   },
   {
    "duration": 8,
    "start_time": "2023-02-03T19:10:31.911Z"
   },
   {
    "duration": 12,
    "start_time": "2023-02-03T19:10:31.922Z"
   },
   {
    "duration": 948,
    "start_time": "2023-02-03T19:10:31.936Z"
   },
   {
    "duration": 8,
    "start_time": "2023-02-03T19:10:32.886Z"
   },
   {
    "duration": 989,
    "start_time": "2023-02-03T19:10:32.896Z"
   },
   {
    "duration": 97,
    "start_time": "2023-02-03T19:10:33.888Z"
   },
   {
    "duration": 48,
    "start_time": "2023-02-03T19:10:33.988Z"
   },
   {
    "duration": 4,
    "start_time": "2023-02-03T19:10:34.038Z"
   },
   {
    "duration": 41,
    "start_time": "2023-02-03T19:10:34.044Z"
   },
   {
    "duration": 819,
    "start_time": "2023-02-03T19:10:34.087Z"
   },
   {
    "duration": 11,
    "start_time": "2023-02-03T19:10:34.908Z"
   },
   {
    "duration": 70,
    "start_time": "2023-02-03T19:10:34.921Z"
   },
   {
    "duration": 93,
    "start_time": "2023-02-03T19:10:34.994Z"
   },
   {
    "duration": 17,
    "start_time": "2023-02-03T19:10:35.089Z"
   },
   {
    "duration": 201,
    "start_time": "2023-02-03T19:10:35.109Z"
   },
   {
    "duration": 3478,
    "start_time": "2023-02-03T19:10:35.311Z"
   },
   {
    "duration": 42836,
    "start_time": "2023-02-03T19:10:38.791Z"
   },
   {
    "duration": 222,
    "start_time": "2023-02-03T19:14:05.785Z"
   },
   {
    "duration": 6,
    "start_time": "2023-02-03T19:14:06.010Z"
   },
   {
    "duration": 8,
    "start_time": "2023-02-03T19:14:06.018Z"
   },
   {
    "duration": 23,
    "start_time": "2023-02-03T19:14:06.027Z"
   },
   {
    "duration": 157,
    "start_time": "2023-02-03T19:14:06.051Z"
   },
   {
    "duration": 5,
    "start_time": "2023-02-03T19:14:06.210Z"
   },
   {
    "duration": 22,
    "start_time": "2023-02-03T19:14:06.217Z"
   },
   {
    "duration": 1144,
    "start_time": "2023-02-03T19:14:06.243Z"
   },
   {
    "duration": 596,
    "start_time": "2023-02-03T19:14:07.390Z"
   },
   {
    "duration": 231,
    "start_time": "2023-02-03T19:14:07.989Z"
   },
   {
    "duration": 28,
    "start_time": "2023-02-03T19:14:08.222Z"
   },
   {
    "duration": 1141,
    "start_time": "2023-02-03T19:14:08.252Z"
   },
   {
    "duration": 550,
    "start_time": "2023-02-03T19:14:09.395Z"
   },
   {
    "duration": 146,
    "start_time": "2023-02-03T19:14:09.948Z"
   },
   {
    "duration": 104,
    "start_time": "2023-02-03T19:14:10.183Z"
   },
   {
    "duration": 93378,
    "start_time": "2023-02-03T19:14:10.289Z"
   },
   {
    "duration": 550,
    "start_time": "2023-02-03T19:15:43.669Z"
   },
   {
    "duration": 10,
    "start_time": "2023-02-03T19:15:44.222Z"
   },
   {
    "duration": 47,
    "start_time": "2023-02-03T19:15:44.234Z"
   },
   {
    "duration": 87,
    "start_time": "2023-02-03T19:15:44.283Z"
   },
   {
    "duration": 200,
    "start_time": "2023-02-03T19:15:44.373Z"
   },
   {
    "duration": 173922,
    "start_time": "2023-02-03T19:15:44.575Z"
   },
   {
    "duration": 632400,
    "start_time": "2023-02-03T19:19:32.813Z"
   },
   {
    "duration": 0,
    "start_time": "2023-02-03T19:35:35.203Z"
   },
   {
    "duration": 77720,
    "start_time": "2023-02-03T19:35:35.939Z"
   },
   {
    "duration": 0,
    "start_time": "2023-02-03T19:41:51.410Z"
   },
   {
    "duration": 2198,
    "start_time": "2023-02-03T19:44:49.047Z"
   },
   {
    "duration": 104804,
    "start_time": "2023-02-03T19:47:09.030Z"
   },
   {
    "duration": 0,
    "start_time": "2023-02-03T19:51:23.865Z"
   },
   {
    "duration": 70,
    "start_time": "2023-02-03T19:51:25.153Z"
   },
   {
    "duration": 70,
    "start_time": "2023-02-03T19:52:01.788Z"
   },
   {
    "duration": 0,
    "start_time": "2023-02-03T19:52:53.641Z"
   },
   {
    "duration": 10743,
    "start_time": "2023-02-03T19:56:14.127Z"
   },
   {
    "duration": 3415,
    "start_time": "2023-02-03T19:56:24.872Z"
   },
   {
    "duration": 0,
    "start_time": "2023-02-03T19:58:18.010Z"
   },
   {
    "duration": 0,
    "start_time": "2023-02-03T20:02:44.704Z"
   },
   {
    "duration": 0,
    "start_time": "2023-02-03T20:03:20.303Z"
   },
   {
    "duration": 0,
    "start_time": "2023-02-03T20:03:20.305Z"
   },
   {
    "duration": 0,
    "start_time": "2023-02-03T20:03:20.306Z"
   },
   {
    "duration": 0,
    "start_time": "2023-02-03T20:03:20.307Z"
   },
   {
    "duration": 0,
    "start_time": "2023-02-03T20:03:20.308Z"
   },
   {
    "duration": 0,
    "start_time": "2023-02-03T20:03:20.309Z"
   },
   {
    "duration": 0,
    "start_time": "2023-02-03T20:03:20.311Z"
   },
   {
    "duration": 0,
    "start_time": "2023-02-03T20:03:20.312Z"
   },
   {
    "duration": 0,
    "start_time": "2023-02-03T20:03:20.313Z"
   },
   {
    "duration": 0,
    "start_time": "2023-02-03T20:03:20.314Z"
   },
   {
    "duration": 0,
    "start_time": "2023-02-03T20:03:20.315Z"
   },
   {
    "duration": 0,
    "start_time": "2023-02-03T20:03:20.316Z"
   },
   {
    "duration": 0,
    "start_time": "2023-02-03T20:03:20.317Z"
   },
   {
    "duration": 0,
    "start_time": "2023-02-03T20:03:20.318Z"
   },
   {
    "duration": 0,
    "start_time": "2023-02-03T20:03:20.319Z"
   },
   {
    "duration": 0,
    "start_time": "2023-02-03T20:03:20.320Z"
   },
   {
    "duration": 0,
    "start_time": "2023-02-03T20:03:20.321Z"
   },
   {
    "duration": 0,
    "start_time": "2023-02-03T20:03:20.323Z"
   },
   {
    "duration": 0,
    "start_time": "2023-02-03T20:03:20.324Z"
   },
   {
    "duration": 0,
    "start_time": "2023-02-03T20:03:20.325Z"
   },
   {
    "duration": 0,
    "start_time": "2023-02-03T20:03:20.326Z"
   },
   {
    "duration": 0,
    "start_time": "2023-02-03T20:03:20.327Z"
   },
   {
    "duration": 0,
    "start_time": "2023-02-03T20:03:20.328Z"
   },
   {
    "duration": 0,
    "start_time": "2023-02-03T20:03:20.329Z"
   },
   {
    "duration": 0,
    "start_time": "2023-02-03T20:03:20.330Z"
   },
   {
    "duration": 0,
    "start_time": "2023-02-03T20:03:20.331Z"
   },
   {
    "duration": 0,
    "start_time": "2023-02-03T20:03:20.332Z"
   },
   {
    "duration": 0,
    "start_time": "2023-02-03T20:03:20.384Z"
   },
   {
    "duration": 0,
    "start_time": "2023-02-03T20:03:20.386Z"
   },
   {
    "duration": 0,
    "start_time": "2023-02-03T20:03:20.387Z"
   },
   {
    "duration": 0,
    "start_time": "2023-02-03T20:03:20.389Z"
   },
   {
    "duration": 0,
    "start_time": "2023-02-03T20:03:20.390Z"
   },
   {
    "duration": 0,
    "start_time": "2023-02-03T20:03:20.391Z"
   },
   {
    "duration": 0,
    "start_time": "2023-02-03T20:03:20.392Z"
   },
   {
    "duration": 0,
    "start_time": "2023-02-03T20:03:20.394Z"
   },
   {
    "duration": 0,
    "start_time": "2023-02-03T20:03:20.394Z"
   },
   {
    "duration": 0,
    "start_time": "2023-02-03T20:03:20.395Z"
   },
   {
    "duration": 0,
    "start_time": "2023-02-03T20:03:20.397Z"
   },
   {
    "duration": 0,
    "start_time": "2023-02-03T20:03:20.398Z"
   },
   {
    "duration": 0,
    "start_time": "2023-02-03T20:03:20.399Z"
   },
   {
    "duration": 0,
    "start_time": "2023-02-03T20:03:20.400Z"
   },
   {
    "duration": 0,
    "start_time": "2023-02-03T20:03:20.401Z"
   },
   {
    "duration": 0,
    "start_time": "2023-02-03T20:03:20.402Z"
   },
   {
    "duration": 0,
    "start_time": "2023-02-03T20:03:20.403Z"
   },
   {
    "duration": 0,
    "start_time": "2023-02-03T20:03:20.404Z"
   },
   {
    "duration": 0,
    "start_time": "2023-02-03T20:03:20.405Z"
   },
   {
    "duration": 0,
    "start_time": "2023-02-03T20:03:20.407Z"
   },
   {
    "duration": 0,
    "start_time": "2023-02-03T20:03:20.408Z"
   },
   {
    "duration": 0,
    "start_time": "2023-02-03T20:03:20.409Z"
   },
   {
    "duration": 0,
    "start_time": "2023-02-03T20:03:20.410Z"
   },
   {
    "duration": 0,
    "start_time": "2023-02-03T20:03:20.411Z"
   },
   {
    "duration": 0,
    "start_time": "2023-02-03T20:03:20.412Z"
   },
   {
    "duration": 0,
    "start_time": "2023-02-03T20:03:20.414Z"
   },
   {
    "duration": 0,
    "start_time": "2023-02-03T20:03:20.416Z"
   },
   {
    "duration": 5,
    "start_time": "2023-02-03T20:03:22.291Z"
   },
   {
    "duration": 48,
    "start_time": "2023-02-03T20:03:22.298Z"
   },
   {
    "duration": 13,
    "start_time": "2023-02-03T20:03:22.348Z"
   },
   {
    "duration": 17,
    "start_time": "2023-02-03T20:03:22.363Z"
   },
   {
    "duration": 3,
    "start_time": "2023-02-03T20:03:22.385Z"
   },
   {
    "duration": 15,
    "start_time": "2023-02-03T20:03:22.390Z"
   },
   {
    "duration": 23,
    "start_time": "2023-02-03T20:03:22.406Z"
   },
   {
    "duration": 8,
    "start_time": "2023-02-03T20:03:22.431Z"
   },
   {
    "duration": 11,
    "start_time": "2023-02-03T20:03:22.441Z"
   },
   {
    "duration": 6,
    "start_time": "2023-02-03T20:03:22.454Z"
   },
   {
    "duration": 24,
    "start_time": "2023-02-03T20:03:22.461Z"
   },
   {
    "duration": 33,
    "start_time": "2023-02-03T20:03:22.487Z"
   },
   {
    "duration": 17,
    "start_time": "2023-02-03T20:03:22.522Z"
   },
   {
    "duration": 25,
    "start_time": "2023-02-03T20:03:22.542Z"
   },
   {
    "duration": 18,
    "start_time": "2023-02-03T20:03:22.569Z"
   },
   {
    "duration": 10,
    "start_time": "2023-02-03T20:03:22.588Z"
   },
   {
    "duration": 10,
    "start_time": "2023-02-03T20:03:22.600Z"
   },
   {
    "duration": 874,
    "start_time": "2023-02-03T20:03:22.612Z"
   },
   {
    "duration": 96,
    "start_time": "2023-02-03T20:03:23.489Z"
   },
   {
    "duration": 901,
    "start_time": "2023-02-03T20:03:23.587Z"
   },
   {
    "duration": 94,
    "start_time": "2023-02-03T20:03:24.491Z"
   },
   {
    "duration": 43,
    "start_time": "2023-02-03T20:03:24.587Z"
   },
   {
    "duration": 4,
    "start_time": "2023-02-03T20:03:24.631Z"
   },
   {
    "duration": 14,
    "start_time": "2023-02-03T20:03:24.636Z"
   },
   {
    "duration": 1342,
    "start_time": "2023-02-03T20:03:24.652Z"
   },
   {
    "duration": 11,
    "start_time": "2023-02-03T20:03:25.996Z"
   },
   {
    "duration": 175,
    "start_time": "2023-02-03T20:03:26.009Z"
   },
   {
    "duration": 103,
    "start_time": "2023-02-03T20:03:26.187Z"
   },
   {
    "duration": 9,
    "start_time": "2023-02-03T20:03:26.291Z"
   },
   {
    "duration": 227,
    "start_time": "2023-02-03T20:03:26.302Z"
   },
   {
    "duration": 3689,
    "start_time": "2023-02-03T20:03:26.531Z"
   },
   {
    "duration": 44107,
    "start_time": "2023-02-03T20:03:30.222Z"
   },
   {
    "duration": 48468,
    "start_time": "2023-02-03T20:04:14.331Z"
   },
   {
    "duration": 0,
    "start_time": "2023-02-03T20:05:02.804Z"
   },
   {
    "duration": 0,
    "start_time": "2023-02-03T20:05:02.805Z"
   },
   {
    "duration": 0,
    "start_time": "2023-02-03T20:05:02.806Z"
   },
   {
    "duration": 0,
    "start_time": "2023-02-03T20:05:02.807Z"
   },
   {
    "duration": 0,
    "start_time": "2023-02-03T20:05:02.809Z"
   },
   {
    "duration": 0,
    "start_time": "2023-02-03T20:05:02.810Z"
   },
   {
    "duration": 0,
    "start_time": "2023-02-03T20:05:02.812Z"
   },
   {
    "duration": 0,
    "start_time": "2023-02-03T20:05:02.813Z"
   },
   {
    "duration": 0,
    "start_time": "2023-02-03T20:05:02.814Z"
   },
   {
    "duration": 0,
    "start_time": "2023-02-03T20:05:02.816Z"
   },
   {
    "duration": 0,
    "start_time": "2023-02-03T20:05:02.817Z"
   },
   {
    "duration": 0,
    "start_time": "2023-02-03T20:05:02.818Z"
   },
   {
    "duration": 0,
    "start_time": "2023-02-03T20:05:02.819Z"
   },
   {
    "duration": 0,
    "start_time": "2023-02-03T20:05:02.820Z"
   },
   {
    "duration": 0,
    "start_time": "2023-02-03T20:05:02.821Z"
   },
   {
    "duration": 0,
    "start_time": "2023-02-03T20:05:02.822Z"
   },
   {
    "duration": 0,
    "start_time": "2023-02-03T20:05:02.823Z"
   },
   {
    "duration": 0,
    "start_time": "2023-02-03T20:05:02.825Z"
   },
   {
    "duration": 0,
    "start_time": "2023-02-03T20:05:02.826Z"
   },
   {
    "duration": 0,
    "start_time": "2023-02-03T20:05:02.827Z"
   },
   {
    "duration": 0,
    "start_time": "2023-02-03T20:05:02.829Z"
   },
   {
    "duration": 15778,
    "start_time": "2023-02-03T20:05:17.121Z"
   },
   {
    "duration": 4,
    "start_time": "2023-02-03T20:05:52.088Z"
   },
   {
    "duration": 68,
    "start_time": "2023-02-03T20:05:52.094Z"
   },
   {
    "duration": 14,
    "start_time": "2023-02-03T20:05:52.164Z"
   },
   {
    "duration": 15,
    "start_time": "2023-02-03T20:05:52.180Z"
   },
   {
    "duration": 7,
    "start_time": "2023-02-03T20:05:52.198Z"
   },
   {
    "duration": 16,
    "start_time": "2023-02-03T20:05:52.207Z"
   },
   {
    "duration": 23,
    "start_time": "2023-02-03T20:05:52.225Z"
   },
   {
    "duration": 5,
    "start_time": "2023-02-03T20:05:52.251Z"
   },
   {
    "duration": 31,
    "start_time": "2023-02-03T20:05:52.257Z"
   },
   {
    "duration": 9,
    "start_time": "2023-02-03T20:05:52.290Z"
   },
   {
    "duration": 6,
    "start_time": "2023-02-03T20:05:52.301Z"
   },
   {
    "duration": 32,
    "start_time": "2023-02-03T20:05:52.309Z"
   },
   {
    "duration": 19,
    "start_time": "2023-02-03T20:05:52.343Z"
   },
   {
    "duration": 19,
    "start_time": "2023-02-03T20:05:52.384Z"
   },
   {
    "duration": 5,
    "start_time": "2023-02-03T20:05:52.406Z"
   },
   {
    "duration": 9,
    "start_time": "2023-02-03T20:05:52.414Z"
   },
   {
    "duration": 6,
    "start_time": "2023-02-03T20:05:52.425Z"
   },
   {
    "duration": 853,
    "start_time": "2023-02-03T20:05:52.432Z"
   },
   {
    "duration": 9,
    "start_time": "2023-02-03T20:05:53.288Z"
   },
   {
    "duration": 920,
    "start_time": "2023-02-03T20:05:53.298Z"
   },
   {
    "duration": 10,
    "start_time": "2023-02-03T20:05:54.285Z"
   },
   {
    "duration": 48,
    "start_time": "2023-02-03T20:05:54.385Z"
   },
   {
    "duration": 4,
    "start_time": "2023-02-03T20:05:54.435Z"
   },
   {
    "duration": 21,
    "start_time": "2023-02-03T20:05:54.441Z"
   },
   {
    "duration": 849,
    "start_time": "2023-02-03T20:05:54.465Z"
   },
   {
    "duration": 11,
    "start_time": "2023-02-03T20:05:55.316Z"
   },
   {
    "duration": 160,
    "start_time": "2023-02-03T20:05:55.329Z"
   },
   {
    "duration": 103,
    "start_time": "2023-02-03T20:05:55.492Z"
   },
   {
    "duration": 3,
    "start_time": "2023-02-03T20:05:55.597Z"
   },
   {
    "duration": 136,
    "start_time": "2023-02-03T20:05:55.602Z"
   },
   {
    "duration": 3495,
    "start_time": "2023-02-03T20:05:55.740Z"
   },
   {
    "duration": 5477,
    "start_time": "2023-02-03T20:05:59.237Z"
   },
   {
    "duration": 0,
    "start_time": "2023-02-03T20:06:04.716Z"
   },
   {
    "duration": 18811,
    "start_time": "2023-02-03T20:06:10.674Z"
   },
   {
    "duration": 270,
    "start_time": "2023-02-03T20:06:29.489Z"
   },
   {
    "duration": 9,
    "start_time": "2023-02-03T20:06:29.761Z"
   },
   {
    "duration": 5,
    "start_time": "2023-02-03T20:06:29.783Z"
   },
   {
    "duration": 37,
    "start_time": "2023-02-03T20:06:29.791Z"
   },
   {
    "duration": 142,
    "start_time": "2023-02-03T20:06:29.830Z"
   },
   {
    "duration": 13,
    "start_time": "2023-02-03T20:06:29.974Z"
   },
   {
    "duration": 16,
    "start_time": "2023-02-03T20:06:29.989Z"
   },
   {
    "duration": 1194,
    "start_time": "2023-02-03T20:06:30.007Z"
   },
   {
    "duration": 686,
    "start_time": "2023-02-03T20:06:31.203Z"
   },
   {
    "duration": 241,
    "start_time": "2023-02-03T20:06:31.892Z"
   },
   {
    "duration": 29,
    "start_time": "2023-02-03T20:06:32.135Z"
   },
   {
    "duration": 1138,
    "start_time": "2023-02-03T20:06:32.184Z"
   },
   {
    "duration": 468,
    "start_time": "2023-02-03T20:06:33.325Z"
   },
   {
    "duration": 99,
    "start_time": "2023-02-03T20:06:33.795Z"
   },
   {
    "duration": 106,
    "start_time": "2023-02-03T20:06:33.985Z"
   },
   {
    "duration": 70798,
    "start_time": "2023-02-03T20:06:34.093Z"
   },
   {
    "duration": 0,
    "start_time": "2023-02-03T20:07:44.893Z"
   },
   {
    "duration": 0,
    "start_time": "2023-02-03T20:07:44.896Z"
   },
   {
    "duration": 0,
    "start_time": "2023-02-03T20:07:44.897Z"
   },
   {
    "duration": 0,
    "start_time": "2023-02-03T20:07:44.899Z"
   },
   {
    "duration": 0,
    "start_time": "2023-02-03T20:07:44.900Z"
   },
   {
    "duration": 41957,
    "start_time": "2023-02-03T20:07:46.326Z"
   },
   {
    "duration": 60280,
    "start_time": "2023-02-03T20:08:43.582Z"
   },
   {
    "duration": 9653,
    "start_time": "2023-02-03T20:10:26.815Z"
   },
   {
    "duration": 10893,
    "start_time": "2023-02-03T20:11:37.039Z"
   },
   {
    "duration": 139360,
    "start_time": "2023-02-03T20:12:12.643Z"
   },
   {
    "duration": 351,
    "start_time": "2023-02-03T20:15:36.427Z"
   },
   {
    "duration": 6,
    "start_time": "2023-02-03T20:15:53.973Z"
   },
   {
    "duration": 6,
    "start_time": "2023-02-03T20:15:54.907Z"
   },
   {
    "duration": 59,
    "start_time": "2023-02-03T20:16:03.363Z"
   },
   {
    "duration": 517,
    "start_time": "2023-02-03T20:17:09.615Z"
   },
   {
    "duration": 75,
    "start_time": "2023-02-03T20:17:18.554Z"
   },
   {
    "duration": 191300,
    "start_time": "2023-02-03T20:17:27.398Z"
   },
   {
    "duration": 486,
    "start_time": "2023-02-03T20:21:18.974Z"
   },
   {
    "duration": 74,
    "start_time": "2023-02-03T20:21:31.323Z"
   },
   {
    "duration": 322947,
    "start_time": "2023-02-03T20:23:52.393Z"
   },
   {
    "duration": 493,
    "start_time": "2023-02-03T20:29:28.284Z"
   },
   {
    "duration": 64,
    "start_time": "2023-02-03T20:29:35.463Z"
   },
   {
    "duration": 65635,
    "start_time": "2023-02-03T20:29:51.227Z"
   },
   {
    "duration": 489,
    "start_time": "2023-02-03T20:31:03.951Z"
   },
   {
    "duration": 989,
    "start_time": "2023-02-03T20:31:15.367Z"
   },
   {
    "duration": 502,
    "start_time": "2023-02-03T20:31:21.386Z"
   },
   {
    "duration": 67,
    "start_time": "2023-02-03T20:31:26.548Z"
   },
   {
    "duration": 682617,
    "start_time": "2023-02-03T20:31:53.276Z"
   },
   {
    "duration": 672706,
    "start_time": "2023-02-03T20:43:16.600Z"
   },
   {
    "duration": 0,
    "start_time": "2023-02-03T20:54:29.308Z"
   },
   {
    "duration": 74920,
    "start_time": "2023-02-03T20:54:30.839Z"
   },
   {
    "duration": 0,
    "start_time": "2023-02-03T20:55:45.761Z"
   },
   {
    "duration": 59922,
    "start_time": "2023-02-03T20:55:46.454Z"
   },
   {
    "duration": 71,
    "start_time": "2023-02-03T21:28:18.355Z"
   },
   {
    "duration": 1594,
    "start_time": "2023-02-03T21:28:36.403Z"
   },
   {
    "duration": 76,
    "start_time": "2023-02-03T21:28:38.000Z"
   },
   {
    "duration": 17,
    "start_time": "2023-02-03T21:28:38.078Z"
   },
   {
    "duration": 13,
    "start_time": "2023-02-03T21:28:38.096Z"
   },
   {
    "duration": 4,
    "start_time": "2023-02-03T21:28:38.110Z"
   },
   {
    "duration": 13,
    "start_time": "2023-02-03T21:28:39.179Z"
   },
   {
    "duration": 28,
    "start_time": "2023-02-03T21:28:39.566Z"
   },
   {
    "duration": 6,
    "start_time": "2023-02-03T21:28:40.320Z"
   },
   {
    "duration": 11,
    "start_time": "2023-02-03T21:28:40.500Z"
   },
   {
    "duration": 10,
    "start_time": "2023-02-03T21:28:40.690Z"
   },
   {
    "duration": 4,
    "start_time": "2023-02-03T21:28:41.409Z"
   },
   {
    "duration": 26,
    "start_time": "2023-02-03T21:28:41.489Z"
   },
   {
    "duration": 19,
    "start_time": "2023-02-03T21:28:41.573Z"
   },
   {
    "duration": 20,
    "start_time": "2023-02-03T21:28:41.655Z"
   },
   {
    "duration": 8,
    "start_time": "2023-02-03T21:28:42.075Z"
   },
   {
    "duration": 6,
    "start_time": "2023-02-03T21:28:42.165Z"
   },
   {
    "duration": 4,
    "start_time": "2023-02-03T21:28:42.412Z"
   },
   {
    "duration": 809,
    "start_time": "2023-02-03T21:28:42.495Z"
   },
   {
    "duration": 7,
    "start_time": "2023-02-03T21:28:43.399Z"
   },
   {
    "duration": 779,
    "start_time": "2023-02-03T21:28:43.461Z"
   },
   {
    "duration": 8,
    "start_time": "2023-02-03T21:28:44.299Z"
   },
   {
    "duration": 133,
    "start_time": "2023-02-03T21:28:44.309Z"
   },
   {
    "duration": 4,
    "start_time": "2023-02-03T21:28:44.444Z"
   },
   {
    "duration": 18,
    "start_time": "2023-02-03T21:28:44.450Z"
   },
   {
    "duration": 731,
    "start_time": "2023-02-03T21:28:44.470Z"
   },
   {
    "duration": 10,
    "start_time": "2023-02-03T21:28:45.203Z"
   },
   {
    "duration": 87,
    "start_time": "2023-02-03T21:28:45.214Z"
   },
   {
    "duration": 95,
    "start_time": "2023-02-03T21:28:45.304Z"
   },
   {
    "duration": 3,
    "start_time": "2023-02-03T21:28:45.401Z"
   },
   {
    "duration": 154,
    "start_time": "2023-02-03T21:28:45.406Z"
   },
   {
    "duration": 2957,
    "start_time": "2023-02-03T21:28:45.562Z"
   },
   {
    "duration": 36949,
    "start_time": "2023-02-03T21:28:48.521Z"
   },
   {
    "duration": 14229,
    "start_time": "2023-02-03T21:29:25.471Z"
   },
   {
    "duration": 208,
    "start_time": "2023-02-03T21:29:39.703Z"
   },
   {
    "duration": 6,
    "start_time": "2023-02-03T21:29:39.913Z"
   },
   {
    "duration": 8,
    "start_time": "2023-02-03T21:29:39.920Z"
   },
   {
    "duration": 14,
    "start_time": "2023-02-03T21:29:39.929Z"
   },
   {
    "duration": 134,
    "start_time": "2023-02-03T21:29:39.945Z"
   },
   {
    "duration": 4,
    "start_time": "2023-02-03T21:29:40.081Z"
   },
   {
    "duration": 26,
    "start_time": "2023-02-03T21:29:40.088Z"
   },
   {
    "duration": 1285,
    "start_time": "2023-02-03T21:29:40.115Z"
   },
   {
    "duration": 502,
    "start_time": "2023-02-03T21:29:41.402Z"
   },
   {
    "duration": 231,
    "start_time": "2023-02-03T21:29:41.907Z"
   },
   {
    "duration": 31,
    "start_time": "2023-02-03T21:29:42.140Z"
   },
   {
    "duration": 1093,
    "start_time": "2023-02-03T21:29:42.199Z"
   },
   {
    "duration": 497,
    "start_time": "2023-02-03T21:29:43.294Z"
   },
   {
    "duration": 210,
    "start_time": "2023-02-03T21:29:43.794Z"
   },
   {
    "duration": 100,
    "start_time": "2023-02-03T21:29:44.007Z"
   },
   {
    "duration": 126,
    "start_time": "2023-02-03T21:29:44.109Z"
   },
   {
    "duration": 9,
    "start_time": "2023-02-03T21:29:44.237Z"
   },
   {
    "duration": 8,
    "start_time": "2023-02-03T21:29:44.248Z"
   },
   {
    "duration": 23,
    "start_time": "2023-02-03T21:29:44.258Z"
   },
   {
    "duration": 185805,
    "start_time": "2023-02-03T21:29:59.708Z"
   },
   {
    "duration": 27,
    "start_time": "2023-02-03T21:33:18.543Z"
   },
   {
    "duration": 68,
    "start_time": "2023-02-03T21:41:38.140Z"
   },
   {
    "duration": 13,
    "start_time": "2023-02-03T21:42:42.679Z"
   },
   {
    "duration": 0,
    "start_time": "2023-02-03T21:50:48.438Z"
   },
   {
    "duration": 0,
    "start_time": "2023-02-03T21:50:48.439Z"
   },
   {
    "duration": 15,
    "start_time": "2023-02-03T21:51:25.075Z"
   },
   {
    "duration": 0,
    "start_time": "2023-02-03T21:58:06.671Z"
   },
   {
    "duration": 5600,
    "start_time": "2023-02-03T21:58:08.498Z"
   },
   {
    "duration": 95,
    "start_time": "2023-02-03T21:58:59.613Z"
   },
   {
    "duration": 25,
    "start_time": "2023-02-03T21:59:05.787Z"
   },
   {
    "duration": 23375,
    "start_time": "2023-02-03T21:59:37.148Z"
   },
   {
    "duration": 110,
    "start_time": "2023-02-03T22:00:19.651Z"
   },
   {
    "duration": 106,
    "start_time": "2023-02-03T22:00:31.736Z"
   },
   {
    "duration": 111,
    "start_time": "2023-02-03T22:00:35.345Z"
   },
   {
    "duration": 106,
    "start_time": "2023-02-03T22:00:37.465Z"
   },
   {
    "duration": 106,
    "start_time": "2023-02-03T22:00:39.364Z"
   },
   {
    "duration": 126,
    "start_time": "2023-02-03T22:00:40.994Z"
   },
   {
    "duration": 26,
    "start_time": "2023-02-03T22:00:46.160Z"
   },
   {
    "duration": 28,
    "start_time": "2023-02-03T22:00:48.431Z"
   },
   {
    "duration": 110,
    "start_time": "2023-02-03T22:00:49.610Z"
   },
   {
    "duration": 26,
    "start_time": "2023-02-03T22:00:52.475Z"
   },
   {
    "duration": 102,
    "start_time": "2023-02-03T22:00:58.441Z"
   },
   {
    "duration": 117,
    "start_time": "2023-02-03T22:01:00.348Z"
   },
   {
    "duration": 11,
    "start_time": "2023-02-03T22:01:18.640Z"
   },
   {
    "duration": 102,
    "start_time": "2023-02-03T22:01:31.503Z"
   },
   {
    "duration": 101,
    "start_time": "2023-02-03T22:01:34.076Z"
   },
   {
    "duration": 23992,
    "start_time": "2023-02-03T22:01:40.397Z"
   },
   {
    "duration": 443,
    "start_time": "2023-02-03T22:02:43.645Z"
   },
   {
    "duration": 64,
    "start_time": "2023-02-03T22:02:49.306Z"
   },
   {
    "duration": 32051,
    "start_time": "2023-02-03T22:03:40.433Z"
   },
   {
    "duration": 346,
    "start_time": "2023-02-03T22:04:42.968Z"
   },
   {
    "duration": 60,
    "start_time": "2023-02-03T22:04:47.350Z"
   },
   {
    "duration": 133110,
    "start_time": "2023-02-03T22:05:41.858Z"
   },
   {
    "duration": 8,
    "start_time": "2023-02-03T22:10:38.392Z"
   },
   {
    "duration": 11,
    "start_time": "2023-02-03T22:10:39.867Z"
   },
   {
    "duration": 14,
    "start_time": "2023-02-03T22:11:51.895Z"
   },
   {
    "duration": 11,
    "start_time": "2023-02-03T22:12:18.939Z"
   },
   {
    "duration": 37947,
    "start_time": "2023-02-03T22:12:22.519Z"
   },
   {
    "duration": 14,
    "start_time": "2023-02-03T22:13:20.839Z"
   },
   {
    "duration": 62,
    "start_time": "2023-02-03T22:17:21.224Z"
   },
   {
    "duration": 78,
    "start_time": "2023-02-03T22:17:44.365Z"
   },
   {
    "duration": 20,
    "start_time": "2023-02-03T22:17:49.906Z"
   },
   {
    "duration": 8,
    "start_time": "2023-02-03T22:24:05.594Z"
   },
   {
    "duration": 15,
    "start_time": "2023-02-03T22:24:09.018Z"
   },
   {
    "duration": 8,
    "start_time": "2023-02-03T22:24:33.591Z"
   },
   {
    "duration": 8,
    "start_time": "2023-02-03T22:24:40.471Z"
   },
   {
    "duration": 242383,
    "start_time": "2023-02-03T22:24:41.539Z"
   },
   {
    "duration": 17,
    "start_time": "2023-02-03T22:28:43.924Z"
   },
   {
    "duration": 13,
    "start_time": "2023-02-03T22:33:19.191Z"
   },
   {
    "duration": 13,
    "start_time": "2023-02-03T22:33:25.053Z"
   },
   {
    "duration": 13,
    "start_time": "2023-02-03T22:33:30.781Z"
   },
   {
    "duration": 9,
    "start_time": "2023-02-03T22:34:53.621Z"
   },
   {
    "duration": 176508,
    "start_time": "2023-02-03T22:34:55.341Z"
   },
   {
    "duration": 14,
    "start_time": "2023-02-03T22:37:51.851Z"
   },
   {
    "duration": 61,
    "start_time": "2023-02-03T22:41:28.915Z"
   },
   {
    "duration": 66,
    "start_time": "2023-02-03T22:41:56.943Z"
   },
   {
    "duration": 237,
    "start_time": "2023-02-03T22:42:05.508Z"
   },
   {
    "duration": 370,
    "start_time": "2023-02-03T22:42:21.119Z"
   },
   {
    "duration": 423,
    "start_time": "2023-02-03T22:42:39.986Z"
   },
   {
    "duration": 327,
    "start_time": "2023-02-03T22:42:46.705Z"
   },
   {
    "duration": 373,
    "start_time": "2023-02-03T22:42:51.497Z"
   },
   {
    "duration": 431,
    "start_time": "2023-02-03T22:42:58.943Z"
   },
   {
    "duration": 432,
    "start_time": "2023-02-03T22:43:04.220Z"
   },
   {
    "duration": 425,
    "start_time": "2023-02-03T22:43:10.363Z"
   },
   {
    "duration": 482,
    "start_time": "2023-02-03T22:43:14.805Z"
   },
   {
    "duration": 408,
    "start_time": "2023-02-03T22:43:24.178Z"
   },
   {
    "duration": 425,
    "start_time": "2023-02-03T22:43:28.965Z"
   },
   {
    "duration": 333,
    "start_time": "2023-02-03T22:43:32.773Z"
   },
   {
    "duration": 299,
    "start_time": "2023-02-03T22:43:36.995Z"
   },
   {
    "duration": 448,
    "start_time": "2023-02-03T22:43:43.078Z"
   },
   {
    "duration": 428,
    "start_time": "2023-02-03T22:43:52.382Z"
   },
   {
    "duration": 429,
    "start_time": "2023-02-03T22:43:58.173Z"
   },
   {
    "duration": 73,
    "start_time": "2023-02-03T22:44:06.641Z"
   },
   {
    "duration": 552,
    "start_time": "2023-02-03T22:44:25.966Z"
   },
   {
    "duration": 71,
    "start_time": "2023-02-03T22:44:31.119Z"
   },
   {
    "duration": 456,
    "start_time": "2023-02-03T22:44:38.090Z"
   },
   {
    "duration": 71,
    "start_time": "2023-02-03T22:44:43.971Z"
   },
   {
    "duration": 475,
    "start_time": "2023-02-03T22:44:52.914Z"
   },
   {
    "duration": 480,
    "start_time": "2023-02-03T22:44:59.790Z"
   },
   {
    "duration": 493,
    "start_time": "2023-02-03T22:45:06.651Z"
   },
   {
    "duration": 506,
    "start_time": "2023-02-03T22:45:13.417Z"
   },
   {
    "duration": 604,
    "start_time": "2023-02-03T22:45:18.075Z"
   },
   {
    "duration": 401,
    "start_time": "2023-02-03T22:45:24.085Z"
   },
   {
    "duration": 477,
    "start_time": "2023-02-03T22:45:27.802Z"
   },
   {
    "duration": 483,
    "start_time": "2023-02-03T22:46:03.955Z"
   },
   {
    "duration": 69,
    "start_time": "2023-02-03T22:46:17.019Z"
   },
   {
    "duration": 1283,
    "start_time": "2023-02-04T09:58:41.615Z"
   },
   {
    "duration": 41,
    "start_time": "2023-02-04T09:58:42.899Z"
   },
   {
    "duration": 22,
    "start_time": "2023-02-04T09:58:42.942Z"
   },
   {
    "duration": 19,
    "start_time": "2023-02-04T09:58:42.966Z"
   },
   {
    "duration": 3,
    "start_time": "2023-02-04T09:58:42.986Z"
   },
   {
    "duration": 15,
    "start_time": "2023-02-04T09:58:42.991Z"
   },
   {
    "duration": 46,
    "start_time": "2023-02-04T09:58:43.007Z"
   },
   {
    "duration": 6,
    "start_time": "2023-02-04T09:58:43.055Z"
   },
   {
    "duration": 15,
    "start_time": "2023-02-04T09:58:43.063Z"
   },
   {
    "duration": 8,
    "start_time": "2023-02-04T09:58:43.081Z"
   },
   {
    "duration": 4,
    "start_time": "2023-02-04T09:58:43.091Z"
   },
   {
    "duration": 35,
    "start_time": "2023-02-04T09:58:43.097Z"
   },
   {
    "duration": 22,
    "start_time": "2023-02-04T09:58:43.143Z"
   },
   {
    "duration": 24,
    "start_time": "2023-02-04T09:58:43.168Z"
   },
   {
    "duration": 8,
    "start_time": "2023-02-04T09:58:43.194Z"
   },
   {
    "duration": 12,
    "start_time": "2023-02-04T09:58:43.203Z"
   },
   {
    "duration": 12,
    "start_time": "2023-02-04T09:58:43.217Z"
   },
   {
    "duration": 1020,
    "start_time": "2023-02-04T09:58:43.231Z"
   },
   {
    "duration": 9,
    "start_time": "2023-02-04T09:58:44.255Z"
   },
   {
    "duration": 1104,
    "start_time": "2023-02-04T09:58:44.266Z"
   },
   {
    "duration": 13,
    "start_time": "2023-02-04T09:58:45.455Z"
   },
   {
    "duration": 111,
    "start_time": "2023-02-04T09:58:45.475Z"
   },
   {
    "duration": 4,
    "start_time": "2023-02-04T09:58:45.588Z"
   },
   {
    "duration": 57,
    "start_time": "2023-02-04T09:58:45.594Z"
   },
   {
    "duration": 846,
    "start_time": "2023-02-04T09:58:45.655Z"
   },
   {
    "duration": 12,
    "start_time": "2023-02-04T09:58:46.503Z"
   },
   {
    "duration": 59,
    "start_time": "2023-02-04T09:58:46.517Z"
   },
   {
    "duration": 99,
    "start_time": "2023-02-04T09:58:46.648Z"
   },
   {
    "duration": 18,
    "start_time": "2023-02-04T09:58:46.749Z"
   },
   {
    "duration": 118,
    "start_time": "2023-02-04T09:58:46.769Z"
   },
   {
    "duration": 3320,
    "start_time": "2023-02-04T09:58:46.889Z"
   },
   {
    "duration": 41394,
    "start_time": "2023-02-04T09:58:50.210Z"
   },
   {
    "duration": 15966,
    "start_time": "2023-02-04T09:59:31.607Z"
   },
   {
    "duration": 218,
    "start_time": "2023-02-04T09:59:47.649Z"
   },
   {
    "duration": 9,
    "start_time": "2023-02-04T09:59:47.871Z"
   },
   {
    "duration": 13,
    "start_time": "2023-02-04T09:59:47.882Z"
   },
   {
    "duration": 22,
    "start_time": "2023-02-04T09:59:47.897Z"
   },
   {
    "duration": 152,
    "start_time": "2023-02-04T09:59:47.921Z"
   },
   {
    "duration": 4,
    "start_time": "2023-02-04T09:59:48.075Z"
   },
   {
    "duration": 21,
    "start_time": "2023-02-04T09:59:48.081Z"
   },
   {
    "duration": 1152,
    "start_time": "2023-02-04T09:59:48.103Z"
   },
   {
    "duration": 616,
    "start_time": "2023-02-04T09:59:49.259Z"
   },
   {
    "duration": 212,
    "start_time": "2023-02-04T09:59:49.877Z"
   },
   {
    "duration": 27,
    "start_time": "2023-02-04T09:59:50.091Z"
   },
   {
    "duration": 1142,
    "start_time": "2023-02-04T09:59:50.119Z"
   },
   {
    "duration": 509,
    "start_time": "2023-02-04T09:59:51.262Z"
   },
   {
    "duration": 89,
    "start_time": "2023-02-04T09:59:51.773Z"
   },
   {
    "duration": 184,
    "start_time": "2023-02-04T09:59:51.867Z"
   },
   {
    "duration": 25477,
    "start_time": "2023-02-04T09:59:52.058Z"
   },
   {
    "duration": 22,
    "start_time": "2023-02-04T10:00:17.537Z"
   },
   {
    "duration": 203409,
    "start_time": "2023-02-04T10:00:17.564Z"
   },
   {
    "duration": 14,
    "start_time": "2023-02-04T10:03:40.975Z"
   },
   {
    "duration": 37854,
    "start_time": "2023-02-04T10:03:40.991Z"
   },
   {
    "duration": 557,
    "start_time": "2023-02-04T10:04:18.846Z"
   },
   {
    "duration": 6,
    "start_time": "2023-02-04T10:04:19.404Z"
   },
   {
    "duration": 10,
    "start_time": "2023-02-04T10:04:19.411Z"
   },
   {
    "duration": 77,
    "start_time": "2023-02-04T10:04:19.423Z"
   },
   {
    "duration": 161,
    "start_time": "2023-02-04T10:04:19.501Z"
   },
   {
    "duration": 1634,
    "start_time": "2023-02-04T14:30:41.327Z"
   },
   {
    "duration": 164,
    "start_time": "2023-02-04T14:30:42.963Z"
   },
   {
    "duration": 17,
    "start_time": "2023-02-04T14:30:43.129Z"
   },
   {
    "duration": 17,
    "start_time": "2023-02-04T14:30:43.148Z"
   },
   {
    "duration": 4,
    "start_time": "2023-02-04T14:30:43.167Z"
   },
   {
    "duration": 19,
    "start_time": "2023-02-04T14:30:43.172Z"
   },
   {
    "duration": 25,
    "start_time": "2023-02-04T14:30:43.193Z"
   },
   {
    "duration": 21,
    "start_time": "2023-02-04T14:30:43.220Z"
   },
   {
    "duration": 14,
    "start_time": "2023-02-04T14:30:43.243Z"
   },
   {
    "duration": 6,
    "start_time": "2023-02-04T14:30:43.259Z"
   },
   {
    "duration": 6,
    "start_time": "2023-02-04T14:30:43.267Z"
   },
   {
    "duration": 27,
    "start_time": "2023-02-04T14:30:43.274Z"
   },
   {
    "duration": 49,
    "start_time": "2023-02-04T14:30:43.303Z"
   },
   {
    "duration": 19,
    "start_time": "2023-02-04T14:30:43.359Z"
   },
   {
    "duration": 9,
    "start_time": "2023-02-04T14:30:43.379Z"
   },
   {
    "duration": 21,
    "start_time": "2023-02-04T14:30:43.390Z"
   },
   {
    "duration": 11,
    "start_time": "2023-02-04T14:30:43.413Z"
   },
   {
    "duration": 912,
    "start_time": "2023-02-04T14:30:43.426Z"
   },
   {
    "duration": 93,
    "start_time": "2023-02-04T14:30:44.346Z"
   },
   {
    "duration": 800,
    "start_time": "2023-02-04T14:30:44.441Z"
   },
   {
    "duration": 111,
    "start_time": "2023-02-04T14:30:45.244Z"
   },
   {
    "duration": 130,
    "start_time": "2023-02-04T14:30:45.356Z"
   },
   {
    "duration": 5,
    "start_time": "2023-02-04T14:30:45.488Z"
   },
   {
    "duration": 19,
    "start_time": "2023-02-04T14:30:45.495Z"
   },
   {
    "duration": 1140,
    "start_time": "2023-02-04T14:30:45.516Z"
   },
   {
    "duration": 11,
    "start_time": "2023-02-04T14:30:46.658Z"
   },
   {
    "duration": 169,
    "start_time": "2023-02-04T14:30:46.671Z"
   },
   {
    "duration": 104,
    "start_time": "2023-02-04T14:30:46.842Z"
   },
   {
    "duration": 2,
    "start_time": "2023-02-04T14:30:46.948Z"
   },
   {
    "duration": 298,
    "start_time": "2023-02-04T14:30:46.952Z"
   },
   {
    "duration": 3986,
    "start_time": "2023-02-04T14:30:47.253Z"
   },
   {
    "duration": 39025,
    "start_time": "2023-02-04T14:30:51.241Z"
   },
   {
    "duration": 18470,
    "start_time": "2023-02-04T14:31:30.268Z"
   },
   {
    "duration": 222,
    "start_time": "2023-02-04T14:31:48.740Z"
   },
   {
    "duration": 6,
    "start_time": "2023-02-04T14:31:48.964Z"
   },
   {
    "duration": 33,
    "start_time": "2023-02-04T14:31:48.972Z"
   },
   {
    "duration": 41,
    "start_time": "2023-02-04T14:31:49.007Z"
   },
   {
    "duration": 225,
    "start_time": "2023-02-04T14:31:49.050Z"
   },
   {
    "duration": 5,
    "start_time": "2023-02-04T14:31:49.276Z"
   },
   {
    "duration": 30,
    "start_time": "2023-02-04T14:31:49.283Z"
   },
   {
    "duration": 1124,
    "start_time": "2023-02-04T14:31:49.317Z"
   },
   {
    "duration": 519,
    "start_time": "2023-02-04T14:31:50.444Z"
   },
   {
    "duration": 214,
    "start_time": "2023-02-04T14:31:50.965Z"
   },
   {
    "duration": 28,
    "start_time": "2023-02-04T14:31:51.181Z"
   },
   {
    "duration": 1085,
    "start_time": "2023-02-04T14:31:51.211Z"
   },
   {
    "duration": 487,
    "start_time": "2023-02-04T14:31:52.298Z"
   },
   {
    "duration": 154,
    "start_time": "2023-02-04T14:31:52.787Z"
   },
   {
    "duration": 203,
    "start_time": "2023-02-04T14:31:52.943Z"
   },
   {
    "duration": 22501,
    "start_time": "2023-02-04T14:31:53.238Z"
   },
   {
    "duration": 13,
    "start_time": "2023-02-04T14:32:15.741Z"
   },
   {
    "duration": 196824,
    "start_time": "2023-02-04T14:32:15.755Z"
   },
   {
    "duration": 14,
    "start_time": "2023-02-04T14:35:32.581Z"
   },
   {
    "duration": 187396,
    "start_time": "2023-02-04T14:35:32.597Z"
   },
   {
    "duration": 535,
    "start_time": "2023-02-04T14:38:39.995Z"
   },
   {
    "duration": 9,
    "start_time": "2023-02-04T14:38:40.532Z"
   },
   {
    "duration": 12,
    "start_time": "2023-02-04T14:38:40.542Z"
   },
   {
    "duration": 67,
    "start_time": "2023-02-04T14:38:40.556Z"
   },
   {
    "duration": 174,
    "start_time": "2023-02-04T14:38:40.625Z"
   },
   {
    "duration": 712,
    "start_time": "2023-02-04T14:39:01.455Z"
   },
   {
    "duration": 82,
    "start_time": "2023-02-04T14:39:06.659Z"
   },
   {
    "duration": 10,
    "start_time": "2023-02-04T14:41:43.445Z"
   },
   {
    "duration": 14155,
    "start_time": "2023-02-04T14:42:19.240Z"
   },
   {
    "duration": 8,
    "start_time": "2023-02-04T14:44:05.672Z"
   },
   {
    "duration": 14240,
    "start_time": "2023-02-04T14:44:08.172Z"
   },
   {
    "duration": 14,
    "start_time": "2023-02-04T14:44:26.171Z"
   },
   {
    "duration": 691,
    "start_time": "2023-02-04T14:44:57.639Z"
   },
   {
    "duration": 82,
    "start_time": "2023-02-04T14:45:17.906Z"
   },
   {
    "duration": 140,
    "start_time": "2023-02-04T14:46:26.994Z"
   },
   {
    "duration": 6,
    "start_time": "2023-02-04T14:50:23.840Z"
   },
   {
    "duration": 75,
    "start_time": "2023-02-04T14:51:33.137Z"
   },
   {
    "duration": 1641,
    "start_time": "2023-02-05T12:28:12.358Z"
   },
   {
    "duration": 75,
    "start_time": "2023-02-05T12:28:14.001Z"
   },
   {
    "duration": 16,
    "start_time": "2023-02-05T12:28:14.078Z"
   },
   {
    "duration": 12,
    "start_time": "2023-02-05T12:28:14.096Z"
   },
   {
    "duration": 3,
    "start_time": "2023-02-05T12:28:14.110Z"
   },
   {
    "duration": 15,
    "start_time": "2023-02-05T12:28:14.114Z"
   },
   {
    "duration": 21,
    "start_time": "2023-02-05T12:28:14.131Z"
   },
   {
    "duration": 6,
    "start_time": "2023-02-05T12:28:14.154Z"
   },
   {
    "duration": 28,
    "start_time": "2023-02-05T12:28:14.162Z"
   },
   {
    "duration": 6,
    "start_time": "2023-02-05T12:28:14.194Z"
   },
   {
    "duration": 6,
    "start_time": "2023-02-05T12:28:14.202Z"
   },
   {
    "duration": 26,
    "start_time": "2023-02-05T12:28:14.226Z"
   },
   {
    "duration": 17,
    "start_time": "2023-02-05T12:28:14.253Z"
   },
   {
    "duration": 16,
    "start_time": "2023-02-05T12:28:14.271Z"
   },
   {
    "duration": 6,
    "start_time": "2023-02-05T12:28:14.289Z"
   },
   {
    "duration": 34,
    "start_time": "2023-02-05T12:28:14.297Z"
   },
   {
    "duration": 4,
    "start_time": "2023-02-05T12:28:14.332Z"
   },
   {
    "duration": 796,
    "start_time": "2023-02-05T12:28:14.338Z"
   },
   {
    "duration": 93,
    "start_time": "2023-02-05T12:28:15.139Z"
   },
   {
    "duration": 892,
    "start_time": "2023-02-05T12:28:15.235Z"
   },
   {
    "duration": 6,
    "start_time": "2023-02-05T12:28:16.129Z"
   },
   {
    "duration": 125,
    "start_time": "2023-02-05T12:28:16.137Z"
   },
   {
    "duration": 3,
    "start_time": "2023-02-05T12:28:16.264Z"
   },
   {
    "duration": 12,
    "start_time": "2023-02-05T12:28:16.268Z"
   },
   {
    "duration": 793,
    "start_time": "2023-02-05T12:28:16.281Z"
   },
   {
    "duration": 11,
    "start_time": "2023-02-05T12:28:17.076Z"
   },
   {
    "duration": 46,
    "start_time": "2023-02-05T12:28:17.089Z"
   },
   {
    "duration": 12,
    "start_time": "2023-02-05T12:28:17.226Z"
   },
   {
    "duration": 10,
    "start_time": "2023-02-05T12:28:17.326Z"
   },
   {
    "duration": 129,
    "start_time": "2023-02-05T12:28:17.338Z"
   },
   {
    "duration": 3143,
    "start_time": "2023-02-05T12:28:17.468Z"
   },
   {
    "duration": 37384,
    "start_time": "2023-02-05T12:28:20.612Z"
   },
   {
    "duration": 14441,
    "start_time": "2023-02-05T12:28:57.998Z"
   },
   {
    "duration": 306,
    "start_time": "2023-02-05T12:29:12.440Z"
   },
   {
    "duration": 7,
    "start_time": "2023-02-05T12:29:12.748Z"
   },
   {
    "duration": 8,
    "start_time": "2023-02-05T12:29:12.757Z"
   },
   {
    "duration": 26,
    "start_time": "2023-02-05T12:29:12.766Z"
   },
   {
    "duration": 203,
    "start_time": "2023-02-05T12:29:12.794Z"
   },
   {
    "duration": 4,
    "start_time": "2023-02-05T12:29:12.999Z"
   },
   {
    "duration": 13,
    "start_time": "2023-02-05T12:29:13.005Z"
   },
   {
    "duration": 1039,
    "start_time": "2023-02-05T12:29:13.030Z"
   },
   {
    "duration": 492,
    "start_time": "2023-02-05T12:29:14.138Z"
   },
   {
    "duration": 208,
    "start_time": "2023-02-05T12:29:14.635Z"
   },
   {
    "duration": 26,
    "start_time": "2023-02-05T12:29:14.844Z"
   },
   {
    "duration": 1043,
    "start_time": "2023-02-05T12:29:14.872Z"
   },
   {
    "duration": 455,
    "start_time": "2023-02-05T12:29:15.917Z"
   },
   {
    "duration": 154,
    "start_time": "2023-02-05T12:29:16.377Z"
   },
   {
    "duration": 108,
    "start_time": "2023-02-05T12:29:16.533Z"
   },
   {
    "duration": 190,
    "start_time": "2023-02-05T12:29:16.643Z"
   },
   {
    "duration": 13745,
    "start_time": "2023-02-05T12:29:16.835Z"
   },
   {
    "duration": 14,
    "start_time": "2023-02-05T12:29:30.582Z"
   },
   {
    "duration": 762,
    "start_time": "2023-02-05T12:29:30.598Z"
   },
   {
    "duration": 6,
    "start_time": "2023-02-05T12:29:31.361Z"
   },
   {
    "duration": 11,
    "start_time": "2023-02-05T12:29:31.368Z"
   },
   {
    "duration": 86,
    "start_time": "2023-02-05T12:29:31.380Z"
   },
   {
    "duration": 154,
    "start_time": "2023-02-05T12:29:31.468Z"
   },
   {
    "duration": 676,
    "start_time": "2023-02-05T12:34:14.083Z"
   },
   {
    "duration": 79,
    "start_time": "2023-02-05T12:34:23.552Z"
   },
   {
    "duration": 700,
    "start_time": "2023-02-05T12:34:36.657Z"
   },
   {
    "duration": 81,
    "start_time": "2023-02-05T12:34:46.085Z"
   },
   {
    "duration": 1723,
    "start_time": "2023-02-05T14:35:17.012Z"
   },
   {
    "duration": 85,
    "start_time": "2023-02-05T14:35:18.737Z"
   },
   {
    "duration": 19,
    "start_time": "2023-02-05T14:35:18.823Z"
   },
   {
    "duration": 15,
    "start_time": "2023-02-05T14:35:18.926Z"
   },
   {
    "duration": 4,
    "start_time": "2023-02-05T14:35:19.179Z"
   },
   {
    "duration": 15,
    "start_time": "2023-02-05T14:35:19.679Z"
   },
   {
    "duration": 21,
    "start_time": "2023-02-05T14:35:19.852Z"
   },
   {
    "duration": 6,
    "start_time": "2023-02-05T14:35:20.192Z"
   },
   {
    "duration": 9,
    "start_time": "2023-02-05T14:35:20.259Z"
   },
   {
    "duration": 7,
    "start_time": "2023-02-05T14:35:20.338Z"
   },
   {
    "duration": 3,
    "start_time": "2023-02-05T14:35:20.588Z"
   },
   {
    "duration": 42,
    "start_time": "2023-02-05T14:35:20.672Z"
   },
   {
    "duration": 18,
    "start_time": "2023-02-05T14:35:20.759Z"
   },
   {
    "duration": 19,
    "start_time": "2023-02-05T14:35:20.850Z"
   },
   {
    "duration": 7,
    "start_time": "2023-02-05T14:35:21.264Z"
   },
   {
    "duration": 6,
    "start_time": "2023-02-05T14:35:21.345Z"
   },
   {
    "duration": 4,
    "start_time": "2023-02-05T14:35:21.589Z"
   },
   {
    "duration": 751,
    "start_time": "2023-02-05T14:35:21.671Z"
   },
   {
    "duration": 5,
    "start_time": "2023-02-05T14:35:22.500Z"
   },
   {
    "duration": 934,
    "start_time": "2023-02-05T14:35:22.507Z"
   },
   {
    "duration": 12,
    "start_time": "2023-02-05T14:35:23.501Z"
   },
   {
    "duration": 141,
    "start_time": "2023-02-05T14:35:23.515Z"
   },
   {
    "duration": 3,
    "start_time": "2023-02-05T14:35:23.657Z"
   },
   {
    "duration": 13,
    "start_time": "2023-02-05T14:35:24.064Z"
   },
   {
    "duration": 730,
    "start_time": "2023-02-05T14:35:24.224Z"
   },
   {
    "duration": 10,
    "start_time": "2023-02-05T14:35:24.957Z"
   },
   {
    "duration": 132,
    "start_time": "2023-02-05T14:35:24.969Z"
   },
   {
    "duration": 16,
    "start_time": "2023-02-05T14:35:25.103Z"
   },
   {
    "duration": 18,
    "start_time": "2023-02-05T14:35:25.198Z"
   },
   {
    "duration": 133,
    "start_time": "2023-02-05T14:35:25.482Z"
   },
   {
    "duration": 3001,
    "start_time": "2023-02-05T14:35:26.586Z"
   },
   {
    "duration": 38547,
    "start_time": "2023-02-05T14:35:29.589Z"
   },
   {
    "duration": 12983,
    "start_time": "2023-02-05T14:36:08.137Z"
   },
   {
    "duration": 222,
    "start_time": "2023-02-05T14:36:21.203Z"
   },
   {
    "duration": 7,
    "start_time": "2023-02-05T14:36:21.427Z"
   },
   {
    "duration": 10,
    "start_time": "2023-02-05T14:36:21.436Z"
   },
   {
    "duration": 16,
    "start_time": "2023-02-05T14:36:21.449Z"
   },
   {
    "duration": 147,
    "start_time": "2023-02-05T14:36:21.467Z"
   },
   {
    "duration": 4,
    "start_time": "2023-02-05T14:36:21.616Z"
   },
   {
    "duration": 21,
    "start_time": "2023-02-05T14:36:21.622Z"
   },
   {
    "duration": 1058,
    "start_time": "2023-02-05T14:36:21.645Z"
   },
   {
    "duration": 543,
    "start_time": "2023-02-05T14:36:22.707Z"
   },
   {
    "duration": 176,
    "start_time": "2023-02-05T14:36:23.252Z"
   },
   {
    "duration": 24,
    "start_time": "2023-02-05T14:36:23.430Z"
   },
   {
    "duration": 1040,
    "start_time": "2023-02-05T14:36:23.456Z"
   },
   {
    "duration": 419,
    "start_time": "2023-02-05T14:36:24.499Z"
   },
   {
    "duration": 91,
    "start_time": "2023-02-05T14:36:24.920Z"
   },
   {
    "duration": 193,
    "start_time": "2023-02-05T14:36:25.013Z"
   },
   {
    "duration": 1518,
    "start_time": "2023-02-05T14:36:25.208Z"
   },
   {
    "duration": 6,
    "start_time": "2023-02-05T14:36:37.016Z"
   },
   {
    "duration": 6,
    "start_time": "2023-02-05T14:36:37.497Z"
   },
   {
    "duration": 74,
    "start_time": "2023-02-05T14:36:42.345Z"
   },
   {
    "duration": 77,
    "start_time": "2023-02-05T14:38:25.219Z"
   },
   {
    "duration": 145,
    "start_time": "2023-02-05T14:38:27.857Z"
   },
   {
    "duration": 69,
    "start_time": "2023-02-05T14:39:20.518Z"
   },
   {
    "duration": 72,
    "start_time": "2023-02-05T14:39:26.522Z"
   },
   {
    "duration": 75,
    "start_time": "2023-02-05T14:39:41.966Z"
   },
   {
    "duration": 78,
    "start_time": "2023-02-05T14:39:56.528Z"
   },
   {
    "duration": 87,
    "start_time": "2023-02-05T14:40:41.625Z"
   },
   {
    "duration": 67,
    "start_time": "2023-02-05T14:40:46.216Z"
   },
   {
    "duration": 90,
    "start_time": "2023-02-05T14:41:19.293Z"
   },
   {
    "duration": 647,
    "start_time": "2023-02-05T14:41:25.765Z"
   },
   {
    "duration": 1660,
    "start_time": "2023-02-06T09:20:04.239Z"
   },
   {
    "duration": 87,
    "start_time": "2023-02-06T09:20:05.902Z"
   },
   {
    "duration": 19,
    "start_time": "2023-02-06T09:20:05.991Z"
   },
   {
    "duration": 14,
    "start_time": "2023-02-06T09:20:06.012Z"
   },
   {
    "duration": 3,
    "start_time": "2023-02-06T09:20:06.028Z"
   },
   {
    "duration": 21,
    "start_time": "2023-02-06T09:20:06.033Z"
   },
   {
    "duration": 46,
    "start_time": "2023-02-06T09:20:06.056Z"
   },
   {
    "duration": 6,
    "start_time": "2023-02-06T09:20:06.104Z"
   },
   {
    "duration": 14,
    "start_time": "2023-02-06T09:20:06.112Z"
   },
   {
    "duration": 13,
    "start_time": "2023-02-06T09:20:06.129Z"
   },
   {
    "duration": 10,
    "start_time": "2023-02-06T09:20:06.144Z"
   },
   {
    "duration": 40,
    "start_time": "2023-02-06T09:20:06.156Z"
   },
   {
    "duration": 20,
    "start_time": "2023-02-06T09:20:06.198Z"
   },
   {
    "duration": 21,
    "start_time": "2023-02-06T09:20:06.220Z"
   },
   {
    "duration": 7,
    "start_time": "2023-02-06T09:20:06.243Z"
   },
   {
    "duration": 35,
    "start_time": "2023-02-06T09:20:06.252Z"
   },
   {
    "duration": 11,
    "start_time": "2023-02-06T09:20:06.288Z"
   },
   {
    "duration": 812,
    "start_time": "2023-02-06T09:20:06.300Z"
   },
   {
    "duration": 97,
    "start_time": "2023-02-06T09:20:07.188Z"
   },
   {
    "duration": 806,
    "start_time": "2023-02-06T09:20:07.287Z"
   },
   {
    "duration": 10,
    "start_time": "2023-02-06T09:20:08.183Z"
   },
   {
    "duration": 42,
    "start_time": "2023-02-06T09:20:08.285Z"
   },
   {
    "duration": 3,
    "start_time": "2023-02-06T09:20:08.329Z"
   },
   {
    "duration": 19,
    "start_time": "2023-02-06T09:20:08.334Z"
   },
   {
    "duration": 803,
    "start_time": "2023-02-06T09:20:08.354Z"
   },
   {
    "duration": 12,
    "start_time": "2023-02-06T09:20:09.159Z"
   },
   {
    "duration": 112,
    "start_time": "2023-02-06T09:20:09.172Z"
   },
   {
    "duration": 106,
    "start_time": "2023-02-06T09:20:09.291Z"
   },
   {
    "duration": 4,
    "start_time": "2023-02-06T09:20:09.399Z"
   },
   {
    "duration": 141,
    "start_time": "2023-02-06T09:20:09.405Z"
   },
   {
    "duration": 3453,
    "start_time": "2023-02-06T09:20:09.548Z"
   },
   {
    "duration": 41081,
    "start_time": "2023-02-06T09:20:13.003Z"
   },
   {
    "duration": 18098,
    "start_time": "2023-02-06T09:20:54.086Z"
   },
   {
    "duration": 222,
    "start_time": "2023-02-06T09:21:12.191Z"
   },
   {
    "duration": 7,
    "start_time": "2023-02-06T09:21:12.414Z"
   },
   {
    "duration": 11,
    "start_time": "2023-02-06T09:21:12.422Z"
   },
   {
    "duration": 17,
    "start_time": "2023-02-06T09:21:12.435Z"
   },
   {
    "duration": 217,
    "start_time": "2023-02-06T09:21:12.454Z"
   },
   {
    "duration": 11,
    "start_time": "2023-02-06T09:21:12.673Z"
   },
   {
    "duration": 20,
    "start_time": "2023-02-06T09:21:12.686Z"
   },
   {
    "duration": 1176,
    "start_time": "2023-02-06T09:21:12.708Z"
   },
   {
    "duration": 515,
    "start_time": "2023-02-06T09:21:13.888Z"
   },
   {
    "duration": 222,
    "start_time": "2023-02-06T09:21:14.405Z"
   },
   {
    "duration": 30,
    "start_time": "2023-02-06T09:21:14.629Z"
   },
   {
    "duration": 1162,
    "start_time": "2023-02-06T09:21:14.660Z"
   },
   {
    "duration": 467,
    "start_time": "2023-02-06T09:21:15.824Z"
   },
   {
    "duration": 190,
    "start_time": "2023-02-06T09:21:16.294Z"
   },
   {
    "duration": 199,
    "start_time": "2023-02-06T09:21:16.486Z"
   },
   {
    "duration": 8,
    "start_time": "2023-02-06T09:21:16.687Z"
   },
   {
    "duration": 14934,
    "start_time": "2023-02-06T09:21:16.697Z"
   },
   {
    "duration": 16,
    "start_time": "2023-02-06T09:21:31.633Z"
   },
   {
    "duration": 804,
    "start_time": "2023-02-06T09:21:31.651Z"
   },
   {
    "duration": 6,
    "start_time": "2023-02-06T09:21:32.458Z"
   },
   {
    "duration": 21,
    "start_time": "2023-02-06T09:21:32.467Z"
   },
   {
    "duration": 95,
    "start_time": "2023-02-06T09:21:32.490Z"
   },
   {
    "duration": 163,
    "start_time": "2023-02-06T09:21:32.587Z"
   }
  ],
  "kernelspec": {
   "display_name": "Python 3 (ipykernel)",
   "language": "python",
   "name": "python3"
  },
  "language_info": {
   "codemirror_mode": {
    "name": "ipython",
    "version": 3
   },
   "file_extension": ".py",
   "mimetype": "text/x-python",
   "name": "python",
   "nbconvert_exporter": "python",
   "pygments_lexer": "ipython3",
   "version": "3.9.13"
  },
  "toc": {
   "base_numbering": 1,
   "nav_menu": {},
   "number_sections": true,
   "sideBar": true,
   "skip_h1_title": true,
   "title_cell": "Содержание",
   "title_sidebar": "Contents",
   "toc_cell": true,
   "toc_position": {
    "height": "calc(100% - 180px)",
    "left": "10px",
    "top": "150px",
    "width": "270.188px"
   },
   "toc_section_display": true,
   "toc_window_display": true
  }
 },
 "nbformat": 4,
 "nbformat_minor": 2
}
