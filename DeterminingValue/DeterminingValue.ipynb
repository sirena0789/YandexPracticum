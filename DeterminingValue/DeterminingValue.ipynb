{
 "cells": [
  {
   "cell_type": "markdown",
   "metadata": {},
   "source": [
    "## Описание проекта"
   ]
  },
  {
   "cell_type": "markdown",
   "metadata": {},
   "source": [
    "Сервис по продаже автомобилей с пробегом «Не бит, не крашен» разрабатывает приложение для привлечения новых клиентов. В нём можно быстро узнать рыночную стоимость своего автомобиля. В вашем распоряжении исторические данные: технические характеристики, комплектации и цены автомобилей. Вам нужно построить модель для определения стоимости. \n",
    "\n",
    "Заказчику важны:\n",
    "\n",
    "- качество предсказания;\n",
    "- скорость предсказания;\n",
    "- время обучения."
   ]
  },
  {
   "cell_type": "markdown",
   "metadata": {},
   "source": [
    "## Подготовка данных"
   ]
  },
  {
   "cell_type": "markdown",
   "metadata": {},
   "source": [
    "Импорт библиотек."
   ]
  },
  {
   "cell_type": "code",
   "execution_count": 1,
   "metadata": {},
   "outputs": [],
   "source": [
    "import pandas as pd\n",
    "import numpy as np\n",
    "\n",
    "from sklearn.model_selection import train_test_split\n",
    "from sklearn.metrics import mean_squared_error\n",
    "from sklearn.ensemble import RandomForestRegressor\n",
    "from sklearn.experimental import enable_halving_search_cv\n",
    "from sklearn.model_selection import HalvingGridSearchCV\n",
    "from sklearn.tree import DecisionTreeRegressor\n",
    "\n",
    "from catboost import Pool, CatBoostRegressor, cv\n",
    "import lightgbm as lgb\n",
    "\n",
    "import warnings\n",
    "warnings.filterwarnings('ignore')"
   ]
  },
  {
   "cell_type": "markdown",
   "metadata": {},
   "source": [
    "Чтение и знакомство с данными."
   ]
  },
  {
   "cell_type": "code",
   "execution_count": 2,
   "metadata": {},
   "outputs": [],
   "source": [
    "df = pd.read_csv(\"autos.csv\")"
   ]
  },
  {
   "cell_type": "code",
   "execution_count": 3,
   "metadata": {
    "scrolled": true
   },
   "outputs": [
    {
     "data": {
      "text/html": [
       "<div>\n",
       "<style scoped>\n",
       "    .dataframe tbody tr th:only-of-type {\n",
       "        vertical-align: middle;\n",
       "    }\n",
       "\n",
       "    .dataframe tbody tr th {\n",
       "        vertical-align: top;\n",
       "    }\n",
       "\n",
       "    .dataframe thead th {\n",
       "        text-align: right;\n",
       "    }\n",
       "</style>\n",
       "<table border=\"1\" class=\"dataframe\">\n",
       "  <thead>\n",
       "    <tr style=\"text-align: right;\">\n",
       "      <th></th>\n",
       "      <th>DateCrawled</th>\n",
       "      <th>Price</th>\n",
       "      <th>VehicleType</th>\n",
       "      <th>RegistrationYear</th>\n",
       "      <th>Gearbox</th>\n",
       "      <th>Power</th>\n",
       "      <th>Model</th>\n",
       "      <th>Kilometer</th>\n",
       "      <th>RegistrationMonth</th>\n",
       "      <th>FuelType</th>\n",
       "      <th>Brand</th>\n",
       "      <th>Repaired</th>\n",
       "      <th>DateCreated</th>\n",
       "      <th>NumberOfPictures</th>\n",
       "      <th>PostalCode</th>\n",
       "      <th>LastSeen</th>\n",
       "    </tr>\n",
       "  </thead>\n",
       "  <tbody>\n",
       "    <tr>\n",
       "      <th>0</th>\n",
       "      <td>2016-03-24 11:52:17</td>\n",
       "      <td>480</td>\n",
       "      <td>NaN</td>\n",
       "      <td>1993</td>\n",
       "      <td>manual</td>\n",
       "      <td>0</td>\n",
       "      <td>golf</td>\n",
       "      <td>150000</td>\n",
       "      <td>0</td>\n",
       "      <td>petrol</td>\n",
       "      <td>volkswagen</td>\n",
       "      <td>NaN</td>\n",
       "      <td>2016-03-24 00:00:00</td>\n",
       "      <td>0</td>\n",
       "      <td>70435</td>\n",
       "      <td>2016-04-07 03:16:57</td>\n",
       "    </tr>\n",
       "    <tr>\n",
       "      <th>1</th>\n",
       "      <td>2016-03-24 10:58:45</td>\n",
       "      <td>18300</td>\n",
       "      <td>coupe</td>\n",
       "      <td>2011</td>\n",
       "      <td>manual</td>\n",
       "      <td>190</td>\n",
       "      <td>NaN</td>\n",
       "      <td>125000</td>\n",
       "      <td>5</td>\n",
       "      <td>gasoline</td>\n",
       "      <td>audi</td>\n",
       "      <td>yes</td>\n",
       "      <td>2016-03-24 00:00:00</td>\n",
       "      <td>0</td>\n",
       "      <td>66954</td>\n",
       "      <td>2016-04-07 01:46:50</td>\n",
       "    </tr>\n",
       "    <tr>\n",
       "      <th>2</th>\n",
       "      <td>2016-03-14 12:52:21</td>\n",
       "      <td>9800</td>\n",
       "      <td>suv</td>\n",
       "      <td>2004</td>\n",
       "      <td>auto</td>\n",
       "      <td>163</td>\n",
       "      <td>grand</td>\n",
       "      <td>125000</td>\n",
       "      <td>8</td>\n",
       "      <td>gasoline</td>\n",
       "      <td>jeep</td>\n",
       "      <td>NaN</td>\n",
       "      <td>2016-03-14 00:00:00</td>\n",
       "      <td>0</td>\n",
       "      <td>90480</td>\n",
       "      <td>2016-04-05 12:47:46</td>\n",
       "    </tr>\n",
       "    <tr>\n",
       "      <th>3</th>\n",
       "      <td>2016-03-17 16:54:04</td>\n",
       "      <td>1500</td>\n",
       "      <td>small</td>\n",
       "      <td>2001</td>\n",
       "      <td>manual</td>\n",
       "      <td>75</td>\n",
       "      <td>golf</td>\n",
       "      <td>150000</td>\n",
       "      <td>6</td>\n",
       "      <td>petrol</td>\n",
       "      <td>volkswagen</td>\n",
       "      <td>no</td>\n",
       "      <td>2016-03-17 00:00:00</td>\n",
       "      <td>0</td>\n",
       "      <td>91074</td>\n",
       "      <td>2016-03-17 17:40:17</td>\n",
       "    </tr>\n",
       "    <tr>\n",
       "      <th>4</th>\n",
       "      <td>2016-03-31 17:25:20</td>\n",
       "      <td>3600</td>\n",
       "      <td>small</td>\n",
       "      <td>2008</td>\n",
       "      <td>manual</td>\n",
       "      <td>69</td>\n",
       "      <td>fabia</td>\n",
       "      <td>90000</td>\n",
       "      <td>7</td>\n",
       "      <td>gasoline</td>\n",
       "      <td>skoda</td>\n",
       "      <td>no</td>\n",
       "      <td>2016-03-31 00:00:00</td>\n",
       "      <td>0</td>\n",
       "      <td>60437</td>\n",
       "      <td>2016-04-06 10:17:21</td>\n",
       "    </tr>\n",
       "  </tbody>\n",
       "</table>\n",
       "</div>"
      ],
      "text/plain": [
       "           DateCrawled  Price VehicleType  RegistrationYear Gearbox  Power  \\\n",
       "0  2016-03-24 11:52:17    480         NaN              1993  manual      0   \n",
       "1  2016-03-24 10:58:45  18300       coupe              2011  manual    190   \n",
       "2  2016-03-14 12:52:21   9800         suv              2004    auto    163   \n",
       "3  2016-03-17 16:54:04   1500       small              2001  manual     75   \n",
       "4  2016-03-31 17:25:20   3600       small              2008  manual     69   \n",
       "\n",
       "   Model  Kilometer  RegistrationMonth  FuelType       Brand Repaired  \\\n",
       "0   golf     150000                  0    petrol  volkswagen      NaN   \n",
       "1    NaN     125000                  5  gasoline        audi      yes   \n",
       "2  grand     125000                  8  gasoline        jeep      NaN   \n",
       "3   golf     150000                  6    petrol  volkswagen       no   \n",
       "4  fabia      90000                  7  gasoline       skoda       no   \n",
       "\n",
       "           DateCreated  NumberOfPictures  PostalCode             LastSeen  \n",
       "0  2016-03-24 00:00:00                 0       70435  2016-04-07 03:16:57  \n",
       "1  2016-03-24 00:00:00                 0       66954  2016-04-07 01:46:50  \n",
       "2  2016-03-14 00:00:00                 0       90480  2016-04-05 12:47:46  \n",
       "3  2016-03-17 00:00:00                 0       91074  2016-03-17 17:40:17  \n",
       "4  2016-03-31 00:00:00                 0       60437  2016-04-06 10:17:21  "
      ]
     },
     "execution_count": 3,
     "metadata": {},
     "output_type": "execute_result"
    }
   ],
   "source": [
    "df.head()"
   ]
  },
  {
   "cell_type": "code",
   "execution_count": 4,
   "metadata": {
    "scrolled": true
   },
   "outputs": [
    {
     "name": "stdout",
     "output_type": "stream",
     "text": [
      "<class 'pandas.core.frame.DataFrame'>\n",
      "RangeIndex: 354369 entries, 0 to 354368\n",
      "Data columns (total 16 columns):\n",
      " #   Column             Non-Null Count   Dtype \n",
      "---  ------             --------------   ----- \n",
      " 0   DateCrawled        354369 non-null  object\n",
      " 1   Price              354369 non-null  int64 \n",
      " 2   VehicleType        316879 non-null  object\n",
      " 3   RegistrationYear   354369 non-null  int64 \n",
      " 4   Gearbox            334536 non-null  object\n",
      " 5   Power              354369 non-null  int64 \n",
      " 6   Model              334664 non-null  object\n",
      " 7   Kilometer          354369 non-null  int64 \n",
      " 8   RegistrationMonth  354369 non-null  int64 \n",
      " 9   FuelType           321474 non-null  object\n",
      " 10  Brand              354369 non-null  object\n",
      " 11  Repaired           283215 non-null  object\n",
      " 12  DateCreated        354369 non-null  object\n",
      " 13  NumberOfPictures   354369 non-null  int64 \n",
      " 14  PostalCode         354369 non-null  int64 \n",
      " 15  LastSeen           354369 non-null  object\n",
      "dtypes: int64(7), object(9)\n",
      "memory usage: 43.3+ MB\n"
     ]
    }
   ],
   "source": [
    "df.info()"
   ]
  },
  {
   "cell_type": "markdown",
   "metadata": {},
   "source": [
    "В VehicleType, Gearbox, Model, FuelType, Repaired имеются пропуски. Удалять эти строки не целесообразно, так как мы потеряем много данных. Лучшим решением будет заполнить пропуски самым частовстречающимся значением (модой) этих столбцов, так как данные признаки являются катигориальными.  "
   ]
  },
  {
   "cell_type": "code",
   "execution_count": 5,
   "metadata": {},
   "outputs": [],
   "source": [
    "df[\"VehicleType\"] = df[\"VehicleType\"].fillna(df[\"VehicleType\"].mode().values[0])\n",
    "df[\"Gearbox\"] = df[\"Gearbox\"].fillna(df[\"Gearbox\"].mode().values[0])\n",
    "df[\"Model\"] = df[\"Model\"].fillna(df[\"Model\"].mode().values[0])\n",
    "df[\"FuelType\"] = df[\"FuelType\"].fillna(df[\"FuelType\"].mode().values[0])\n",
    "df[\"Repaired\"] = df[\"Repaired\"].fillna(\"no\")"
   ]
  },
  {
   "cell_type": "code",
   "execution_count": 6,
   "metadata": {},
   "outputs": [
    {
     "data": {
      "text/plain": [
       "0"
      ]
     },
     "execution_count": 6,
     "metadata": {},
     "output_type": "execute_result"
    }
   ],
   "source": [
    "df[\"FuelType\"].isna().sum()"
   ]
  },
  {
   "cell_type": "markdown",
   "metadata": {},
   "source": [
    "Проверим данные на дубликаты и избавимся от них."
   ]
  },
  {
   "cell_type": "code",
   "execution_count": 7,
   "metadata": {},
   "outputs": [
    {
     "data": {
      "text/plain": [
       "5"
      ]
     },
     "execution_count": 7,
     "metadata": {},
     "output_type": "execute_result"
    }
   ],
   "source": [
    "df.duplicated().sum()"
   ]
  },
  {
   "cell_type": "code",
   "execution_count": 8,
   "metadata": {},
   "outputs": [],
   "source": [
    "df = df.drop_duplicates()"
   ]
  },
  {
   "cell_type": "markdown",
   "metadata": {},
   "source": [
    "\"DateCrawled\",\"DateCreated\",\"LastSeen\",\"NumberOfPictures\",\"PostalCode\" считаю целесообразным удалить, так как информации для предсказаний модели они не несут, но будут увеличивать время обучения."
   ]
  },
  {
   "cell_type": "code",
   "execution_count": 9,
   "metadata": {},
   "outputs": [],
   "source": [
    "df = df.drop([\"DateCrawled\",\"DateCreated\",\"LastSeen\",\"NumberOfPictures\",\"PostalCode\"],axis = 1)"
   ]
  },
  {
   "cell_type": "markdown",
   "metadata": {},
   "source": [
    "Проверим данные на выбросы и мин/макс границы."
   ]
  },
  {
   "cell_type": "code",
   "execution_count": 10,
   "metadata": {
    "scrolled": false
   },
   "outputs": [
    {
     "data": {
      "text/html": [
       "<div>\n",
       "<style scoped>\n",
       "    .dataframe tbody tr th:only-of-type {\n",
       "        vertical-align: middle;\n",
       "    }\n",
       "\n",
       "    .dataframe tbody tr th {\n",
       "        vertical-align: top;\n",
       "    }\n",
       "\n",
       "    .dataframe thead th {\n",
       "        text-align: right;\n",
       "    }\n",
       "</style>\n",
       "<table border=\"1\" class=\"dataframe\">\n",
       "  <thead>\n",
       "    <tr style=\"text-align: right;\">\n",
       "      <th></th>\n",
       "      <th>Price</th>\n",
       "      <th>RegistrationYear</th>\n",
       "      <th>Power</th>\n",
       "      <th>Kilometer</th>\n",
       "      <th>RegistrationMonth</th>\n",
       "    </tr>\n",
       "  </thead>\n",
       "  <tbody>\n",
       "    <tr>\n",
       "      <th>count</th>\n",
       "      <td>354364.000000</td>\n",
       "      <td>354364.000000</td>\n",
       "      <td>354364.000000</td>\n",
       "      <td>354364.000000</td>\n",
       "      <td>354364.000000</td>\n",
       "    </tr>\n",
       "    <tr>\n",
       "      <th>mean</th>\n",
       "      <td>4416.655608</td>\n",
       "      <td>2004.234471</td>\n",
       "      <td>110.093723</td>\n",
       "      <td>128211.373051</td>\n",
       "      <td>5.714641</td>\n",
       "    </tr>\n",
       "    <tr>\n",
       "      <th>std</th>\n",
       "      <td>4514.159690</td>\n",
       "      <td>90.228593</td>\n",
       "      <td>189.851590</td>\n",
       "      <td>37905.136957</td>\n",
       "      <td>3.726433</td>\n",
       "    </tr>\n",
       "    <tr>\n",
       "      <th>min</th>\n",
       "      <td>0.000000</td>\n",
       "      <td>1000.000000</td>\n",
       "      <td>0.000000</td>\n",
       "      <td>5000.000000</td>\n",
       "      <td>0.000000</td>\n",
       "    </tr>\n",
       "    <tr>\n",
       "      <th>25%</th>\n",
       "      <td>1050.000000</td>\n",
       "      <td>1999.000000</td>\n",
       "      <td>69.000000</td>\n",
       "      <td>125000.000000</td>\n",
       "      <td>3.000000</td>\n",
       "    </tr>\n",
       "    <tr>\n",
       "      <th>50%</th>\n",
       "      <td>2700.000000</td>\n",
       "      <td>2003.000000</td>\n",
       "      <td>105.000000</td>\n",
       "      <td>150000.000000</td>\n",
       "      <td>6.000000</td>\n",
       "    </tr>\n",
       "    <tr>\n",
       "      <th>75%</th>\n",
       "      <td>6400.000000</td>\n",
       "      <td>2008.000000</td>\n",
       "      <td>143.000000</td>\n",
       "      <td>150000.000000</td>\n",
       "      <td>9.000000</td>\n",
       "    </tr>\n",
       "    <tr>\n",
       "      <th>max</th>\n",
       "      <td>20000.000000</td>\n",
       "      <td>9999.000000</td>\n",
       "      <td>20000.000000</td>\n",
       "      <td>150000.000000</td>\n",
       "      <td>12.000000</td>\n",
       "    </tr>\n",
       "  </tbody>\n",
       "</table>\n",
       "</div>"
      ],
      "text/plain": [
       "               Price  RegistrationYear          Power      Kilometer  \\\n",
       "count  354364.000000     354364.000000  354364.000000  354364.000000   \n",
       "mean     4416.655608       2004.234471     110.093723  128211.373051   \n",
       "std      4514.159690         90.228593     189.851590   37905.136957   \n",
       "min         0.000000       1000.000000       0.000000    5000.000000   \n",
       "25%      1050.000000       1999.000000      69.000000  125000.000000   \n",
       "50%      2700.000000       2003.000000     105.000000  150000.000000   \n",
       "75%      6400.000000       2008.000000     143.000000  150000.000000   \n",
       "max     20000.000000       9999.000000   20000.000000  150000.000000   \n",
       "\n",
       "       RegistrationMonth  \n",
       "count      354364.000000  \n",
       "mean            5.714641  \n",
       "std             3.726433  \n",
       "min             0.000000  \n",
       "25%             3.000000  \n",
       "50%             6.000000  \n",
       "75%             9.000000  \n",
       "max            12.000000  "
      ]
     },
     "execution_count": 10,
     "metadata": {},
     "output_type": "execute_result"
    }
   ],
   "source": [
    "df.describe()"
   ]
  },
  {
   "cell_type": "markdown",
   "metadata": {},
   "source": [
    "Присутствуют аномальные значения в RegistrationYear. Попробуем заменить все значения меньше 1930 и выше 2022 на последние.  \n",
    "В RegistrationMonth есть нулевые значения. Заменим их 1.  \n",
    "В Power ограничим максимальное значение 3000. Так же в данном столбце необходимо избавиться от выбросов. \n",
    "В Price также присутствуют выбросы. "
   ]
  },
  {
   "cell_type": "code",
   "execution_count": 11,
   "metadata": {},
   "outputs": [],
   "source": [
    "def RegistrationYear(value):\n",
    "    if value > 2022:\n",
    "        return 2022\n",
    "    elif value < 1930:\n",
    "        return 1930\n",
    "    else:\n",
    "        return value\n",
    "df[\"RegistrationYear\"] = df[\"RegistrationYear\"].apply(RegistrationYear)\n",
    "\n",
    "df.loc[df['RegistrationMonth'] == 0, 'RegistrationMonth'] = 1\n",
    "\n",
    "df.loc[df['Power'] > 3000, 'Power'] = 3000"
   ]
  },
  {
   "cell_type": "markdown",
   "metadata": {},
   "source": [
    "Удалим все строки, которые зафиксируем как выбросы."
   ]
  },
  {
   "cell_type": "code",
   "execution_count": 12,
   "metadata": {},
   "outputs": [],
   "source": [
    "def drop_lines(df,column):\n",
    "    a = np.array(df[column].quantile(0.25))    \n",
    "    b = np.array(df[column].quantile(0.75))\n",
    "    c = a - 2 * (b - a)\n",
    "    d = b + 2 * (b - a)\n",
    "    index = []\n",
    "    for index_value, value in zip(df[column].index, df[column]):\n",
    "        if d <= value or value <= c:\n",
    "            index.append(index_value)\n",
    "    return index"
   ]
  },
  {
   "cell_type": "code",
   "execution_count": 13,
   "metadata": {},
   "outputs": [],
   "source": [
    "df = df.drop(drop_lines(df,\"Power\"),axis = 0)"
   ]
  },
  {
   "cell_type": "code",
   "execution_count": 14,
   "metadata": {},
   "outputs": [
    {
     "data": {
      "text/plain": [
       "count    350361.000000\n",
       "mean       4346.635276\n",
       "std        4448.162979\n",
       "min           0.000000\n",
       "25%        1000.000000\n",
       "50%        2699.000000\n",
       "75%        6200.000000\n",
       "max       20000.000000\n",
       "Name: Price, dtype: float64"
      ]
     },
     "execution_count": 14,
     "metadata": {},
     "output_type": "execute_result"
    },
    {
     "data": {
      "image/png": "[encoded data removed]",
      "text/plain": [
       "<Figure size 1200x900 with 1 Axes>"
      ]
     },
     "metadata": {},
     "output_type": "display_data"
    }
   ],
   "source": [
    "df['Price'].hist(bins=100, figsize=(12,9))\n",
    "df['Price'].describe()"
   ]
  },
  {
   "cell_type": "code",
   "execution_count": 15,
   "metadata": {},
   "outputs": [
    {
     "data": {
      "text/plain": [
       "0.05     200.0\n",
       "0.80    7499.0\n",
       "Name: Price, dtype: float64"
      ]
     },
     "execution_count": 15,
     "metadata": {},
     "output_type": "execute_result"
    }
   ],
   "source": [
    "df['Price'].quantile([.05, 0.8])"
   ]
  },
  {
   "cell_type": "code",
   "execution_count": 16,
   "metadata": {},
   "outputs": [],
   "source": [
    "df = df.query('350 <= Price')"
   ]
  },
  {
   "cell_type": "markdown",
   "metadata": {},
   "source": [
    "Проверим корреляцию."
   ]
  },
  {
   "cell_type": "code",
   "execution_count": 17,
   "metadata": {
    "scrolled": false
   },
   "outputs": [
    {
     "data": {
      "text/html": [
       "<div>\n",
       "<style scoped>\n",
       "    .dataframe tbody tr th:only-of-type {\n",
       "        vertical-align: middle;\n",
       "    }\n",
       "\n",
       "    .dataframe tbody tr th {\n",
       "        vertical-align: top;\n",
       "    }\n",
       "\n",
       "    .dataframe thead th {\n",
       "        text-align: right;\n",
       "    }\n",
       "</style>\n",
       "<table border=\"1\" class=\"dataframe\">\n",
       "  <thead>\n",
       "    <tr style=\"text-align: right;\">\n",
       "      <th></th>\n",
       "      <th>Price</th>\n",
       "      <th>RegistrationYear</th>\n",
       "      <th>Power</th>\n",
       "      <th>Kilometer</th>\n",
       "      <th>RegistrationMonth</th>\n",
       "    </tr>\n",
       "  </thead>\n",
       "  <tbody>\n",
       "    <tr>\n",
       "      <th>Price</th>\n",
       "      <td>1.000000</td>\n",
       "      <td>0.380777</td>\n",
       "      <td>0.458477</td>\n",
       "      <td>-0.380242</td>\n",
       "      <td>0.069337</td>\n",
       "    </tr>\n",
       "    <tr>\n",
       "      <th>RegistrationYear</th>\n",
       "      <td>0.380777</td>\n",
       "      <td>1.000000</td>\n",
       "      <td>0.101398</td>\n",
       "      <td>-0.201503</td>\n",
       "      <td>0.027802</td>\n",
       "    </tr>\n",
       "    <tr>\n",
       "      <th>Power</th>\n",
       "      <td>0.458477</td>\n",
       "      <td>0.101398</td>\n",
       "      <td>1.000000</td>\n",
       "      <td>0.080384</td>\n",
       "      <td>0.090204</td>\n",
       "    </tr>\n",
       "    <tr>\n",
       "      <th>Kilometer</th>\n",
       "      <td>-0.380242</td>\n",
       "      <td>-0.201503</td>\n",
       "      <td>0.080384</td>\n",
       "      <td>1.000000</td>\n",
       "      <td>-0.003322</td>\n",
       "    </tr>\n",
       "    <tr>\n",
       "      <th>RegistrationMonth</th>\n",
       "      <td>0.069337</td>\n",
       "      <td>0.027802</td>\n",
       "      <td>0.090204</td>\n",
       "      <td>-0.003322</td>\n",
       "      <td>1.000000</td>\n",
       "    </tr>\n",
       "  </tbody>\n",
       "</table>\n",
       "</div>"
      ],
      "text/plain": [
       "                      Price  RegistrationYear     Power  Kilometer  \\\n",
       "Price              1.000000          0.380777  0.458477  -0.380242   \n",
       "RegistrationYear   0.380777          1.000000  0.101398  -0.201503   \n",
       "Power              0.458477          0.101398  1.000000   0.080384   \n",
       "Kilometer         -0.380242         -0.201503  0.080384   1.000000   \n",
       "RegistrationMonth  0.069337          0.027802  0.090204  -0.003322   \n",
       "\n",
       "                   RegistrationMonth  \n",
       "Price                       0.069337  \n",
       "RegistrationYear            0.027802  \n",
       "Power                       0.090204  \n",
       "Kilometer                  -0.003322  \n",
       "RegistrationMonth           1.000000  "
      ]
     },
     "execution_count": 17,
     "metadata": {},
     "output_type": "execute_result"
    }
   ],
   "source": [
    "df.corr()"
   ]
  },
  {
   "cell_type": "markdown",
   "metadata": {},
   "source": [
    "**Вывод**  \n",
    "Провелась преобработка данных:\n",
    "- пропуски в данных быои заполнены модой;  \n",
    "- удалены дубликаты;    \n",
    "- удалены лишние столбцы;  \n",
    "- обработаны границы значений;  \n",
    "- устранены выбросы;  \n",
    "- проверена корреляция (самым коррелирующим значением с ценой является мощность).  "
   ]
  },
  {
   "cell_type": "markdown",
   "metadata": {},
   "source": [
    "## Работа с выборками"
   ]
  },
  {
   "cell_type": "markdown",
   "metadata": {},
   "source": [
    "Разделим целевой признак от остальных, подготовим признаки прямым кодированием и разделим данные на выборки."
   ]
  },
  {
   "cell_type": "code",
   "execution_count": 21,
   "metadata": {},
   "outputs": [],
   "source": [
    "original_features = df.drop('Price', axis=1)\n",
    "target = df['Price']\n",
    "\n",
    "features = pd.get_dummies(original_features, drop_first=True)"
   ]
  },
  {
   "cell_type": "code",
   "execution_count": 22,
   "metadata": {},
   "outputs": [],
   "source": [
    "original_features_train_1, original_features_other, target_train, target_other = train_test_split(\n",
    "    original_features, target, test_size=0.8, random_state=1234)"
   ]
  },
  {
   "cell_type": "code",
   "execution_count": 23,
   "metadata": {},
   "outputs": [],
   "source": [
    "features_train = features.loc[original_features_train_1.index, :]\n",
    "features_other = features.loc[original_features_other.index, :]"
   ]
  },
  {
   "cell_type": "code",
   "execution_count": 24,
   "metadata": {},
   "outputs": [],
   "source": [
    "original_features_train, original_features_valid, original_target_train, target_train_valid = train_test_split(\n",
    "    original_features_train_1, target_train,  test_size=0.75, random_state=1234)"
   ]
  },
  {
   "cell_type": "code",
   "execution_count": 25,
   "metadata": {},
   "outputs": [],
   "source": [
    "features_valid, features_test, target_valid, target_test = train_test_split(\n",
    "    features_other, target_other, test_size=0.5, random_state=1234)"
   ]
  },
  {
   "cell_type": "markdown",
   "metadata": {},
   "source": [
    "## Обучение моделей"
   ]
  },
  {
   "cell_type": "markdown",
   "metadata": {},
   "source": [
    "Модель дерева решений. В качестве гиперпараметра будем искать максимальную глубину. Так же зафиксируем средний RMSE."
   ]
  },
  {
   "cell_type": "code",
   "execution_count": 26,
   "metadata": {
    "scrolled": true
   },
   "outputs": [
    {
     "name": "stderr",
     "output_type": "stream",
     "text": [
      "/opt/anaconda3/lib/python3.9/site-packages/sklearn/tree/_classes.py:359: FutureWarning: Criterion 'mse' was deprecated in v1.0 and will be removed in version 1.2. Use `criterion='squared_error'` which is equivalent.\n",
      "  warnings.warn(\n",
      "/opt/anaconda3/lib/python3.9/site-packages/sklearn/tree/_classes.py:359: FutureWarning: Criterion 'mse' was deprecated in v1.0 and will be removed in version 1.2. Use `criterion='squared_error'` which is equivalent.\n",
      "  warnings.warn(\n",
      "/opt/anaconda3/lib/python3.9/site-packages/sklearn/tree/_classes.py:359: FutureWarning: Criterion 'mse' was deprecated in v1.0 and will be removed in version 1.2. Use `criterion='squared_error'` which is equivalent.\n",
      "  warnings.warn(\n",
      "/opt/anaconda3/lib/python3.9/site-packages/sklearn/tree/_classes.py:359: FutureWarning: Criterion 'mse' was deprecated in v1.0 and will be removed in version 1.2. Use `criterion='squared_error'` which is equivalent.\n",
      "  warnings.warn(\n",
      "/opt/anaconda3/lib/python3.9/site-packages/sklearn/tree/_classes.py:359: FutureWarning: Criterion 'mse' was deprecated in v1.0 and will be removed in version 1.2. Use `criterion='squared_error'` which is equivalent.\n",
      "  warnings.warn(\n",
      "/opt/anaconda3/lib/python3.9/site-packages/sklearn/tree/_classes.py:359: FutureWarning: Criterion 'mse' was deprecated in v1.0 and will be removed in version 1.2. Use `criterion='squared_error'` which is equivalent.\n",
      "  warnings.warn(\n",
      "/opt/anaconda3/lib/python3.9/site-packages/sklearn/tree/_classes.py:359: FutureWarning: Criterion 'mse' was deprecated in v1.0 and will be removed in version 1.2. Use `criterion='squared_error'` which is equivalent.\n",
      "  warnings.warn(\n",
      "/opt/anaconda3/lib/python3.9/site-packages/sklearn/tree/_classes.py:359: FutureWarning: Criterion 'mse' was deprecated in v1.0 and will be removed in version 1.2. Use `criterion='squared_error'` which is equivalent.\n",
      "  warnings.warn(\n",
      "/opt/anaconda3/lib/python3.9/site-packages/sklearn/tree/_classes.py:359: FutureWarning: Criterion 'mse' was deprecated in v1.0 and will be removed in version 1.2. Use `criterion='squared_error'` which is equivalent.\n",
      "  warnings.warn(\n",
      "/opt/anaconda3/lib/python3.9/site-packages/sklearn/tree/_classes.py:359: FutureWarning: Criterion 'mse' was deprecated in v1.0 and will be removed in version 1.2. Use `criterion='squared_error'` which is equivalent.\n",
      "  warnings.warn(\n",
      "/opt/anaconda3/lib/python3.9/site-packages/sklearn/tree/_classes.py:359: FutureWarning: Criterion 'mse' was deprecated in v1.0 and will be removed in version 1.2. Use `criterion='squared_error'` which is equivalent.\n",
      "  warnings.warn(\n",
      "/opt/anaconda3/lib/python3.9/site-packages/sklearn/tree/_classes.py:359: FutureWarning: Criterion 'mse' was deprecated in v1.0 and will be removed in version 1.2. Use `criterion='squared_error'` which is equivalent.\n",
      "  warnings.warn(\n",
      "/opt/anaconda3/lib/python3.9/site-packages/sklearn/tree/_classes.py:359: FutureWarning: Criterion 'mse' was deprecated in v1.0 and will be removed in version 1.2. Use `criterion='squared_error'` which is equivalent.\n",
      "  warnings.warn(\n",
      "/opt/anaconda3/lib/python3.9/site-packages/sklearn/tree/_classes.py:359: FutureWarning: Criterion 'mse' was deprecated in v1.0 and will be removed in version 1.2. Use `criterion='squared_error'` which is equivalent.\n",
      "  warnings.warn(\n",
      "/opt/anaconda3/lib/python3.9/site-packages/sklearn/tree/_classes.py:359: FutureWarning: Criterion 'mse' was deprecated in v1.0 and will be removed in version 1.2. Use `criterion='squared_error'` which is equivalent.\n",
      "  warnings.warn(\n",
      "/opt/anaconda3/lib/python3.9/site-packages/sklearn/tree/_classes.py:359: FutureWarning: Criterion 'mse' was deprecated in v1.0 and will be removed in version 1.2. Use `criterion='squared_error'` which is equivalent.\n",
      "  warnings.warn(\n",
      "/opt/anaconda3/lib/python3.9/site-packages/sklearn/tree/_classes.py:359: FutureWarning: Criterion 'mse' was deprecated in v1.0 and will be removed in version 1.2. Use `criterion='squared_error'` which is equivalent.\n",
      "  warnings.warn(\n",
      "/opt/anaconda3/lib/python3.9/site-packages/sklearn/tree/_classes.py:359: FutureWarning: Criterion 'mse' was deprecated in v1.0 and will be removed in version 1.2. Use `criterion='squared_error'` which is equivalent.\n",
      "  warnings.warn(\n",
      "/opt/anaconda3/lib/python3.9/site-packages/sklearn/tree/_classes.py:359: FutureWarning: Criterion 'mse' was deprecated in v1.0 and will be removed in version 1.2. Use `criterion='squared_error'` which is equivalent.\n",
      "  warnings.warn(\n",
      "/opt/anaconda3/lib/python3.9/site-packages/sklearn/tree/_classes.py:359: FutureWarning: Criterion 'mse' was deprecated in v1.0 and will be removed in version 1.2. Use `criterion='squared_error'` which is equivalent.\n",
      "  warnings.warn(\n",
      "/opt/anaconda3/lib/python3.9/site-packages/sklearn/tree/_classes.py:359: FutureWarning: Criterion 'mse' was deprecated in v1.0 and will be removed in version 1.2. Use `criterion='squared_error'` which is equivalent.\n",
      "  warnings.warn(\n",
      "/opt/anaconda3/lib/python3.9/site-packages/sklearn/tree/_classes.py:359: FutureWarning: Criterion 'mse' was deprecated in v1.0 and will be removed in version 1.2. Use `criterion='squared_error'` which is equivalent.\n",
      "  warnings.warn(\n",
      "/opt/anaconda3/lib/python3.9/site-packages/sklearn/tree/_classes.py:359: FutureWarning: Criterion 'mse' was deprecated in v1.0 and will be removed in version 1.2. Use `criterion='squared_error'` which is equivalent.\n",
      "  warnings.warn(\n",
      "/opt/anaconda3/lib/python3.9/site-packages/sklearn/tree/_classes.py:359: FutureWarning: Criterion 'mse' was deprecated in v1.0 and will be removed in version 1.2. Use `criterion='squared_error'` which is equivalent.\n",
      "  warnings.warn(\n",
      "/opt/anaconda3/lib/python3.9/site-packages/sklearn/tree/_classes.py:359: FutureWarning: Criterion 'mse' was deprecated in v1.0 and will be removed in version 1.2. Use `criterion='squared_error'` which is equivalent.\n",
      "  warnings.warn(\n",
      "/opt/anaconda3/lib/python3.9/site-packages/sklearn/tree/_classes.py:359: FutureWarning: Criterion 'mse' was deprecated in v1.0 and will be removed in version 1.2. Use `criterion='squared_error'` which is equivalent.\n",
      "  warnings.warn(\n",
      "/opt/anaconda3/lib/python3.9/site-packages/sklearn/tree/_classes.py:359: FutureWarning: Criterion 'mse' was deprecated in v1.0 and will be removed in version 1.2. Use `criterion='squared_error'` which is equivalent.\n",
      "  warnings.warn(\n",
      "/opt/anaconda3/lib/python3.9/site-packages/sklearn/tree/_classes.py:359: FutureWarning: Criterion 'mse' was deprecated in v1.0 and will be removed in version 1.2. Use `criterion='squared_error'` which is equivalent.\n",
      "  warnings.warn(\n",
      "/opt/anaconda3/lib/python3.9/site-packages/sklearn/tree/_classes.py:359: FutureWarning: Criterion 'mse' was deprecated in v1.0 and will be removed in version 1.2. Use `criterion='squared_error'` which is equivalent.\n",
      "  warnings.warn(\n",
      "/opt/anaconda3/lib/python3.9/site-packages/sklearn/tree/_classes.py:359: FutureWarning: Criterion 'mse' was deprecated in v1.0 and will be removed in version 1.2. Use `criterion='squared_error'` which is equivalent.\n",
      "  warnings.warn(\n",
      "/opt/anaconda3/lib/python3.9/site-packages/sklearn/tree/_classes.py:359: FutureWarning: Criterion 'mse' was deprecated in v1.0 and will be removed in version 1.2. Use `criterion='squared_error'` which is equivalent.\n",
      "  warnings.warn(\n",
      "/opt/anaconda3/lib/python3.9/site-packages/sklearn/tree/_classes.py:359: FutureWarning: Criterion 'mse' was deprecated in v1.0 and will be removed in version 1.2. Use `criterion='squared_error'` which is equivalent.\n",
      "  warnings.warn(\n",
      "/opt/anaconda3/lib/python3.9/site-packages/sklearn/tree/_classes.py:359: FutureWarning: Criterion 'mse' was deprecated in v1.0 and will be removed in version 1.2. Use `criterion='squared_error'` which is equivalent.\n",
      "  warnings.warn(\n",
      "/opt/anaconda3/lib/python3.9/site-packages/sklearn/tree/_classes.py:359: FutureWarning: Criterion 'mse' was deprecated in v1.0 and will be removed in version 1.2. Use `criterion='squared_error'` which is equivalent.\n",
      "  warnings.warn(\n",
      "/opt/anaconda3/lib/python3.9/site-packages/sklearn/tree/_classes.py:359: FutureWarning: Criterion 'mse' was deprecated in v1.0 and will be removed in version 1.2. Use `criterion='squared_error'` which is equivalent.\n",
      "  warnings.warn(\n",
      "/opt/anaconda3/lib/python3.9/site-packages/sklearn/tree/_classes.py:359: FutureWarning: Criterion 'mse' was deprecated in v1.0 and will be removed in version 1.2. Use `criterion='squared_error'` which is equivalent.\n",
      "  warnings.warn(\n",
      "/opt/anaconda3/lib/python3.9/site-packages/sklearn/tree/_classes.py:359: FutureWarning: Criterion 'mse' was deprecated in v1.0 and will be removed in version 1.2. Use `criterion='squared_error'` which is equivalent.\n",
      "  warnings.warn(\n",
      "/opt/anaconda3/lib/python3.9/site-packages/sklearn/tree/_classes.py:359: FutureWarning: Criterion 'mse' was deprecated in v1.0 and will be removed in version 1.2. Use `criterion='squared_error'` which is equivalent.\n",
      "  warnings.warn(\n"
     ]
    },
    {
     "name": "stderr",
     "output_type": "stream",
     "text": [
      "/opt/anaconda3/lib/python3.9/site-packages/sklearn/tree/_classes.py:359: FutureWarning: Criterion 'mse' was deprecated in v1.0 and will be removed in version 1.2. Use `criterion='squared_error'` which is equivalent.\n",
      "  warnings.warn(\n",
      "/opt/anaconda3/lib/python3.9/site-packages/sklearn/tree/_classes.py:359: FutureWarning: Criterion 'mse' was deprecated in v1.0 and will be removed in version 1.2. Use `criterion='squared_error'` which is equivalent.\n",
      "  warnings.warn(\n",
      "/opt/anaconda3/lib/python3.9/site-packages/sklearn/tree/_classes.py:359: FutureWarning: Criterion 'mse' was deprecated in v1.0 and will be removed in version 1.2. Use `criterion='squared_error'` which is equivalent.\n",
      "  warnings.warn(\n",
      "/opt/anaconda3/lib/python3.9/site-packages/sklearn/tree/_classes.py:359: FutureWarning: Criterion 'mse' was deprecated in v1.0 and will be removed in version 1.2. Use `criterion='squared_error'` which is equivalent.\n",
      "  warnings.warn(\n",
      "/opt/anaconda3/lib/python3.9/site-packages/sklearn/tree/_classes.py:359: FutureWarning: Criterion 'mse' was deprecated in v1.0 and will be removed in version 1.2. Use `criterion='squared_error'` which is equivalent.\n",
      "  warnings.warn(\n",
      "/opt/anaconda3/lib/python3.9/site-packages/sklearn/tree/_classes.py:359: FutureWarning: Criterion 'mse' was deprecated in v1.0 and will be removed in version 1.2. Use `criterion='squared_error'` which is equivalent.\n",
      "  warnings.warn(\n",
      "/opt/anaconda3/lib/python3.9/site-packages/sklearn/tree/_classes.py:359: FutureWarning: Criterion 'mse' was deprecated in v1.0 and will be removed in version 1.2. Use `criterion='squared_error'` which is equivalent.\n",
      "  warnings.warn(\n",
      "/opt/anaconda3/lib/python3.9/site-packages/sklearn/tree/_classes.py:359: FutureWarning: Criterion 'mse' was deprecated in v1.0 and will be removed in version 1.2. Use `criterion='squared_error'` which is equivalent.\n",
      "  warnings.warn(\n",
      "/opt/anaconda3/lib/python3.9/site-packages/sklearn/tree/_classes.py:359: FutureWarning: Criterion 'mse' was deprecated in v1.0 and will be removed in version 1.2. Use `criterion='squared_error'` which is equivalent.\n",
      "  warnings.warn(\n",
      "/opt/anaconda3/lib/python3.9/site-packages/sklearn/tree/_classes.py:359: FutureWarning: Criterion 'mse' was deprecated in v1.0 and will be removed in version 1.2. Use `criterion='squared_error'` which is equivalent.\n",
      "  warnings.warn(\n",
      "/opt/anaconda3/lib/python3.9/site-packages/sklearn/tree/_classes.py:359: FutureWarning: Criterion 'mse' was deprecated in v1.0 and will be removed in version 1.2. Use `criterion='squared_error'` which is equivalent.\n",
      "  warnings.warn(\n",
      "/opt/anaconda3/lib/python3.9/site-packages/sklearn/tree/_classes.py:359: FutureWarning: Criterion 'mse' was deprecated in v1.0 and will be removed in version 1.2. Use `criterion='squared_error'` which is equivalent.\n",
      "  warnings.warn(\n",
      "/opt/anaconda3/lib/python3.9/site-packages/sklearn/tree/_classes.py:359: FutureWarning: Criterion 'mse' was deprecated in v1.0 and will be removed in version 1.2. Use `criterion='squared_error'` which is equivalent.\n",
      "  warnings.warn(\n",
      "/opt/anaconda3/lib/python3.9/site-packages/sklearn/tree/_classes.py:359: FutureWarning: Criterion 'mse' was deprecated in v1.0 and will be removed in version 1.2. Use `criterion='squared_error'` which is equivalent.\n",
      "  warnings.warn(\n",
      "/opt/anaconda3/lib/python3.9/site-packages/sklearn/tree/_classes.py:359: FutureWarning: Criterion 'mse' was deprecated in v1.0 and will be removed in version 1.2. Use `criterion='squared_error'` which is equivalent.\n",
      "  warnings.warn(\n",
      "/opt/anaconda3/lib/python3.9/site-packages/sklearn/tree/_classes.py:359: FutureWarning: Criterion 'mse' was deprecated in v1.0 and will be removed in version 1.2. Use `criterion='squared_error'` which is equivalent.\n",
      "  warnings.warn(\n",
      "/opt/anaconda3/lib/python3.9/site-packages/sklearn/tree/_classes.py:359: FutureWarning: Criterion 'mse' was deprecated in v1.0 and will be removed in version 1.2. Use `criterion='squared_error'` which is equivalent.\n",
      "  warnings.warn(\n",
      "/opt/anaconda3/lib/python3.9/site-packages/sklearn/tree/_classes.py:359: FutureWarning: Criterion 'mse' was deprecated in v1.0 and will be removed in version 1.2. Use `criterion='squared_error'` which is equivalent.\n",
      "  warnings.warn(\n",
      "/opt/anaconda3/lib/python3.9/site-packages/sklearn/tree/_classes.py:359: FutureWarning: Criterion 'mse' was deprecated in v1.0 and will be removed in version 1.2. Use `criterion='squared_error'` which is equivalent.\n",
      "  warnings.warn(\n",
      "/opt/anaconda3/lib/python3.9/site-packages/sklearn/tree/_classes.py:359: FutureWarning: Criterion 'mse' was deprecated in v1.0 and will be removed in version 1.2. Use `criterion='squared_error'` which is equivalent.\n",
      "  warnings.warn(\n",
      "/opt/anaconda3/lib/python3.9/site-packages/sklearn/tree/_classes.py:359: FutureWarning: Criterion 'mse' was deprecated in v1.0 and will be removed in version 1.2. Use `criterion='squared_error'` which is equivalent.\n",
      "  warnings.warn(\n",
      "/opt/anaconda3/lib/python3.9/site-packages/sklearn/tree/_classes.py:359: FutureWarning: Criterion 'mse' was deprecated in v1.0 and will be removed in version 1.2. Use `criterion='squared_error'` which is equivalent.\n",
      "  warnings.warn(\n",
      "/opt/anaconda3/lib/python3.9/site-packages/sklearn/tree/_classes.py:359: FutureWarning: Criterion 'mse' was deprecated in v1.0 and will be removed in version 1.2. Use `criterion='squared_error'` which is equivalent.\n",
      "  warnings.warn(\n",
      "/opt/anaconda3/lib/python3.9/site-packages/sklearn/tree/_classes.py:359: FutureWarning: Criterion 'mse' was deprecated in v1.0 and will be removed in version 1.2. Use `criterion='squared_error'` which is equivalent.\n",
      "  warnings.warn(\n",
      "/opt/anaconda3/lib/python3.9/site-packages/sklearn/tree/_classes.py:359: FutureWarning: Criterion 'mse' was deprecated in v1.0 and will be removed in version 1.2. Use `criterion='squared_error'` which is equivalent.\n",
      "  warnings.warn(\n",
      "/opt/anaconda3/lib/python3.9/site-packages/sklearn/tree/_classes.py:359: FutureWarning: Criterion 'mse' was deprecated in v1.0 and will be removed in version 1.2. Use `criterion='squared_error'` which is equivalent.\n",
      "  warnings.warn(\n",
      "/opt/anaconda3/lib/python3.9/site-packages/sklearn/tree/_classes.py:359: FutureWarning: Criterion 'mse' was deprecated in v1.0 and will be removed in version 1.2. Use `criterion='squared_error'` which is equivalent.\n",
      "  warnings.warn(\n",
      "/opt/anaconda3/lib/python3.9/site-packages/sklearn/tree/_classes.py:359: FutureWarning: Criterion 'mse' was deprecated in v1.0 and will be removed in version 1.2. Use `criterion='squared_error'` which is equivalent.\n",
      "  warnings.warn(\n",
      "/opt/anaconda3/lib/python3.9/site-packages/sklearn/tree/_classes.py:359: FutureWarning: Criterion 'mse' was deprecated in v1.0 and will be removed in version 1.2. Use `criterion='squared_error'` which is equivalent.\n",
      "  warnings.warn(\n",
      "/opt/anaconda3/lib/python3.9/site-packages/sklearn/tree/_classes.py:359: FutureWarning: Criterion 'mse' was deprecated in v1.0 and will be removed in version 1.2. Use `criterion='squared_error'` which is equivalent.\n",
      "  warnings.warn(\n",
      "/opt/anaconda3/lib/python3.9/site-packages/sklearn/tree/_classes.py:359: FutureWarning: Criterion 'mse' was deprecated in v1.0 and will be removed in version 1.2. Use `criterion='squared_error'` which is equivalent.\n",
      "  warnings.warn(\n",
      "/opt/anaconda3/lib/python3.9/site-packages/sklearn/tree/_classes.py:359: FutureWarning: Criterion 'mse' was deprecated in v1.0 and will be removed in version 1.2. Use `criterion='squared_error'` which is equivalent.\n",
      "  warnings.warn(\n",
      "/opt/anaconda3/lib/python3.9/site-packages/sklearn/tree/_classes.py:359: FutureWarning: Criterion 'mse' was deprecated in v1.0 and will be removed in version 1.2. Use `criterion='squared_error'` which is equivalent.\n",
      "  warnings.warn(\n",
      "/opt/anaconda3/lib/python3.9/site-packages/sklearn/tree/_classes.py:359: FutureWarning: Criterion 'mse' was deprecated in v1.0 and will be removed in version 1.2. Use `criterion='squared_error'` which is equivalent.\n",
      "  warnings.warn(\n",
      "/opt/anaconda3/lib/python3.9/site-packages/sklearn/tree/_classes.py:359: FutureWarning: Criterion 'mse' was deprecated in v1.0 and will be removed in version 1.2. Use `criterion='squared_error'` which is equivalent.\n",
      "  warnings.warn(\n",
      "/opt/anaconda3/lib/python3.9/site-packages/sklearn/tree/_classes.py:359: FutureWarning: Criterion 'mse' was deprecated in v1.0 and will be removed in version 1.2. Use `criterion='squared_error'` which is equivalent.\n",
      "  warnings.warn(\n",
      "/opt/anaconda3/lib/python3.9/site-packages/sklearn/tree/_classes.py:359: FutureWarning: Criterion 'mse' was deprecated in v1.0 and will be removed in version 1.2. Use `criterion='squared_error'` which is equivalent.\n",
      "  warnings.warn(\n",
      "/opt/anaconda3/lib/python3.9/site-packages/sklearn/tree/_classes.py:359: FutureWarning: Criterion 'mse' was deprecated in v1.0 and will be removed in version 1.2. Use `criterion='squared_error'` which is equivalent.\n",
      "  warnings.warn(\n"
     ]
    },
    {
     "name": "stderr",
     "output_type": "stream",
     "text": [
      "/opt/anaconda3/lib/python3.9/site-packages/sklearn/tree/_classes.py:359: FutureWarning: Criterion 'mse' was deprecated in v1.0 and will be removed in version 1.2. Use `criterion='squared_error'` which is equivalent.\n",
      "  warnings.warn(\n",
      "/opt/anaconda3/lib/python3.9/site-packages/sklearn/tree/_classes.py:359: FutureWarning: Criterion 'mse' was deprecated in v1.0 and will be removed in version 1.2. Use `criterion='squared_error'` which is equivalent.\n",
      "  warnings.warn(\n",
      "/opt/anaconda3/lib/python3.9/site-packages/sklearn/tree/_classes.py:359: FutureWarning: Criterion 'mse' was deprecated in v1.0 and will be removed in version 1.2. Use `criterion='squared_error'` which is equivalent.\n",
      "  warnings.warn(\n",
      "/opt/anaconda3/lib/python3.9/site-packages/sklearn/tree/_classes.py:359: FutureWarning: Criterion 'mse' was deprecated in v1.0 and will be removed in version 1.2. Use `criterion='squared_error'` which is equivalent.\n",
      "  warnings.warn(\n",
      "/opt/anaconda3/lib/python3.9/site-packages/sklearn/tree/_classes.py:359: FutureWarning: Criterion 'mse' was deprecated in v1.0 and will be removed in version 1.2. Use `criterion='squared_error'` which is equivalent.\n",
      "  warnings.warn(\n",
      "/opt/anaconda3/lib/python3.9/site-packages/sklearn/tree/_classes.py:359: FutureWarning: Criterion 'mse' was deprecated in v1.0 and will be removed in version 1.2. Use `criterion='squared_error'` which is equivalent.\n",
      "  warnings.warn(\n",
      "/opt/anaconda3/lib/python3.9/site-packages/sklearn/tree/_classes.py:359: FutureWarning: Criterion 'mse' was deprecated in v1.0 and will be removed in version 1.2. Use `criterion='squared_error'` which is equivalent.\n",
      "  warnings.warn(\n",
      "/opt/anaconda3/lib/python3.9/site-packages/sklearn/tree/_classes.py:359: FutureWarning: Criterion 'mse' was deprecated in v1.0 and will be removed in version 1.2. Use `criterion='squared_error'` which is equivalent.\n",
      "  warnings.warn(\n",
      "/opt/anaconda3/lib/python3.9/site-packages/sklearn/tree/_classes.py:359: FutureWarning: Criterion 'mse' was deprecated in v1.0 and will be removed in version 1.2. Use `criterion='squared_error'` which is equivalent.\n",
      "  warnings.warn(\n",
      "/opt/anaconda3/lib/python3.9/site-packages/sklearn/tree/_classes.py:359: FutureWarning: Criterion 'mse' was deprecated in v1.0 and will be removed in version 1.2. Use `criterion='squared_error'` which is equivalent.\n",
      "  warnings.warn(\n",
      "/opt/anaconda3/lib/python3.9/site-packages/sklearn/tree/_classes.py:359: FutureWarning: Criterion 'mse' was deprecated in v1.0 and will be removed in version 1.2. Use `criterion='squared_error'` which is equivalent.\n",
      "  warnings.warn(\n",
      "/opt/anaconda3/lib/python3.9/site-packages/sklearn/tree/_classes.py:359: FutureWarning: Criterion 'mse' was deprecated in v1.0 and will be removed in version 1.2. Use `criterion='squared_error'` which is equivalent.\n",
      "  warnings.warn(\n"
     ]
    },
    {
     "name": "stdout",
     "output_type": "stream",
     "text": [
      "Best parameters:\n",
      "{'criterion': 'mse', 'max_depth': 9, 'random_state': 1234}\n",
      "RMSE: 2879.7182843238916\n",
      "CPU times: user 734 ms, sys: 386 ms, total: 1.12 s\n",
      "Wall time: 4.57 s\n"
     ]
    }
   ],
   "source": [
    "%%time\n",
    "\n",
    "model = DecisionTreeRegressor() \n",
    "max_depth = [x for x in range(2, 30)]\n",
    "params = [{'criterion':['mse'], \n",
    "                'max_depth':max_depth, \n",
    "                'random_state':[1234]}]\n",
    "\n",
    "clf = HalvingGridSearchCV(estimator=model, param_grid = params, cv = 2, n_jobs=-1 , scoring='neg_mean_squared_error')\n",
    "clf.fit(features_train, target_train)\n",
    "print(\"Best parameters:\")\n",
    "print(clf.best_params_)\n",
    "\n",
    "RMSE_DTR = ((clf.cv_results_['mean_test_score']).mean()*-1) ** 0.5\n",
    "print(\"RMSE:\", RMSE_DTR)"
   ]
  },
  {
   "cell_type": "markdown",
   "metadata": {},
   "source": [
    "Модель градиентного бустинга. В качестве гиперпараметра будем искать скорость обучения."
   ]
  },
  {
   "cell_type": "code",
   "execution_count": 27,
   "metadata": {
    "scrolled": true
   },
   "outputs": [
    {
     "name": "stdout",
     "output_type": "stream",
     "text": [
      "Best parameters:\n",
      "{'learning_rate': 0.2, 'random_state': 12345, 'verbose': False}\n",
      "RMSE: 1808.9016860566844\n",
      "CPU times: user 9.35 s, sys: 3.05 s, total: 12.4 s\n",
      "Wall time: 11.1 s\n"
     ]
    }
   ],
   "source": [
    "%%time\n",
    "\n",
    "model = CatBoostRegressor()\n",
    "params = [{'learning_rate':[0.1, 0.2, 0.5, 0.8],\n",
    "                'random_state':[12345],\n",
    "                'verbose':[False]}]\n",
    "clf = HalvingGridSearchCV(estimator=model, param_grid = params, cv = 2, n_jobs=-1 , scoring='neg_mean_squared_error')\n",
    "clf.fit(features_train, target_train)\n",
    "print(\"Best parameters:\")\n",
    "print(clf.best_params_)\n",
    "\n",
    "RMSE_CBR = ((clf.cv_results_['mean_test_score']).mean()*-1) ** 0.5\n",
    "print(\"RMSE:\", RMSE_CBR)"
   ]
  },
  {
   "cell_type": "markdown",
   "metadata": {},
   "source": [
    "Модель LightGBM. В качестве гиперпараметра будем искать скорость обучения."
   ]
  },
  {
   "cell_type": "code",
   "execution_count": 28,
   "metadata": {
    "scrolled": true
   },
   "outputs": [
    {
     "name": "stdout",
     "output_type": "stream",
     "text": [
      "Best parameters:\n",
      "{'learning_rate': 0.2, 'random_state': 1234}\n",
      "RMSE: 1826.914384004218\n",
      "CPU times: user 1.4 s, sys: 171 ms, total: 1.57 s\n",
      "Wall time: 3.17 s\n"
     ]
    }
   ],
   "source": [
    "%%time\n",
    "\n",
    "model = lgb.LGBMRegressor() \n",
    "params = [{'learning_rate':[0.1, 0.2, 0.5, 0.8],\n",
    "                'random_state':[1234]}]\n",
    "\n",
    "clf = HalvingGridSearchCV(estimator=model, param_grid =params, cv = 2, n_jobs=-1 , scoring='neg_mean_squared_error')\n",
    "clf.fit(features_train, target_train)\n",
    "\n",
    "print(\"Best parameters:\")\n",
    "print(clf.best_params_)\n",
    "\n",
    "RMSE_LGBM = ((clf.cv_results_['mean_test_score']).mean()*-1) ** 0.5\n",
    "print(\"RMSE:\", RMSE_LGBM)"
   ]
  },
  {
   "cell_type": "markdown",
   "metadata": {},
   "source": [
    "**Вывод**  \n",
    "По результатам обучающей выборки лучшей моделью является CatBoostRegressor с результатом RMSE в 1508.309. "
   ]
  },
  {
   "cell_type": "markdown",
   "metadata": {},
   "source": [
    "## Анализ моделей"
   ]
  },
  {
   "cell_type": "markdown",
   "metadata": {},
   "source": [
    "Модель решающего дерева."
   ]
  },
  {
   "cell_type": "code",
   "execution_count": 29,
   "metadata": {
    "scrolled": true
   },
   "outputs": [
    {
     "name": "stdout",
     "output_type": "stream",
     "text": [
      "CPU times: user 1.46 s, sys: 239 ms, total: 1.7 s\n",
      "Wall time: 517 ms\n"
     ]
    },
    {
     "data": {
      "text/plain": [
       "DecisionTreeRegressor(criterion='mse', max_depth=11, random_state=1234)"
      ]
     },
     "execution_count": 29,
     "metadata": {},
     "output_type": "execute_result"
    }
   ],
   "source": [
    "%%time\n",
    "\n",
    "model = DecisionTreeRegressor(criterion='mse', \n",
    "                              max_depth=11, \n",
    "                              random_state=1234) \n",
    "model.fit(features_train, target_train)"
   ]
  },
  {
   "cell_type": "code",
   "execution_count": 30,
   "metadata": {
    "scrolled": true
   },
   "outputs": [
    {
     "name": "stdout",
     "output_type": "stream",
     "text": [
      "CPU times: user 98.2 ms, sys: 163 ms, total: 262 ms\n",
      "Wall time: 334 ms\n"
     ]
    }
   ],
   "source": [
    "%%time\n",
    "\n",
    "target_predict = model.predict(features_valid)"
   ]
  },
  {
   "cell_type": "code",
   "execution_count": 31,
   "metadata": {},
   "outputs": [
    {
     "data": {
      "text/plain": [
       "2075.4338039955132"
      ]
     },
     "execution_count": 31,
     "metadata": {},
     "output_type": "execute_result"
    }
   ],
   "source": [
    "final_RMSE_DTR = mean_squared_error(target_valid, target_predict) ** 0.5   \n",
    "final_RMSE_DTR"
   ]
  },
  {
   "cell_type": "markdown",
   "metadata": {},
   "source": [
    "Модель градиентного бустинга на оригинальной выборке."
   ]
  },
  {
   "cell_type": "code",
   "execution_count": 32,
   "metadata": {
    "scrolled": true
   },
   "outputs": [
    {
     "name": "stdout",
     "output_type": "stream",
     "text": [
      "CPU times: user 13.4 s, sys: 3.55 s, total: 17 s\n",
      "Wall time: 3.64 s\n"
     ]
    },
    {
     "data": {
      "text/plain": [
       "<catboost.core.CatBoostRegressor at 0x7f8c4068e7c0>"
      ]
     },
     "execution_count": 32,
     "metadata": {},
     "output_type": "execute_result"
    }
   ],
   "source": [
    "%%time\n",
    "\n",
    "model = CatBoostRegressor(learning_rate=0.2, \n",
    "                          random_state=1234, \n",
    "                          verbose=False, \n",
    "                          cat_features=[\"VehicleType\",\"Gearbox\",\"Model\",\"FuelType\",\"Brand\",\"Repaired\"]) \n",
    "model.fit(original_features_train, original_target_train)"
   ]
  },
  {
   "cell_type": "code",
   "execution_count": 33,
   "metadata": {},
   "outputs": [
    {
     "name": "stdout",
     "output_type": "stream",
     "text": [
      "CPU times: user 323 ms, sys: 24.3 ms, total: 347 ms\n",
      "Wall time: 72.3 ms\n"
     ]
    }
   ],
   "source": [
    "%%time\n",
    "\n",
    "target_predict_original = model.predict(original_features_valid)"
   ]
  },
  {
   "cell_type": "code",
   "execution_count": 34,
   "metadata": {},
   "outputs": [
    {
     "data": {
      "text/plain": [
       "1770.2886330425026"
      ]
     },
     "execution_count": 34,
     "metadata": {},
     "output_type": "execute_result"
    }
   ],
   "source": [
    "final_RMSE_CBR_original = mean_squared_error(target_train_valid, target_predict_original) ** 0.5  \n",
    "final_RMSE_CBR_original"
   ]
  },
  {
   "cell_type": "markdown",
   "metadata": {},
   "source": [
    "Модель градиентного бустинга на закодированной выборке."
   ]
  },
  {
   "cell_type": "code",
   "execution_count": 35,
   "metadata": {},
   "outputs": [
    {
     "name": "stdout",
     "output_type": "stream",
     "text": [
      "CPU times: user 9.37 s, sys: 3.07 s, total: 12.4 s\n",
      "Wall time: 2.82 s\n"
     ]
    },
    {
     "data": {
      "text/plain": [
       "<catboost.core.CatBoostRegressor at 0x7f8c40686910>"
      ]
     },
     "execution_count": 35,
     "metadata": {},
     "output_type": "execute_result"
    }
   ],
   "source": [
    "%%time\n",
    "\n",
    "model = CatBoostRegressor(learning_rate=0.2, \n",
    "                          random_state=1234, \n",
    "                          verbose=False) \n",
    "model.fit(features_train, target_train)"
   ]
  },
  {
   "cell_type": "code",
   "execution_count": 36,
   "metadata": {},
   "outputs": [
    {
     "name": "stdout",
     "output_type": "stream",
     "text": [
      "CPU times: user 331 ms, sys: 27.1 ms, total: 358 ms\n",
      "Wall time: 80.1 ms\n"
     ]
    }
   ],
   "source": [
    "%%time\n",
    "\n",
    "target_predict = model.predict(features_valid)"
   ]
  },
  {
   "cell_type": "code",
   "execution_count": 37,
   "metadata": {
    "scrolled": false
   },
   "outputs": [
    {
     "data": {
      "text/plain": [
       "1661.2770640741828"
      ]
     },
     "execution_count": 37,
     "metadata": {},
     "output_type": "execute_result"
    }
   ],
   "source": [
    "final_RMSE_CBR = mean_squared_error(target_valid, target_predict) ** 0.5  \n",
    "final_RMSE_CBR"
   ]
  },
  {
   "cell_type": "markdown",
   "metadata": {},
   "source": [
    "Так как результаты не сильно отличаются, то в итоговый отчет будем включать только модель градиентного бустинга на закодированной выборке."
   ]
  },
  {
   "cell_type": "markdown",
   "metadata": {},
   "source": [
    "Модель LightGBM на закодированной выборке."
   ]
  },
  {
   "cell_type": "code",
   "execution_count": 38,
   "metadata": {},
   "outputs": [
    {
     "name": "stdout",
     "output_type": "stream",
     "text": [
      "CPU times: user 1.61 s, sys: 193 ms, total: 1.81 s\n",
      "Wall time: 375 ms\n"
     ]
    },
    {
     "data": {
      "text/plain": [
       "LGBMRegressor(learning_rate=0.2, random_state=1234)"
      ]
     },
     "execution_count": 38,
     "metadata": {},
     "output_type": "execute_result"
    }
   ],
   "source": [
    "%%time\n",
    "\n",
    "model = lgb.LGBMRegressor(learning_rate=0.2, \n",
    "                      random_state=1234)\n",
    "model.fit(features_train, target_train)"
   ]
  },
  {
   "cell_type": "code",
   "execution_count": 39,
   "metadata": {
    "scrolled": false
   },
   "outputs": [
    {
     "name": "stdout",
     "output_type": "stream",
     "text": [
      "CPU times: user 2.49 s, sys: 411 ms, total: 2.9 s\n",
      "Wall time: 471 ms\n"
     ]
    }
   ],
   "source": [
    "%%time\n",
    "\n",
    "target_predict = model.predict(features_valid)"
   ]
  },
  {
   "cell_type": "code",
   "execution_count": 40,
   "metadata": {},
   "outputs": [
    {
     "data": {
      "text/plain": [
       "1716.5917021562502"
      ]
     },
     "execution_count": 40,
     "metadata": {},
     "output_type": "execute_result"
    }
   ],
   "source": [
    "final_RMSE_LGBM = mean_squared_error(target_valid, target_predict) ** 0.5  \n",
    "final_RMSE_LGBM"
   ]
  },
  {
   "cell_type": "markdown",
   "metadata": {},
   "source": [
    "Соберем данные в таблицу."
   ]
  },
  {
   "cell_type": "code",
   "execution_count": 41,
   "metadata": {
    "scrolled": true
   },
   "outputs": [
    {
     "data": {
      "text/html": [
       "<div>\n",
       "<style scoped>\n",
       "    .dataframe tbody tr th:only-of-type {\n",
       "        vertical-align: middle;\n",
       "    }\n",
       "\n",
       "    .dataframe tbody tr th {\n",
       "        vertical-align: top;\n",
       "    }\n",
       "\n",
       "    .dataframe thead th {\n",
       "        text-align: right;\n",
       "    }\n",
       "</style>\n",
       "<table border=\"1\" class=\"dataframe\">\n",
       "  <thead>\n",
       "    <tr style=\"text-align: right;\">\n",
       "      <th></th>\n",
       "      <th>RMSE на обучающей выборке</th>\n",
       "      <th>Время обучения на обучающей выборке, сек</th>\n",
       "      <th>RMSE на валидационной выборке</th>\n",
       "      <th>Время обучения на валидационной выборке, сек</th>\n",
       "      <th>Время предсказания модели, мсек</th>\n",
       "      <th>Рейтинг RMSE</th>\n",
       "      <th>Рейтинг времени обучения</th>\n",
       "      <th>Рейтинг времени предсказания</th>\n",
       "      <th>Итоговый рейтинг</th>\n",
       "    </tr>\n",
       "  </thead>\n",
       "  <tbody>\n",
       "    <tr>\n",
       "      <th>DecisionTreeRegressor</th>\n",
       "      <td>2879.718284</td>\n",
       "      <td>9.12</td>\n",
       "      <td>2075.433804</td>\n",
       "      <td>1.940</td>\n",
       "      <td>96.9</td>\n",
       "      <td>0.628152</td>\n",
       "      <td>0.189175</td>\n",
       "      <td>0.788442</td>\n",
       "      <td>1.605769</td>\n",
       "    </tr>\n",
       "    <tr>\n",
       "      <th>CatBoostRegressor</th>\n",
       "      <td>1808.901686</td>\n",
       "      <td>21.90</td>\n",
       "      <td>1661.277064</td>\n",
       "      <td>2.930</td>\n",
       "      <td>76.4</td>\n",
       "      <td>1.000000</td>\n",
       "      <td>0.125256</td>\n",
       "      <td>1.000000</td>\n",
       "      <td>2.125256</td>\n",
       "    </tr>\n",
       "    <tr>\n",
       "      <th>LGBMRegressor</th>\n",
       "      <td>1826.914384</td>\n",
       "      <td>8.42</td>\n",
       "      <td>1716.591702</td>\n",
       "      <td>0.367</td>\n",
       "      <td>523.0</td>\n",
       "      <td>0.990140</td>\n",
       "      <td>1.000000</td>\n",
       "      <td>0.146080</td>\n",
       "      <td>2.136221</td>\n",
       "    </tr>\n",
       "  </tbody>\n",
       "</table>\n",
       "</div>"
      ],
      "text/plain": [
       "                       RMSE на обучающей выборке  \\\n",
       "DecisionTreeRegressor                2879.718284   \n",
       "CatBoostRegressor                    1808.901686   \n",
       "LGBMRegressor                        1826.914384   \n",
       "\n",
       "                       Время обучения на обучающей выборке, сек  \\\n",
       "DecisionTreeRegressor                                      9.12   \n",
       "CatBoostRegressor                                         21.90   \n",
       "LGBMRegressor                                              8.42   \n",
       "\n",
       "                       RMSE на валидационной выборке  \\\n",
       "DecisionTreeRegressor                    2075.433804   \n",
       "CatBoostRegressor                        1661.277064   \n",
       "LGBMRegressor                            1716.591702   \n",
       "\n",
       "                       Время обучения на валидационной выборке, сек  \\\n",
       "DecisionTreeRegressor                                         1.940   \n",
       "CatBoostRegressor                                             2.930   \n",
       "LGBMRegressor                                                 0.367   \n",
       "\n",
       "                       Время предсказания модели, мсек  Рейтинг RMSE  \\\n",
       "DecisionTreeRegressor                             96.9      0.628152   \n",
       "CatBoostRegressor                                 76.4      1.000000   \n",
       "LGBMRegressor                                    523.0      0.990140   \n",
       "\n",
       "                       Рейтинг времени обучения  Рейтинг времени предсказания  \\\n",
       "DecisionTreeRegressor                  0.189175                      0.788442   \n",
       "CatBoostRegressor                      0.125256                      1.000000   \n",
       "LGBMRegressor                          1.000000                      0.146080   \n",
       "\n",
       "                       Итоговый рейтинг  \n",
       "DecisionTreeRegressor          1.605769  \n",
       "CatBoostRegressor              2.125256  \n",
       "LGBMRegressor                  2.136221  "
      ]
     },
     "execution_count": 41,
     "metadata": {},
     "output_type": "execute_result"
    }
   ],
   "source": [
    "index = ['DecisionTreeRegressor',\n",
    "         'CatBoostRegressor',\n",
    "         'LGBMRegressor']\n",
    "data = {'RMSE на обучающей выборке':[RMSE_DTR, RMSE_CBR, RMSE_LGBM],\n",
    "        'Время обучения на обучающей выборке, сек':[9.12, 21.9, 8.42],\n",
    "        'RMSE на валидационной выборке':[final_RMSE_DTR, final_RMSE_CBR, final_RMSE_LGBM],\n",
    "        'Время обучения на валидационной выборке, сек':[1.94, 2.93, 0.367],\n",
    "        'Время предсказания модели, мсек':[96.9, 76.4, 523]}\n",
    "\n",
    "scores_data = pd.DataFrame(data=data, index=index)\n",
    "scores_data['Рейтинг RMSE'] = (scores_data['RMSE на обучающей выборке'].min() /\n",
    "                              scores_data['RMSE на обучающей выборке'])\n",
    "scores_data['Рейтинг времени обучения'] = (scores_data['Время обучения на валидационной выборке, сек'].min() / \n",
    "                              scores_data['Время обучения на валидационной выборке, сек'])\n",
    "scores_data['Рейтинг времени предсказания'] = (scores_data['Время предсказания модели, мсек'].min() / \n",
    "                              scores_data['Время предсказания модели, мсек'])\n",
    "scores_data['Итоговый рейтинг'] = (scores_data['Рейтинг RMSE'] +\n",
    "                                   scores_data['Рейтинг времени обучения'] + \n",
    "                                   scores_data['Рейтинг времени предсказания'])\n",
    "scores_data"
   ]
  },
  {
   "cell_type": "markdown",
   "metadata": {},
   "source": [
    "**Вывод**  \n",
    "Лучшей моделью по времени обучения является LGBMRegressor.  \n",
    "Лучшей моделью по времени предсказания является CatBoostRegressor.  \n",
    "Лучшей моделью по качеству предсказаний является CatBoostRegressor. \n",
    "\n",
    "Лидер по совокупности параметров:\n",
    "- Модель: CatBoostRegressor;  \n",
    "- Гиперпараметры: learning_rate=0.2,random_state=1234, verbose=False;   \n",
    "- RMSE на валидационной выборке: 1661.277064;  \n",
    "- Время обучения на валидационной выборке, сек: 2.930;  \n",
    "- Время предсказания модели, мсек: 76.4."
   ]
  },
  {
   "cell_type": "markdown",
   "metadata": {},
   "source": [
    "## Тестирование лучшей модели"
   ]
  },
  {
   "cell_type": "code",
   "execution_count": 42,
   "metadata": {},
   "outputs": [
    {
     "name": "stdout",
     "output_type": "stream",
     "text": [
      "CPU times: user 9.45 s, sys: 3.07 s, total: 12.5 s\n",
      "Wall time: 2.86 s\n"
     ]
    },
    {
     "data": {
      "text/plain": [
       "<catboost.core.CatBoostRegressor at 0x7f8c2012bbe0>"
      ]
     },
     "execution_count": 42,
     "metadata": {},
     "output_type": "execute_result"
    }
   ],
   "source": [
    "%%time\n",
    "\n",
    "model = CatBoostRegressor(learning_rate=0.2, \n",
    "                          random_state=1234, \n",
    "                          verbose=False) \n",
    "model.fit(features_train, target_train)"
   ]
  },
  {
   "cell_type": "code",
   "execution_count": 43,
   "metadata": {},
   "outputs": [
    {
     "name": "stdout",
     "output_type": "stream",
     "text": [
      "CPU times: user 359 ms, sys: 47.4 ms, total: 406 ms\n",
      "Wall time: 69.1 ms\n"
     ]
    }
   ],
   "source": [
    "%%time\n",
    "\n",
    "target_predict = model.predict(features_test)"
   ]
  },
  {
   "cell_type": "code",
   "execution_count": 44,
   "metadata": {},
   "outputs": [
    {
     "data": {
      "text/plain": [
       "1642.3484721466536"
      ]
     },
     "execution_count": 44,
     "metadata": {},
     "output_type": "execute_result"
    }
   ],
   "source": [
    "final_RMSE_CBR = mean_squared_error(target_test, target_predict) ** 0.5  \n",
    "final_RMSE_CBR"
   ]
  },
  {
   "cell_type": "markdown",
   "metadata": {},
   "source": [
    "## Вывод"
   ]
  },
  {
   "cell_type": "markdown",
   "metadata": {},
   "source": [
    "Итак, нашей итоговой моделью стал CatBoostRegressor с такими результатами:\n",
    "- Гиперпараметры: learning_rate=0.2,random_state=1234, verbose=False;   \n",
    "- RMSE на тестовой выборке: 1642.3484721466536;  \n",
    "- Время обучения, сек: 2.94;  \n",
    "- Время предсказания модели, мсек: 131.  "
   ]
  }
 ],
 "metadata": {
  "ExecuteTimeLog": [
   {
    "duration": 1588,
    "start_time": "2023-03-27T20:53:43.542Z"
   },
   {
    "duration": 3209,
    "start_time": "2023-03-27T20:53:45.493Z"
   },
   {
    "duration": 21,
    "start_time": "2023-03-27T20:53:56.280Z"
   },
   {
    "duration": 122,
    "start_time": "2023-03-27T20:54:12.049Z"
   },
   {
    "duration": 19,
    "start_time": "2023-03-27T20:58:24.721Z"
   },
   {
    "duration": 46,
    "start_time": "2023-03-27T20:58:32.540Z"
   },
   {
    "duration": 34,
    "start_time": "2023-03-27T20:58:54.785Z"
   },
   {
    "duration": 72,
    "start_time": "2023-03-27T20:59:07.236Z"
   },
   {
    "duration": 176,
    "start_time": "2023-03-27T20:59:24.771Z"
   },
   {
    "duration": 394,
    "start_time": "2023-03-27T20:59:48.894Z"
   },
   {
    "duration": 142,
    "start_time": "2023-03-27T21:00:03.590Z"
   },
   {
    "duration": 441,
    "start_time": "2023-03-27T21:00:10.889Z"
   },
   {
    "duration": 95,
    "start_time": "2023-03-27T21:01:11.826Z"
   },
   {
    "duration": 87,
    "start_time": "2023-03-27T21:02:35.137Z"
   },
   {
    "duration": 89,
    "start_time": "2023-03-27T21:02:38.898Z"
   },
   {
    "duration": 108,
    "start_time": "2023-03-27T21:14:41.100Z"
   },
   {
    "duration": 4,
    "start_time": "2023-03-27T21:14:46.938Z"
   },
   {
    "duration": 204,
    "start_time": "2023-03-27T21:15:33.276Z"
   },
   {
    "duration": 77,
    "start_time": "2023-03-27T21:15:47.388Z"
   },
   {
    "duration": 374,
    "start_time": "2023-03-27T21:18:35.689Z"
   },
   {
    "duration": 55,
    "start_time": "2023-03-27T21:18:41.962Z"
   },
   {
    "duration": 3,
    "start_time": "2023-03-27T21:19:28.596Z"
   },
   {
    "duration": 1841,
    "start_time": "2023-03-27T21:19:28.601Z"
   },
   {
    "duration": 16,
    "start_time": "2023-03-27T21:19:30.444Z"
   },
   {
    "duration": 134,
    "start_time": "2023-03-27T21:19:30.464Z"
   },
   {
    "duration": 170,
    "start_time": "2023-03-27T21:19:30.600Z"
   },
   {
    "duration": 350,
    "start_time": "2023-03-27T21:19:30.771Z"
   },
   {
    "duration": 367,
    "start_time": "2023-03-27T21:19:31.122Z"
   },
   {
    "duration": 80,
    "start_time": "2023-03-27T21:19:31.490Z"
   },
   {
    "duration": 61,
    "start_time": "2023-03-27T21:19:31.572Z"
   },
   {
    "duration": 120,
    "start_time": "2023-03-27T21:19:31.635Z"
   },
   {
    "duration": 5,
    "start_time": "2023-03-27T21:19:31.760Z"
   },
   {
    "duration": 444,
    "start_time": "2023-03-27T21:19:31.766Z"
   },
   {
    "duration": 67,
    "start_time": "2023-03-27T21:19:49.025Z"
   },
   {
    "duration": 39,
    "start_time": "2023-03-27T21:20:56.161Z"
   },
   {
    "duration": 1321,
    "start_time": "2023-03-27T21:30:55.673Z"
   },
   {
    "duration": 21,
    "start_time": "2023-03-27T21:30:57.481Z"
   },
   {
    "duration": 258,
    "start_time": "2023-03-27T21:31:16.593Z"
   },
   {
    "duration": 193,
    "start_time": "2023-03-27T21:46:24.474Z"
   },
   {
    "duration": 123,
    "start_time": "2023-03-27T21:46:26.557Z"
   },
   {
    "duration": 377,
    "start_time": "2023-03-27T21:46:28.647Z"
   },
   {
    "duration": 74,
    "start_time": "2023-03-27T21:46:30.861Z"
   },
   {
    "duration": 76,
    "start_time": "2023-03-27T21:48:22.914Z"
   },
   {
    "duration": 1499,
    "start_time": "2023-03-27T21:49:03.776Z"
   },
   {
    "duration": 1427,
    "start_time": "2023-03-27T21:49:52.035Z"
   },
   {
    "duration": 1428,
    "start_time": "2023-03-27T21:50:56.637Z"
   },
   {
    "duration": 2,
    "start_time": "2023-03-27T21:51:55.271Z"
   },
   {
    "duration": 1796,
    "start_time": "2023-03-27T21:51:55.275Z"
   },
   {
    "duration": 13,
    "start_time": "2023-03-27T21:51:57.073Z"
   },
   {
    "duration": 126,
    "start_time": "2023-03-27T21:51:57.088Z"
   },
   {
    "duration": 158,
    "start_time": "2023-03-27T21:51:57.216Z"
   },
   {
    "duration": 333,
    "start_time": "2023-03-27T21:51:57.375Z"
   },
   {
    "duration": 384,
    "start_time": "2023-03-27T21:51:57.709Z"
   },
   {
    "duration": 84,
    "start_time": "2023-03-27T21:51:58.094Z"
   },
   {
    "duration": 60,
    "start_time": "2023-03-27T21:51:58.180Z"
   },
   {
    "duration": 115,
    "start_time": "2023-03-27T21:51:58.251Z"
   },
   {
    "duration": 5,
    "start_time": "2023-03-27T21:51:58.367Z"
   },
   {
    "duration": 401,
    "start_time": "2023-03-27T21:51:58.374Z"
   },
   {
    "duration": 59,
    "start_time": "2023-03-27T21:51:58.776Z"
   },
   {
    "duration": 45,
    "start_time": "2023-03-27T21:51:58.837Z"
   },
   {
    "duration": 137,
    "start_time": "2023-03-27T21:51:58.884Z"
   },
   {
    "duration": 140,
    "start_time": "2023-03-27T21:51:59.022Z"
   },
   {
    "duration": 398,
    "start_time": "2023-03-27T21:51:59.164Z"
   },
   {
    "duration": 1717,
    "start_time": "2023-03-27T21:51:59.564Z"
   },
   {
    "duration": 55,
    "start_time": "2023-03-27T21:52:01.283Z"
   },
   {
    "duration": 6,
    "start_time": "2023-03-27T21:52:01.339Z"
   },
   {
    "duration": 0,
    "start_time": "2023-03-27T21:52:01.346Z"
   },
   {
    "duration": 0,
    "start_time": "2023-03-27T21:52:01.347Z"
   },
   {
    "duration": 0,
    "start_time": "2023-03-27T21:52:01.348Z"
   },
   {
    "duration": 0,
    "start_time": "2023-03-27T21:52:01.349Z"
   },
   {
    "duration": 0,
    "start_time": "2023-03-27T21:52:01.349Z"
   },
   {
    "duration": 1673,
    "start_time": "2023-03-27T21:59:15.165Z"
   },
   {
    "duration": 57,
    "start_time": "2023-03-27T22:04:51.490Z"
   },
   {
    "duration": 1281,
    "start_time": "2023-03-27T22:05:37.568Z"
   },
   {
    "duration": 1347,
    "start_time": "2023-03-27T22:05:39.157Z"
   },
   {
    "duration": 1378,
    "start_time": "2023-03-27T22:06:17.266Z"
   },
   {
    "duration": 2254,
    "start_time": "2023-03-27T22:08:57.117Z"
   },
   {
    "duration": 57,
    "start_time": "2023-03-27T22:10:33.563Z"
   },
   {
    "duration": 18,
    "start_time": "2023-03-27T22:11:44.692Z"
   },
   {
    "duration": 46,
    "start_time": "2023-03-27T22:15:58.961Z"
   },
   {
    "duration": 64,
    "start_time": "2023-03-27T22:17:15.562Z"
   },
   {
    "duration": 140,
    "start_time": "2023-03-27T22:17:27.698Z"
   },
   {
    "duration": 63,
    "start_time": "2023-03-27T22:17:29.420Z"
   },
   {
    "duration": 75,
    "start_time": "2023-03-27T22:17:54.066Z"
   },
   {
    "duration": 142,
    "start_time": "2023-03-27T22:18:27.787Z"
   },
   {
    "duration": 133,
    "start_time": "2023-03-27T22:18:29.916Z"
   },
   {
    "duration": 4,
    "start_time": "2023-03-27T22:18:37.225Z"
   },
   {
    "duration": 621,
    "start_time": "2023-03-27T22:18:37.231Z"
   },
   {
    "duration": 11,
    "start_time": "2023-03-27T22:18:37.853Z"
   },
   {
    "duration": 113,
    "start_time": "2023-03-27T22:18:37.866Z"
   },
   {
    "duration": 152,
    "start_time": "2023-03-27T22:18:37.981Z"
   },
   {
    "duration": 331,
    "start_time": "2023-03-27T22:18:38.135Z"
   },
   {
    "duration": 363,
    "start_time": "2023-03-27T22:18:38.468Z"
   },
   {
    "duration": 81,
    "start_time": "2023-03-27T22:18:38.833Z"
   },
   {
    "duration": 72,
    "start_time": "2023-03-27T22:18:38.916Z"
   },
   {
    "duration": 109,
    "start_time": "2023-03-27T22:18:38.989Z"
   },
   {
    "duration": 4,
    "start_time": "2023-03-27T22:18:39.099Z"
   },
   {
    "duration": 376,
    "start_time": "2023-03-27T22:18:39.104Z"
   },
   {
    "duration": 67,
    "start_time": "2023-03-27T22:18:39.481Z"
   },
   {
    "duration": 37,
    "start_time": "2023-03-27T22:18:39.551Z"
   },
   {
    "duration": 140,
    "start_time": "2023-03-27T22:18:39.589Z"
   },
   {
    "duration": 203,
    "start_time": "2023-03-27T22:18:39.730Z"
   },
   {
    "duration": 409,
    "start_time": "2023-03-27T22:18:39.935Z"
   },
   {
    "duration": 48,
    "start_time": "2023-03-27T22:18:40.345Z"
   },
   {
    "duration": 429,
    "start_time": "2023-03-27T22:18:40.395Z"
   },
   {
    "duration": 112,
    "start_time": "2023-03-27T22:18:40.826Z"
   },
   {
    "duration": 9,
    "start_time": "2023-03-27T22:18:40.940Z"
   },
   {
    "duration": 0,
    "start_time": "2023-03-27T22:18:40.951Z"
   },
   {
    "duration": 0,
    "start_time": "2023-03-27T22:18:40.952Z"
   },
   {
    "duration": 0,
    "start_time": "2023-03-27T22:18:40.954Z"
   },
   {
    "duration": 0,
    "start_time": "2023-03-27T22:18:40.955Z"
   },
   {
    "duration": 0,
    "start_time": "2023-03-27T22:18:40.956Z"
   },
   {
    "duration": 1345,
    "start_time": "2023-03-27T22:19:01.920Z"
   },
   {
    "duration": 60,
    "start_time": "2023-03-27T22:19:22.635Z"
   },
   {
    "duration": 57,
    "start_time": "2023-03-27T22:19:43.829Z"
   },
   {
    "duration": 1407,
    "start_time": "2023-03-27T22:22:18.032Z"
   },
   {
    "duration": 1880,
    "start_time": "2023-03-27T22:28:14.258Z"
   },
   {
    "duration": 49,
    "start_time": "2023-03-27T22:34:43.685Z"
   },
   {
    "duration": 0,
    "start_time": "2023-03-27T22:39:29.617Z"
   },
   {
    "duration": 0,
    "start_time": "2023-03-27T22:39:29.619Z"
   },
   {
    "duration": 0,
    "start_time": "2023-03-27T22:39:29.620Z"
   },
   {
    "duration": 0,
    "start_time": "2023-03-27T22:39:29.622Z"
   },
   {
    "duration": 0,
    "start_time": "2023-03-27T22:39:29.623Z"
   },
   {
    "duration": 0,
    "start_time": "2023-03-27T22:39:29.624Z"
   },
   {
    "duration": 0,
    "start_time": "2023-03-27T22:39:29.626Z"
   },
   {
    "duration": 0,
    "start_time": "2023-03-27T22:39:29.627Z"
   },
   {
    "duration": 0,
    "start_time": "2023-03-27T22:39:29.628Z"
   },
   {
    "duration": 0,
    "start_time": "2023-03-27T22:39:29.630Z"
   },
   {
    "duration": 0,
    "start_time": "2023-03-27T22:39:29.632Z"
   },
   {
    "duration": 1,
    "start_time": "2023-03-27T22:39:29.632Z"
   },
   {
    "duration": 0,
    "start_time": "2023-03-27T22:39:29.634Z"
   },
   {
    "duration": 0,
    "start_time": "2023-03-27T22:39:29.635Z"
   },
   {
    "duration": 0,
    "start_time": "2023-03-27T22:39:29.636Z"
   },
   {
    "duration": 0,
    "start_time": "2023-03-27T22:39:29.637Z"
   },
   {
    "duration": 0,
    "start_time": "2023-03-27T22:39:29.639Z"
   },
   {
    "duration": 0,
    "start_time": "2023-03-27T22:39:29.648Z"
   },
   {
    "duration": 0,
    "start_time": "2023-03-27T22:39:29.650Z"
   },
   {
    "duration": 0,
    "start_time": "2023-03-27T22:39:29.651Z"
   },
   {
    "duration": 0,
    "start_time": "2023-03-27T22:39:29.652Z"
   },
   {
    "duration": 0,
    "start_time": "2023-03-27T22:39:29.653Z"
   },
   {
    "duration": 0,
    "start_time": "2023-03-27T22:39:29.654Z"
   },
   {
    "duration": 0,
    "start_time": "2023-03-27T22:39:29.656Z"
   },
   {
    "duration": 0,
    "start_time": "2023-03-27T22:39:29.657Z"
   },
   {
    "duration": 0,
    "start_time": "2023-03-27T22:39:29.658Z"
   },
   {
    "duration": 3,
    "start_time": "2023-03-27T22:41:26.095Z"
   },
   {
    "duration": 650,
    "start_time": "2023-03-27T22:41:26.100Z"
   },
   {
    "duration": 10,
    "start_time": "2023-03-27T22:41:26.752Z"
   },
   {
    "duration": 117,
    "start_time": "2023-03-27T22:41:26.764Z"
   },
   {
    "duration": 156,
    "start_time": "2023-03-27T22:41:26.882Z"
   },
   {
    "duration": 326,
    "start_time": "2023-03-27T22:41:27.040Z"
   },
   {
    "duration": 350,
    "start_time": "2023-03-27T22:41:27.368Z"
   },
   {
    "duration": 81,
    "start_time": "2023-03-27T22:41:27.720Z"
   },
   {
    "duration": 64,
    "start_time": "2023-03-27T22:41:27.802Z"
   },
   {
    "duration": 107,
    "start_time": "2023-03-27T22:41:27.868Z"
   },
   {
    "duration": 3,
    "start_time": "2023-03-27T22:41:27.976Z"
   },
   {
    "duration": 385,
    "start_time": "2023-03-27T22:41:27.981Z"
   },
   {
    "duration": 59,
    "start_time": "2023-03-27T22:41:28.368Z"
   },
   {
    "duration": 51,
    "start_time": "2023-03-27T22:41:28.430Z"
   },
   {
    "duration": 133,
    "start_time": "2023-03-27T22:41:28.483Z"
   },
   {
    "duration": 130,
    "start_time": "2023-03-27T22:41:28.618Z"
   },
   {
    "duration": 375,
    "start_time": "2023-03-27T22:41:28.750Z"
   },
   {
    "duration": 49,
    "start_time": "2023-03-27T22:41:29.126Z"
   },
   {
    "duration": 54,
    "start_time": "2023-03-27T22:43:05.289Z"
   },
   {
    "duration": 9,
    "start_time": "2023-03-27T22:43:05.345Z"
   },
   {
    "duration": 0,
    "start_time": "2023-03-27T22:43:05.355Z"
   },
   {
    "duration": 0,
    "start_time": "2023-03-27T22:43:05.357Z"
   },
   {
    "duration": 0,
    "start_time": "2023-03-27T22:43:05.358Z"
   },
   {
    "duration": 0,
    "start_time": "2023-03-27T22:43:05.359Z"
   },
   {
    "duration": 0,
    "start_time": "2023-03-27T22:43:05.360Z"
   },
   {
    "duration": 0,
    "start_time": "2023-03-27T22:43:05.361Z"
   },
   {
    "duration": 9412,
    "start_time": "2023-03-27T22:43:06.164Z"
   },
   {
    "duration": 1655,
    "start_time": "2023-03-28T18:29:04.421Z"
   },
   {
    "duration": 2829,
    "start_time": "2023-03-28T18:29:06.079Z"
   },
   {
    "duration": 17,
    "start_time": "2023-03-28T18:29:08.910Z"
   },
   {
    "duration": 139,
    "start_time": "2023-03-28T18:29:08.929Z"
   },
   {
    "duration": 231,
    "start_time": "2023-03-28T18:29:09.070Z"
   },
   {
    "duration": 469,
    "start_time": "2023-03-28T18:29:09.304Z"
   },
   {
    "duration": 504,
    "start_time": "2023-03-28T18:29:09.775Z"
   },
   {
    "duration": 84,
    "start_time": "2023-03-28T18:29:10.280Z"
   },
   {
    "duration": 81,
    "start_time": "2023-03-28T18:29:10.366Z"
   },
   {
    "duration": 133,
    "start_time": "2023-03-28T18:29:10.448Z"
   },
   {
    "duration": 4,
    "start_time": "2023-03-28T18:29:10.583Z"
   },
   {
    "duration": 456,
    "start_time": "2023-03-28T18:29:10.589Z"
   },
   {
    "duration": 75,
    "start_time": "2023-03-28T18:29:11.047Z"
   },
   {
    "duration": 39,
    "start_time": "2023-03-28T18:29:11.124Z"
   },
   {
    "duration": 141,
    "start_time": "2023-03-28T18:29:11.165Z"
   },
   {
    "duration": 0,
    "start_time": "2023-03-28T18:29:11.308Z"
   },
   {
    "duration": 0,
    "start_time": "2023-03-28T18:29:11.309Z"
   },
   {
    "duration": 0,
    "start_time": "2023-03-28T18:29:11.317Z"
   },
   {
    "duration": 0,
    "start_time": "2023-03-28T18:29:11.318Z"
   },
   {
    "duration": 0,
    "start_time": "2023-03-28T18:29:11.320Z"
   },
   {
    "duration": 0,
    "start_time": "2023-03-28T18:29:11.321Z"
   },
   {
    "duration": 0,
    "start_time": "2023-03-28T18:29:11.322Z"
   },
   {
    "duration": 0,
    "start_time": "2023-03-28T18:29:11.323Z"
   },
   {
    "duration": 0,
    "start_time": "2023-03-28T18:29:11.324Z"
   },
   {
    "duration": 0,
    "start_time": "2023-03-28T18:29:11.325Z"
   },
   {
    "duration": 954,
    "start_time": "2023-03-28T18:30:38.759Z"
   },
   {
    "duration": 161,
    "start_time": "2023-03-28T18:30:40.802Z"
   },
   {
    "duration": 687,
    "start_time": "2023-03-28T18:30:41.409Z"
   },
   {
    "duration": 9720,
    "start_time": "2023-03-28T18:31:25.131Z"
   },
   {
    "duration": 1396,
    "start_time": "2023-03-28T18:33:49.936Z"
   },
   {
    "duration": 4,
    "start_time": "2023-03-28T18:35:54.803Z"
   },
   {
    "duration": 887,
    "start_time": "2023-03-28T18:35:54.809Z"
   },
   {
    "duration": 24,
    "start_time": "2023-03-28T18:35:55.698Z"
   },
   {
    "duration": 151,
    "start_time": "2023-03-28T18:35:55.724Z"
   },
   {
    "duration": 178,
    "start_time": "2023-03-28T18:35:55.877Z"
   },
   {
    "duration": 422,
    "start_time": "2023-03-28T18:35:56.057Z"
   },
   {
    "duration": 435,
    "start_time": "2023-03-28T18:35:56.481Z"
   },
   {
    "duration": 82,
    "start_time": "2023-03-28T18:35:56.918Z"
   },
   {
    "duration": 78,
    "start_time": "2023-03-28T18:35:57.002Z"
   },
   {
    "duration": 157,
    "start_time": "2023-03-28T18:35:57.082Z"
   },
   {
    "duration": 6,
    "start_time": "2023-03-28T18:35:57.242Z"
   },
   {
    "duration": 473,
    "start_time": "2023-03-28T18:35:57.250Z"
   },
   {
    "duration": 69,
    "start_time": "2023-03-28T18:35:57.725Z"
   },
   {
    "duration": 57,
    "start_time": "2023-03-28T18:35:57.798Z"
   },
   {
    "duration": 802,
    "start_time": "2023-03-28T18:35:57.857Z"
   },
   {
    "duration": 153,
    "start_time": "2023-03-28T18:35:58.661Z"
   },
   {
    "duration": 673,
    "start_time": "2023-03-28T18:35:58.817Z"
   },
   {
    "duration": 9489,
    "start_time": "2023-03-28T18:35:59.492Z"
   },
   {
    "duration": 57,
    "start_time": "2023-03-28T18:36:08.984Z"
   },
   {
    "duration": 10,
    "start_time": "2023-03-28T18:36:09.043Z"
   },
   {
    "duration": 0,
    "start_time": "2023-03-28T18:36:09.054Z"
   },
   {
    "duration": 0,
    "start_time": "2023-03-28T18:36:09.055Z"
   },
   {
    "duration": 0,
    "start_time": "2023-03-28T18:36:09.058Z"
   },
   {
    "duration": 0,
    "start_time": "2023-03-28T18:36:09.059Z"
   },
   {
    "duration": 0,
    "start_time": "2023-03-28T18:36:09.061Z"
   },
   {
    "duration": 5,
    "start_time": "2023-03-28T18:42:40.393Z"
   },
   {
    "duration": 774,
    "start_time": "2023-03-28T18:42:40.401Z"
   },
   {
    "duration": 18,
    "start_time": "2023-03-28T18:42:41.177Z"
   },
   {
    "duration": 199,
    "start_time": "2023-03-28T18:42:41.197Z"
   },
   {
    "duration": 172,
    "start_time": "2023-03-28T18:42:41.399Z"
   },
   {
    "duration": 447,
    "start_time": "2023-03-28T18:42:41.572Z"
   },
   {
    "duration": 496,
    "start_time": "2023-03-28T18:42:42.021Z"
   },
   {
    "duration": 113,
    "start_time": "2023-03-28T18:42:42.519Z"
   },
   {
    "duration": 109,
    "start_time": "2023-03-28T18:42:42.635Z"
   },
   {
    "duration": 224,
    "start_time": "2023-03-28T18:42:42.748Z"
   },
   {
    "duration": 5,
    "start_time": "2023-03-28T18:42:42.974Z"
   },
   {
    "duration": 501,
    "start_time": "2023-03-28T18:42:42.981Z"
   },
   {
    "duration": 76,
    "start_time": "2023-03-28T18:42:43.483Z"
   },
   {
    "duration": 58,
    "start_time": "2023-03-28T18:42:43.561Z"
   },
   {
    "duration": 857,
    "start_time": "2023-03-28T18:42:43.621Z"
   },
   {
    "duration": 151,
    "start_time": "2023-03-28T18:42:44.480Z"
   },
   {
    "duration": 641,
    "start_time": "2023-03-28T18:42:44.634Z"
   },
   {
    "duration": 9855,
    "start_time": "2023-03-28T18:42:45.277Z"
   },
   {
    "duration": 58,
    "start_time": "2023-03-28T18:42:55.134Z"
   },
   {
    "duration": 12,
    "start_time": "2023-03-28T18:42:55.194Z"
   },
   {
    "duration": 0,
    "start_time": "2023-03-28T18:42:55.208Z"
   },
   {
    "duration": 0,
    "start_time": "2023-03-28T18:42:55.210Z"
   },
   {
    "duration": 0,
    "start_time": "2023-03-28T18:42:55.211Z"
   },
   {
    "duration": 0,
    "start_time": "2023-03-28T18:42:55.213Z"
   },
   {
    "duration": 0,
    "start_time": "2023-03-28T18:42:55.214Z"
   },
   {
    "duration": 5330,
    "start_time": "2023-03-28T18:54:38.140Z"
   },
   {
    "duration": 5,
    "start_time": "2023-03-28T19:04:26.265Z"
   },
   {
    "duration": 850,
    "start_time": "2023-03-28T19:04:26.273Z"
   },
   {
    "duration": 15,
    "start_time": "2023-03-28T19:04:27.125Z"
   },
   {
    "duration": 164,
    "start_time": "2023-03-28T19:04:27.143Z"
   },
   {
    "duration": 174,
    "start_time": "2023-03-28T19:04:27.309Z"
   },
   {
    "duration": 407,
    "start_time": "2023-03-28T19:04:27.484Z"
   },
   {
    "duration": 431,
    "start_time": "2023-03-28T19:04:27.892Z"
   },
   {
    "duration": 92,
    "start_time": "2023-03-28T19:04:28.325Z"
   },
   {
    "duration": 71,
    "start_time": "2023-03-28T19:04:28.421Z"
   },
   {
    "duration": 195,
    "start_time": "2023-03-28T19:04:28.494Z"
   },
   {
    "duration": 4,
    "start_time": "2023-03-28T19:04:28.691Z"
   },
   {
    "duration": 472,
    "start_time": "2023-03-28T19:04:28.697Z"
   },
   {
    "duration": 81,
    "start_time": "2023-03-28T19:04:29.171Z"
   },
   {
    "duration": 79,
    "start_time": "2023-03-28T19:04:29.254Z"
   },
   {
    "duration": 26,
    "start_time": "2023-03-28T19:04:29.336Z"
   },
   {
    "duration": 0,
    "start_time": "2023-03-28T19:04:29.364Z"
   },
   {
    "duration": 0,
    "start_time": "2023-03-28T19:04:29.366Z"
   },
   {
    "duration": 58,
    "start_time": "2023-03-28T19:04:46.740Z"
   },
   {
    "duration": 3,
    "start_time": "2023-03-28T19:06:06.188Z"
   },
   {
    "duration": 782,
    "start_time": "2023-03-28T19:06:06.193Z"
   },
   {
    "duration": 14,
    "start_time": "2023-03-28T19:06:06.977Z"
   },
   {
    "duration": 147,
    "start_time": "2023-03-28T19:06:06.992Z"
   },
   {
    "duration": 201,
    "start_time": "2023-03-28T19:06:07.142Z"
   },
   {
    "duration": 383,
    "start_time": "2023-03-28T19:06:07.344Z"
   },
   {
    "duration": 411,
    "start_time": "2023-03-28T19:06:07.729Z"
   },
   {
    "duration": 92,
    "start_time": "2023-03-28T19:06:08.142Z"
   },
   {
    "duration": 68,
    "start_time": "2023-03-28T19:06:08.235Z"
   },
   {
    "duration": 159,
    "start_time": "2023-03-28T19:06:08.305Z"
   },
   {
    "duration": 5,
    "start_time": "2023-03-28T19:06:08.466Z"
   },
   {
    "duration": 420,
    "start_time": "2023-03-28T19:06:08.472Z"
   },
   {
    "duration": 68,
    "start_time": "2023-03-28T19:06:08.893Z"
   },
   {
    "duration": 38,
    "start_time": "2023-03-28T19:06:08.964Z"
   },
   {
    "duration": 36,
    "start_time": "2023-03-28T19:06:09.003Z"
   },
   {
    "duration": 0,
    "start_time": "2023-03-28T19:06:09.040Z"
   },
   {
    "duration": 0,
    "start_time": "2023-03-28T19:06:09.042Z"
   },
   {
    "duration": 0,
    "start_time": "2023-03-28T19:06:09.043Z"
   },
   {
    "duration": 0,
    "start_time": "2023-03-28T19:06:09.044Z"
   },
   {
    "duration": 0,
    "start_time": "2023-03-28T19:06:09.045Z"
   },
   {
    "duration": 0,
    "start_time": "2023-03-28T19:06:09.046Z"
   },
   {
    "duration": 0,
    "start_time": "2023-03-28T19:06:09.048Z"
   },
   {
    "duration": 0,
    "start_time": "2023-03-28T19:06:09.049Z"
   },
   {
    "duration": 0,
    "start_time": "2023-03-28T19:06:09.050Z"
   },
   {
    "duration": 0,
    "start_time": "2023-03-28T19:06:09.050Z"
   },
   {
    "duration": 5,
    "start_time": "2023-03-28T19:06:31.883Z"
   },
   {
    "duration": 870,
    "start_time": "2023-03-28T19:06:31.890Z"
   },
   {
    "duration": 13,
    "start_time": "2023-03-28T19:06:32.762Z"
   },
   {
    "duration": 162,
    "start_time": "2023-03-28T19:06:32.777Z"
   },
   {
    "duration": 185,
    "start_time": "2023-03-28T19:06:32.942Z"
   },
   {
    "duration": 395,
    "start_time": "2023-03-28T19:06:33.129Z"
   },
   {
    "duration": 437,
    "start_time": "2023-03-28T19:06:33.526Z"
   },
   {
    "duration": 89,
    "start_time": "2023-03-28T19:06:33.965Z"
   },
   {
    "duration": 80,
    "start_time": "2023-03-28T19:06:34.056Z"
   },
   {
    "duration": 149,
    "start_time": "2023-03-28T19:06:34.138Z"
   },
   {
    "duration": 5,
    "start_time": "2023-03-28T19:06:34.289Z"
   },
   {
    "duration": 468,
    "start_time": "2023-03-28T19:06:34.296Z"
   },
   {
    "duration": 79,
    "start_time": "2023-03-28T19:06:34.765Z"
   },
   {
    "duration": 46,
    "start_time": "2023-03-28T19:06:34.848Z"
   },
   {
    "duration": 890,
    "start_time": "2023-03-28T19:06:34.896Z"
   },
   {
    "duration": 81,
    "start_time": "2023-03-28T19:06:35.788Z"
   },
   {
    "duration": 0,
    "start_time": "2023-03-28T19:06:35.871Z"
   },
   {
    "duration": 0,
    "start_time": "2023-03-28T19:06:35.872Z"
   },
   {
    "duration": 0,
    "start_time": "2023-03-28T19:06:35.873Z"
   },
   {
    "duration": 0,
    "start_time": "2023-03-28T19:06:35.874Z"
   },
   {
    "duration": 0,
    "start_time": "2023-03-28T19:06:35.875Z"
   },
   {
    "duration": 0,
    "start_time": "2023-03-28T19:06:35.877Z"
   },
   {
    "duration": 0,
    "start_time": "2023-03-28T19:06:35.879Z"
   },
   {
    "duration": 0,
    "start_time": "2023-03-28T19:06:35.880Z"
   },
   {
    "duration": 0,
    "start_time": "2023-03-28T19:06:35.881Z"
   },
   {
    "duration": 474,
    "start_time": "2023-03-28T19:07:29.690Z"
   },
   {
    "duration": 733836,
    "start_time": "2023-03-28T19:07:32.980Z"
   },
   {
    "duration": 88,
    "start_time": "2023-03-28T19:20:07.554Z"
   },
   {
    "duration": 16,
    "start_time": "2023-03-28T19:20:13.799Z"
   },
   {
    "duration": 12,
    "start_time": "2023-03-28T19:20:55.093Z"
   },
   {
    "duration": 11,
    "start_time": "2023-03-28T19:22:04.904Z"
   },
   {
    "duration": 11,
    "start_time": "2023-03-28T19:22:15.134Z"
   },
   {
    "duration": 6,
    "start_time": "2023-03-28T19:22:22.747Z"
   },
   {
    "duration": 4,
    "start_time": "2023-03-28T19:22:40.810Z"
   },
   {
    "duration": 5,
    "start_time": "2023-03-28T19:22:45.107Z"
   },
   {
    "duration": 113491,
    "start_time": "2023-03-28T19:22:51.260Z"
   },
   {
    "duration": 96710,
    "start_time": "2023-03-28T19:36:35.832Z"
   },
   {
    "duration": 4,
    "start_time": "2023-03-28T19:40:23.768Z"
   },
   {
    "duration": 62,
    "start_time": "2023-03-28T19:49:15.106Z"
   },
   {
    "duration": 120972,
    "start_time": "2023-03-28T19:49:19.481Z"
   },
   {
    "duration": 56,
    "start_time": "2023-03-28T19:51:58.884Z"
   },
   {
    "duration": 55,
    "start_time": "2023-03-28T19:54:04.782Z"
   },
   {
    "duration": 5,
    "start_time": "2023-03-28T19:56:06.965Z"
   },
   {
    "duration": 6,
    "start_time": "2023-03-28T19:56:08.074Z"
   },
   {
    "duration": 785,
    "start_time": "2023-03-28T19:56:18.936Z"
   },
   {
    "duration": 811,
    "start_time": "2023-03-28T19:57:02.220Z"
   },
   {
    "duration": 356,
    "start_time": "2023-03-28T19:57:28.118Z"
   },
   {
    "duration": 68,
    "start_time": "2023-03-28T19:59:25.422Z"
   },
   {
    "duration": 357,
    "start_time": "2023-03-28T19:59:31.598Z"
   },
   {
    "duration": 380,
    "start_time": "2023-03-28T19:59:51.103Z"
   },
   {
    "duration": 339,
    "start_time": "2023-03-28T20:00:39.851Z"
   },
   {
    "duration": 369,
    "start_time": "2023-03-28T20:00:42.394Z"
   },
   {
    "duration": 95307,
    "start_time": "2023-03-28T20:01:02.499Z"
   },
   {
    "duration": 0,
    "start_time": "2023-03-28T20:04:13.523Z"
   },
   {
    "duration": 6706,
    "start_time": "2023-03-28T20:04:50.280Z"
   },
   {
    "duration": 0,
    "start_time": "2023-03-28T20:04:56.991Z"
   },
   {
    "duration": 130308,
    "start_time": "2023-03-28T20:07:21.909Z"
   },
   {
    "duration": 186596,
    "start_time": "2023-03-28T20:17:49.407Z"
   },
   {
    "duration": 118140,
    "start_time": "2023-03-28T20:20:56.006Z"
   },
   {
    "duration": 323,
    "start_time": "2023-03-28T20:22:54.148Z"
   },
   {
    "duration": 4,
    "start_time": "2023-03-28T20:23:52.960Z"
   },
   {
    "duration": 336,
    "start_time": "2023-03-28T20:24:19.241Z"
   },
   {
    "duration": 10222,
    "start_time": "2023-03-28T20:27:04.281Z"
   },
   {
    "duration": 15,
    "start_time": "2023-03-28T20:32:35.263Z"
   },
   {
    "duration": 46,
    "start_time": "2023-03-29T20:59:11.712Z"
   },
   {
    "duration": 952,
    "start_time": "2023-03-29T20:59:13.075Z"
   },
   {
    "duration": 0,
    "start_time": "2023-03-29T20:59:14.028Z"
   },
   {
    "duration": 733,
    "start_time": "2023-03-29T20:59:16.292Z"
   },
   {
    "duration": 17,
    "start_time": "2023-03-29T20:59:31.221Z"
   },
   {
    "duration": 109,
    "start_time": "2023-03-29T20:59:31.424Z"
   },
   {
    "duration": 155,
    "start_time": "2023-03-29T20:59:31.732Z"
   },
   {
    "duration": 376,
    "start_time": "2023-03-29T20:59:32.204Z"
   },
   {
    "duration": 417,
    "start_time": "2023-03-29T20:59:32.582Z"
   },
   {
    "duration": 37,
    "start_time": "2023-03-29T20:59:33.000Z"
   },
   {
    "duration": 72,
    "start_time": "2023-03-29T20:59:33.693Z"
   },
   {
    "duration": 109,
    "start_time": "2023-03-29T20:59:33.906Z"
   },
   {
    "duration": 4,
    "start_time": "2023-03-29T20:59:35.238Z"
   },
   {
    "duration": 454,
    "start_time": "2023-03-29T20:59:35.407Z"
   },
   {
    "duration": 60,
    "start_time": "2023-03-29T20:59:41.935Z"
   },
   {
    "duration": 65,
    "start_time": "2023-03-29T23:16:41.302Z"
   },
   {
    "duration": 48,
    "start_time": "2023-03-29T23:16:52.431Z"
   },
   {
    "duration": 51,
    "start_time": "2023-03-29T23:17:00.869Z"
   },
   {
    "duration": 51,
    "start_time": "2023-03-29T23:17:04.604Z"
   },
   {
    "duration": 1293,
    "start_time": "2023-03-29T23:17:28.240Z"
   },
   {
    "duration": 0,
    "start_time": "2023-03-29T23:17:29.536Z"
   },
   {
    "duration": 0,
    "start_time": "2023-03-29T23:17:29.538Z"
   },
   {
    "duration": 0,
    "start_time": "2023-03-29T23:17:29.539Z"
   },
   {
    "duration": 0,
    "start_time": "2023-03-29T23:17:29.541Z"
   },
   {
    "duration": 0,
    "start_time": "2023-03-29T23:17:29.542Z"
   },
   {
    "duration": 0,
    "start_time": "2023-03-29T23:17:29.543Z"
   },
   {
    "duration": 0,
    "start_time": "2023-03-29T23:17:29.545Z"
   },
   {
    "duration": 0,
    "start_time": "2023-03-29T23:17:29.546Z"
   },
   {
    "duration": 0,
    "start_time": "2023-03-29T23:17:29.547Z"
   },
   {
    "duration": 0,
    "start_time": "2023-03-29T23:17:29.549Z"
   },
   {
    "duration": 0,
    "start_time": "2023-03-29T23:17:29.550Z"
   },
   {
    "duration": 0,
    "start_time": "2023-03-29T23:17:29.552Z"
   },
   {
    "duration": 0,
    "start_time": "2023-03-29T23:17:29.553Z"
   },
   {
    "duration": 0,
    "start_time": "2023-03-29T23:17:29.555Z"
   },
   {
    "duration": 0,
    "start_time": "2023-03-29T23:17:29.556Z"
   },
   {
    "duration": 0,
    "start_time": "2023-03-29T23:17:29.588Z"
   },
   {
    "duration": 0,
    "start_time": "2023-03-29T23:17:29.590Z"
   },
   {
    "duration": 0,
    "start_time": "2023-03-29T23:17:29.591Z"
   },
   {
    "duration": 0,
    "start_time": "2023-03-29T23:17:29.592Z"
   },
   {
    "duration": 0,
    "start_time": "2023-03-29T23:17:29.593Z"
   },
   {
    "duration": 0,
    "start_time": "2023-03-29T23:17:29.594Z"
   },
   {
    "duration": 0,
    "start_time": "2023-03-29T23:17:29.595Z"
   },
   {
    "duration": 0,
    "start_time": "2023-03-29T23:17:29.597Z"
   },
   {
    "duration": 0,
    "start_time": "2023-03-29T23:17:29.600Z"
   },
   {
    "duration": 0,
    "start_time": "2023-03-29T23:17:29.601Z"
   },
   {
    "duration": 0,
    "start_time": "2023-03-29T23:17:29.605Z"
   },
   {
    "duration": 0,
    "start_time": "2023-03-29T23:17:29.607Z"
   },
   {
    "duration": 0,
    "start_time": "2023-03-29T23:17:29.608Z"
   },
   {
    "duration": 0,
    "start_time": "2023-03-29T23:17:29.609Z"
   },
   {
    "duration": 0,
    "start_time": "2023-03-29T23:17:29.610Z"
   },
   {
    "duration": 0,
    "start_time": "2023-03-29T23:17:29.611Z"
   },
   {
    "duration": 0,
    "start_time": "2023-03-29T23:17:29.612Z"
   },
   {
    "duration": 0,
    "start_time": "2023-03-29T23:17:29.613Z"
   },
   {
    "duration": 0,
    "start_time": "2023-03-29T23:17:29.614Z"
   },
   {
    "duration": 0,
    "start_time": "2023-03-29T23:17:29.615Z"
   },
   {
    "duration": 0,
    "start_time": "2023-03-29T23:17:29.616Z"
   },
   {
    "duration": 0,
    "start_time": "2023-03-29T23:17:29.617Z"
   },
   {
    "duration": 10,
    "start_time": "2023-03-29T23:17:47.472Z"
   },
   {
    "duration": 0,
    "start_time": "2023-03-29T23:17:47.484Z"
   },
   {
    "duration": 0,
    "start_time": "2023-03-29T23:17:47.486Z"
   },
   {
    "duration": 0,
    "start_time": "2023-03-29T23:17:47.487Z"
   },
   {
    "duration": 0,
    "start_time": "2023-03-29T23:17:47.488Z"
   },
   {
    "duration": 0,
    "start_time": "2023-03-29T23:17:47.489Z"
   },
   {
    "duration": 0,
    "start_time": "2023-03-29T23:17:47.490Z"
   },
   {
    "duration": 0,
    "start_time": "2023-03-29T23:17:47.490Z"
   },
   {
    "duration": 0,
    "start_time": "2023-03-29T23:17:47.491Z"
   },
   {
    "duration": 0,
    "start_time": "2023-03-29T23:17:47.492Z"
   },
   {
    "duration": 0,
    "start_time": "2023-03-29T23:17:47.492Z"
   },
   {
    "duration": 0,
    "start_time": "2023-03-29T23:17:47.493Z"
   },
   {
    "duration": 0,
    "start_time": "2023-03-29T23:17:47.494Z"
   },
   {
    "duration": 0,
    "start_time": "2023-03-29T23:17:47.495Z"
   },
   {
    "duration": 0,
    "start_time": "2023-03-29T23:17:47.496Z"
   },
   {
    "duration": 0,
    "start_time": "2023-03-29T23:17:47.499Z"
   },
   {
    "duration": 14,
    "start_time": "2023-03-29T23:17:47.501Z"
   },
   {
    "duration": 0,
    "start_time": "2023-03-29T23:17:47.518Z"
   },
   {
    "duration": 0,
    "start_time": "2023-03-29T23:17:47.519Z"
   },
   {
    "duration": 0,
    "start_time": "2023-03-29T23:17:47.520Z"
   },
   {
    "duration": 0,
    "start_time": "2023-03-29T23:17:47.522Z"
   },
   {
    "duration": 0,
    "start_time": "2023-03-29T23:17:47.524Z"
   },
   {
    "duration": 0,
    "start_time": "2023-03-29T23:17:47.526Z"
   },
   {
    "duration": 0,
    "start_time": "2023-03-29T23:17:47.527Z"
   },
   {
    "duration": 0,
    "start_time": "2023-03-29T23:17:47.529Z"
   },
   {
    "duration": 0,
    "start_time": "2023-03-29T23:17:47.530Z"
   },
   {
    "duration": 0,
    "start_time": "2023-03-29T23:17:47.532Z"
   },
   {
    "duration": 0,
    "start_time": "2023-03-29T23:17:47.533Z"
   },
   {
    "duration": 0,
    "start_time": "2023-03-29T23:17:47.588Z"
   },
   {
    "duration": 0,
    "start_time": "2023-03-29T23:17:47.590Z"
   },
   {
    "duration": 0,
    "start_time": "2023-03-29T23:17:47.592Z"
   },
   {
    "duration": 0,
    "start_time": "2023-03-29T23:17:47.593Z"
   },
   {
    "duration": 0,
    "start_time": "2023-03-29T23:17:47.595Z"
   },
   {
    "duration": 0,
    "start_time": "2023-03-29T23:17:47.598Z"
   },
   {
    "duration": 0,
    "start_time": "2023-03-29T23:17:47.599Z"
   },
   {
    "duration": 0,
    "start_time": "2023-03-29T23:17:47.600Z"
   },
   {
    "duration": 0,
    "start_time": "2023-03-29T23:17:47.601Z"
   },
   {
    "duration": 0,
    "start_time": "2023-03-29T23:17:47.602Z"
   },
   {
    "duration": 1705,
    "start_time": "2023-03-29T23:18:41.300Z"
   },
   {
    "duration": 197,
    "start_time": "2023-03-29T23:19:24.071Z"
   },
   {
    "duration": 5,
    "start_time": "2023-03-29T23:19:33.157Z"
   },
   {
    "duration": 3198,
    "start_time": "2023-03-29T23:19:33.165Z"
   },
   {
    "duration": 19,
    "start_time": "2023-03-29T23:19:36.365Z"
   },
   {
    "duration": 187,
    "start_time": "2023-03-29T23:19:36.386Z"
   },
   {
    "duration": 242,
    "start_time": "2023-03-29T23:19:36.575Z"
   },
   {
    "duration": 513,
    "start_time": "2023-03-29T23:19:36.819Z"
   },
   {
    "duration": 574,
    "start_time": "2023-03-29T23:19:37.334Z"
   },
   {
    "duration": 39,
    "start_time": "2023-03-29T23:19:37.909Z"
   },
   {
    "duration": 86,
    "start_time": "2023-03-29T23:19:37.950Z"
   },
   {
    "duration": 160,
    "start_time": "2023-03-29T23:19:38.038Z"
   },
   {
    "duration": 5,
    "start_time": "2023-03-29T23:19:38.199Z"
   },
   {
    "duration": 273,
    "start_time": "2023-03-29T23:19:38.206Z"
   },
   {
    "duration": 687,
    "start_time": "2023-03-29T23:19:38.481Z"
   },
   {
    "duration": 25,
    "start_time": "2023-03-29T23:19:39.172Z"
   },
   {
    "duration": 37,
    "start_time": "2023-03-29T23:19:39.198Z"
   },
   {
    "duration": 60,
    "start_time": "2023-03-29T23:19:39.237Z"
   },
   {
    "duration": 67,
    "start_time": "2023-03-29T23:19:39.302Z"
   },
   {
    "duration": 444,
    "start_time": "2023-03-29T23:19:39.371Z"
   },
   {
    "duration": 29,
    "start_time": "2023-03-29T23:19:39.817Z"
   },
   {
    "duration": 87750,
    "start_time": "2023-03-29T23:19:39.847Z"
   }
  ],
  "kernelspec": {
   "display_name": "Python 3 (ipykernel)",
   "language": "python",
   "name": "python3"
  },
  "language_info": {
   "codemirror_mode": {
    "name": "ipython",
    "version": 3
   },
   "file_extension": ".py",
   "mimetype": "text/x-python",
   "name": "python",
   "nbconvert_exporter": "python",
   "pygments_lexer": "ipython3",
   "version": "3.9.13"
  },
  "toc": {
   "base_numbering": 1,
   "nav_menu": {},
   "number_sections": true,
   "sideBar": true,
   "skip_h1_title": true,
   "title_cell": "Table of Contents",
   "title_sidebar": "Contents",
   "toc_cell": false,
   "toc_position": {},
   "toc_section_display": true,
   "toc_window_display": false
  }
 },
 "nbformat": 4,
 "nbformat_minor": 2
}
